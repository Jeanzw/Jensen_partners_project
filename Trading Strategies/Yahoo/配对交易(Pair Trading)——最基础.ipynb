{
 "cells": [
  {
   "cell_type": "markdown",
   "metadata": {},
   "source": [
    "#### 我们对比的是JPMorgan(JPM)和Goldman(GS)来说配对交易，这两只股票的走势比较像，一旦走的比较像，我们就可以看看这两只股票是否存在协整关系\n",
    "#### 我们不做stationary的部分，直接看non-stationary的部分，因为我们默认股票是有shift的趋势"
   ]
  },
  {
   "cell_type": "code",
   "execution_count": 1,
   "metadata": {},
   "outputs": [],
   "source": [
    "import pandas as pd\n",
    "import numpy as np\n",
    "import matplotlib.pyplot as plt\n",
    "import pandas_datareader as pdr"
   ]
  },
  {
   "cell_type": "markdown",
   "metadata": {},
   "source": [
    "## 前导知识"
   ]
  },
  {
   "cell_type": "code",
   "execution_count": 2,
   "metadata": {},
   "outputs": [
    {
     "data": {
      "text/plain": [
       "array([1, 2, 3, 4, 5])"
      ]
     },
     "execution_count": 2,
     "metadata": {},
     "output_type": "execute_result"
    }
   ],
   "source": [
    "#我们后来讲协整会讲到最小二乘法以及线性回归\n",
    "m = np.array([1,2,3,4,5])\n",
    "n = m*5 + 2\n",
    "m\n",
    "##slope,intercept = np.polyfit(m,n,1).round(2)\n",
    "##print(slope,intercept)"
   ]
  },
  {
   "cell_type": "markdown",
   "metadata": {},
   "source": [
    "## 1.数据准备 & 回测准备"
   ]
  },
  {
   "cell_type": "code",
   "execution_count": 5,
   "metadata": {},
   "outputs": [
    {
     "data": {
      "text/html": [
       "<div>\n",
       "<style scoped>\n",
       "    .dataframe tbody tr th:only-of-type {\n",
       "        vertical-align: middle;\n",
       "    }\n",
       "\n",
       "    .dataframe tbody tr th {\n",
       "        vertical-align: top;\n",
       "    }\n",
       "\n",
       "    .dataframe thead th {\n",
       "        text-align: right;\n",
       "    }\n",
       "</style>\n",
       "<table border=\"1\" class=\"dataframe\">\n",
       "  <thead>\n",
       "    <tr style=\"text-align: right;\">\n",
       "      <th>Symbols</th>\n",
       "      <th>JPM</th>\n",
       "      <th>GS</th>\n",
       "    </tr>\n",
       "    <tr>\n",
       "      <th>Date</th>\n",
       "      <th></th>\n",
       "      <th></th>\n",
       "    </tr>\n",
       "  </thead>\n",
       "  <tbody>\n",
       "    <tr>\n",
       "      <td>2018-01-02</td>\n",
       "      <td>107.949997</td>\n",
       "      <td>255.669998</td>\n",
       "    </tr>\n",
       "    <tr>\n",
       "      <td>2018-01-03</td>\n",
       "      <td>108.059998</td>\n",
       "      <td>253.289993</td>\n",
       "    </tr>\n",
       "    <tr>\n",
       "      <td>2018-01-04</td>\n",
       "      <td>109.040001</td>\n",
       "      <td>256.829987</td>\n",
       "    </tr>\n",
       "    <tr>\n",
       "      <td>2018-01-05</td>\n",
       "      <td>108.339996</td>\n",
       "      <td>255.520004</td>\n",
       "    </tr>\n",
       "    <tr>\n",
       "      <td>2018-01-08</td>\n",
       "      <td>108.500000</td>\n",
       "      <td>251.809998</td>\n",
       "    </tr>\n",
       "  </tbody>\n",
       "</table>\n",
       "</div>"
      ],
      "text/plain": [
       "Symbols            JPM          GS\n",
       "Date                              \n",
       "2018-01-02  107.949997  255.669998\n",
       "2018-01-03  108.059998  253.289993\n",
       "2018-01-04  109.040001  256.829987\n",
       "2018-01-05  108.339996  255.520004\n",
       "2018-01-08  108.500000  251.809998"
      ]
     },
     "execution_count": 5,
     "metadata": {},
     "output_type": "execute_result"
    }
   ],
   "source": [
    "data = pdr.get_data_yahoo(['JPM','GS'], start = '2018-1-1', end = '2019-7-25')['Close']\n",
    "#data = pd.DataFrame(data)\n",
    "\n",
    "data.head()"
   ]
  },
  {
   "cell_type": "markdown",
   "metadata": {},
   "source": [
    "#### 这里我们再说一下如果我们一个个抽取股票信息，如何合并"
   ]
  },
  {
   "cell_type": "code",
   "execution_count": 6,
   "metadata": {},
   "outputs": [
    {
     "data": {
      "text/html": [
       "<div>\n",
       "<style scoped>\n",
       "    .dataframe tbody tr th:only-of-type {\n",
       "        vertical-align: middle;\n",
       "    }\n",
       "\n",
       "    .dataframe tbody tr th {\n",
       "        vertical-align: top;\n",
       "    }\n",
       "\n",
       "    .dataframe thead th {\n",
       "        text-align: right;\n",
       "    }\n",
       "</style>\n",
       "<table border=\"1\" class=\"dataframe\">\n",
       "  <thead>\n",
       "    <tr style=\"text-align: right;\">\n",
       "      <th></th>\n",
       "      <th>Close</th>\n",
       "    </tr>\n",
       "    <tr>\n",
       "      <th>Date</th>\n",
       "      <th></th>\n",
       "    </tr>\n",
       "  </thead>\n",
       "  <tbody>\n",
       "    <tr>\n",
       "      <td>2018-01-02</td>\n",
       "      <td>255.669998</td>\n",
       "    </tr>\n",
       "    <tr>\n",
       "      <td>2018-01-03</td>\n",
       "      <td>253.289993</td>\n",
       "    </tr>\n",
       "    <tr>\n",
       "      <td>2018-01-04</td>\n",
       "      <td>256.829987</td>\n",
       "    </tr>\n",
       "    <tr>\n",
       "      <td>2018-01-05</td>\n",
       "      <td>255.520004</td>\n",
       "    </tr>\n",
       "    <tr>\n",
       "      <td>2018-01-08</td>\n",
       "      <td>251.809998</td>\n",
       "    </tr>\n",
       "    <tr>\n",
       "      <td>...</td>\n",
       "      <td>...</td>\n",
       "    </tr>\n",
       "    <tr>\n",
       "      <td>2019-07-22</td>\n",
       "      <td>214.000000</td>\n",
       "    </tr>\n",
       "    <tr>\n",
       "      <td>2019-07-23</td>\n",
       "      <td>219.429993</td>\n",
       "    </tr>\n",
       "    <tr>\n",
       "      <td>2019-07-24</td>\n",
       "      <td>222.029999</td>\n",
       "    </tr>\n",
       "    <tr>\n",
       "      <td>2019-07-25</td>\n",
       "      <td>219.979996</td>\n",
       "    </tr>\n",
       "    <tr>\n",
       "      <td>2019-07-26</td>\n",
       "      <td>222.139999</td>\n",
       "    </tr>\n",
       "  </tbody>\n",
       "</table>\n",
       "<p>394 rows × 1 columns</p>\n",
       "</div>"
      ],
      "text/plain": [
       "                 Close\n",
       "Date                  \n",
       "2018-01-02  255.669998\n",
       "2018-01-03  253.289993\n",
       "2018-01-04  256.829987\n",
       "2018-01-05  255.520004\n",
       "2018-01-08  251.809998\n",
       "...                ...\n",
       "2019-07-22  214.000000\n",
       "2019-07-23  219.429993\n",
       "2019-07-24  222.029999\n",
       "2019-07-25  219.979996\n",
       "2019-07-26  222.139999\n",
       "\n",
       "[394 rows x 1 columns]"
      ]
     },
     "execution_count": 6,
     "metadata": {},
     "output_type": "execute_result"
    }
   ],
   "source": [
    "stocks_pair = ['JPM','GS']\n",
    "JPM = pdr.get_data_yahoo('JPM', start = '2018-1-1', end = '2019-7-25')[['Close']]\n",
    "JPM = pd.DataFrame(JPM)\n",
    "GS = pdr.get_data_yahoo('GS', start = '2018-1-1', end = '2019-7-25')[['Close']]\n",
    "GS = pd.DataFrame(GS)\n",
    "JPM\n",
    "GS"
   ]
  },
  {
   "cell_type": "code",
   "execution_count": 7,
   "metadata": {},
   "outputs": [
    {
     "data": {
      "text/html": [
       "<div>\n",
       "<style scoped>\n",
       "    .dataframe tbody tr th:only-of-type {\n",
       "        vertical-align: middle;\n",
       "    }\n",
       "\n",
       "    .dataframe tbody tr th {\n",
       "        vertical-align: top;\n",
       "    }\n",
       "\n",
       "    .dataframe thead th {\n",
       "        text-align: right;\n",
       "    }\n",
       "</style>\n",
       "<table border=\"1\" class=\"dataframe\">\n",
       "  <thead>\n",
       "    <tr style=\"text-align: right;\">\n",
       "      <th></th>\n",
       "      <th>JPM</th>\n",
       "      <th>GS</th>\n",
       "    </tr>\n",
       "    <tr>\n",
       "      <th>Date</th>\n",
       "      <th></th>\n",
       "      <th></th>\n",
       "    </tr>\n",
       "  </thead>\n",
       "  <tbody>\n",
       "    <tr>\n",
       "      <td>2018-01-02</td>\n",
       "      <td>107.949997</td>\n",
       "      <td>255.669998</td>\n",
       "    </tr>\n",
       "    <tr>\n",
       "      <td>2018-01-03</td>\n",
       "      <td>108.059998</td>\n",
       "      <td>253.289993</td>\n",
       "    </tr>\n",
       "    <tr>\n",
       "      <td>2018-01-04</td>\n",
       "      <td>109.040001</td>\n",
       "      <td>256.829987</td>\n",
       "    </tr>\n",
       "    <tr>\n",
       "      <td>2018-01-05</td>\n",
       "      <td>108.339996</td>\n",
       "      <td>255.520004</td>\n",
       "    </tr>\n",
       "    <tr>\n",
       "      <td>2018-01-08</td>\n",
       "      <td>108.500000</td>\n",
       "      <td>251.809998</td>\n",
       "    </tr>\n",
       "  </tbody>\n",
       "</table>\n",
       "</div>"
      ],
      "text/plain": [
       "                   JPM          GS\n",
       "Date                              \n",
       "2018-01-02  107.949997  255.669998\n",
       "2018-01-03  108.059998  253.289993\n",
       "2018-01-04  109.040001  256.829987\n",
       "2018-01-05  108.339996  255.520004\n",
       "2018-01-08  108.500000  251.809998"
      ]
     },
     "execution_count": 7,
     "metadata": {},
     "output_type": "execute_result"
    }
   ],
   "source": [
    "data = pd.concat([JPM,GS],axis = 1)\n",
    "data.columns = stocks_pair   #我们要把名字替换原本的close\n",
    "data.head()"
   ]
  },
  {
   "cell_type": "code",
   "execution_count": 8,
   "metadata": {},
   "outputs": [
    {
     "data": {
      "image/png": "[encoded data removed]",
      "text/plain": [
       "<Figure size 720x432 with 1 Axes>"
      ]
     },
     "metadata": {
      "needs_background": "light"
     },
     "output_type": "display_data"
    }
   ],
   "source": [
    "data.plot(figsize = (10,6))\n",
    "plt.show()   \n",
    "#我们可以看出GS的股价是高于JPM的，那么我们可以算出一个平均价差，然后给上下都有一个阈值，然后超过阈值的时候我们都是做多一部分做空一部分"
   ]
  },
  {
   "cell_type": "markdown",
   "metadata": {},
   "source": [
    "#### 那么我们怎么去做这个价差呢？那么我们会考虑多因子，然后将多因子标准化。我们之所以要多因子标准化那是由于因子自身导致的，比如说市盈率和市净率可能是我们多因子中的两个，然后我们如果单独来比较市盈率和市净率就会发现可能前者20+后者就是个位数，那么其实不好比较。如果说我们又考虑这家公司的实体价值，那么可能就是几百亿，那么我们市盈率市净率的个位数或者双位数基本就可以忽略不计了，根本没办法比较。那么在这种情况下，我们就要对每个因子进行标准化。"
   ]
  },
  {
   "cell_type": "markdown",
   "metadata": {},
   "source": [
    "#### 标准化有很多不同的方法，这里我们来讲一种：\n",
    "##### standardized = (spread - spread.mean())/spread.std()  -> 这样子我们就可以将原本绝对的价差spread给标准化\n",
    "\n",
    "#### 这样做的一个好处就是，比如说我们算出来是1.5倍标准差，那么我们就认为如果超过1.5倍这个范畴就是小概率事件，那么我们就会认为不可能持续在1.5倍范畴之外，那么如果在1.5倍范畴之外，我们就认为会均值回归\n",
    "#### 但是这样做也有缺陷：如果我们这么做，那么我们就默认spread是符合正态分布的，从而我们才能用正态分布的方法来进行标准化。但是是否价差spread一定是正态分布呢？不一定，因为股票价格的return是符合正态分布的，但是股票之间的差我们其实不知道的。\n",
    "\n",
    "#### 然后我们就可以用μ + 1.5倍标准差作为我们的上轨，μ - 1.5倍标准差作为我们的下轨"
   ]
  },
  {
   "cell_type": "markdown",
   "metadata": {},
   "source": [
    "## 2.策略开发思路"
   ]
  },
  {
   "cell_type": "markdown",
   "metadata": {},
   "source": [
    "#### 我们可以找到这两只股票之间的价差，只要价差足够大或者足够小都会做一个均值回归。"
   ]
  },
  {
   "cell_type": "code",
   "execution_count": 10,
   "metadata": {},
   "outputs": [
    {
     "data": {
      "text/html": [
       "<div>\n",
       "<style scoped>\n",
       "    .dataframe tbody tr th:only-of-type {\n",
       "        vertical-align: middle;\n",
       "    }\n",
       "\n",
       "    .dataframe tbody tr th {\n",
       "        vertical-align: top;\n",
       "    }\n",
       "\n",
       "    .dataframe thead th {\n",
       "        text-align: right;\n",
       "    }\n",
       "</style>\n",
       "<table border=\"1\" class=\"dataframe\">\n",
       "  <thead>\n",
       "    <tr style=\"text-align: right;\">\n",
       "      <th></th>\n",
       "      <th>JPM</th>\n",
       "      <th>GS</th>\n",
       "      <th>priceDelta</th>\n",
       "    </tr>\n",
       "    <tr>\n",
       "      <th>Date</th>\n",
       "      <th></th>\n",
       "      <th></th>\n",
       "      <th></th>\n",
       "    </tr>\n",
       "  </thead>\n",
       "  <tbody>\n",
       "    <tr>\n",
       "      <td>2018-01-02</td>\n",
       "      <td>107.949997</td>\n",
       "      <td>255.669998</td>\n",
       "      <td>147.720001</td>\n",
       "    </tr>\n",
       "    <tr>\n",
       "      <td>2018-01-03</td>\n",
       "      <td>108.059998</td>\n",
       "      <td>253.289993</td>\n",
       "      <td>145.229996</td>\n",
       "    </tr>\n",
       "    <tr>\n",
       "      <td>2018-01-04</td>\n",
       "      <td>109.040001</td>\n",
       "      <td>256.829987</td>\n",
       "      <td>147.789986</td>\n",
       "    </tr>\n",
       "    <tr>\n",
       "      <td>2018-01-05</td>\n",
       "      <td>108.339996</td>\n",
       "      <td>255.520004</td>\n",
       "      <td>147.180008</td>\n",
       "    </tr>\n",
       "    <tr>\n",
       "      <td>2018-01-08</td>\n",
       "      <td>108.500000</td>\n",
       "      <td>251.809998</td>\n",
       "      <td>143.309998</td>\n",
       "    </tr>\n",
       "  </tbody>\n",
       "</table>\n",
       "</div>"
      ],
      "text/plain": [
       "                   JPM          GS  priceDelta\n",
       "Date                                          \n",
       "2018-01-02  107.949997  255.669998  147.720001\n",
       "2018-01-03  108.059998  253.289993  145.229996\n",
       "2018-01-04  109.040001  256.829987  147.789986\n",
       "2018-01-05  108.339996  255.520004  147.180008\n",
       "2018-01-08  108.500000  251.809998  143.309998"
      ]
     },
     "execution_count": 10,
     "metadata": {},
     "output_type": "execute_result"
    }
   ],
   "source": [
    "data['priceDelta'] = data['GS'] - data['JPM']  #这个就是价差\n",
    "data.head()"
   ]
  },
  {
   "cell_type": "code",
   "execution_count": 11,
   "metadata": {},
   "outputs": [
    {
     "data": {
      "text/plain": [
       "<matplotlib.lines.Line2D at 0x10a1aa69508>"
      ]
     },
     "execution_count": 11,
     "metadata": {},
     "output_type": "execute_result"
    },
    {
     "data": {
      "image/png": "[encoded data removed]",
      "text/plain": [
       "<Figure size 720x432 with 1 Axes>"
      ]
     },
     "metadata": {
      "needs_background": "light"
     },
     "output_type": "display_data"
    }
   ],
   "source": [
    "plt.figure()\n",
    "data['priceDelta'].plot(figsize=(10,6))\n",
    "plt.ylabel('Spread')\n",
    "plt.axhline(data['priceDelta'].mean())  #这里其实就是说我们把这两只股票价差spread的均值画一条线\n",
    "#plt.show()"
   ]
  },
  {
   "cell_type": "markdown",
   "metadata": {},
   "source": [
    "#### 接下来我们就要做出一个standardized spread（Z-score）"
   ]
  },
  {
   "cell_type": "code",
   "execution_count": 12,
   "metadata": {},
   "outputs": [
    {
     "data": {
      "text/html": [
       "<div>\n",
       "<style scoped>\n",
       "    .dataframe tbody tr th:only-of-type {\n",
       "        vertical-align: middle;\n",
       "    }\n",
       "\n",
       "    .dataframe tbody tr th {\n",
       "        vertical-align: top;\n",
       "    }\n",
       "\n",
       "    .dataframe thead th {\n",
       "        text-align: right;\n",
       "    }\n",
       "</style>\n",
       "<table border=\"1\" class=\"dataframe\">\n",
       "  <thead>\n",
       "    <tr style=\"text-align: right;\">\n",
       "      <th></th>\n",
       "      <th>JPM</th>\n",
       "      <th>GS</th>\n",
       "      <th>priceDelta</th>\n",
       "      <th>zscore</th>\n",
       "    </tr>\n",
       "    <tr>\n",
       "      <th>Date</th>\n",
       "      <th></th>\n",
       "      <th></th>\n",
       "      <th></th>\n",
       "      <th></th>\n",
       "    </tr>\n",
       "  </thead>\n",
       "  <tbody>\n",
       "    <tr>\n",
       "      <td>2018-01-02</td>\n",
       "      <td>107.949997</td>\n",
       "      <td>255.669998</td>\n",
       "      <td>147.720001</td>\n",
       "      <td>1.577738</td>\n",
       "    </tr>\n",
       "    <tr>\n",
       "      <td>2018-01-03</td>\n",
       "      <td>108.059998</td>\n",
       "      <td>253.289993</td>\n",
       "      <td>145.229996</td>\n",
       "      <td>1.471837</td>\n",
       "    </tr>\n",
       "    <tr>\n",
       "      <td>2018-01-04</td>\n",
       "      <td>109.040001</td>\n",
       "      <td>256.829987</td>\n",
       "      <td>147.789986</td>\n",
       "      <td>1.580715</td>\n",
       "    </tr>\n",
       "    <tr>\n",
       "      <td>2018-01-05</td>\n",
       "      <td>108.339996</td>\n",
       "      <td>255.520004</td>\n",
       "      <td>147.180008</td>\n",
       "      <td>1.554772</td>\n",
       "    </tr>\n",
       "    <tr>\n",
       "      <td>2018-01-08</td>\n",
       "      <td>108.500000</td>\n",
       "      <td>251.809998</td>\n",
       "      <td>143.309998</td>\n",
       "      <td>1.390178</td>\n",
       "    </tr>\n",
       "  </tbody>\n",
       "</table>\n",
       "</div>"
      ],
      "text/plain": [
       "                   JPM          GS  priceDelta    zscore\n",
       "Date                                                    \n",
       "2018-01-02  107.949997  255.669998  147.720001  1.577738\n",
       "2018-01-03  108.059998  253.289993  145.229996  1.471837\n",
       "2018-01-04  109.040001  256.829987  147.789986  1.580715\n",
       "2018-01-05  108.339996  255.520004  147.180008  1.554772\n",
       "2018-01-08  108.500000  251.809998  143.309998  1.390178"
      ]
     },
     "execution_count": 12,
     "metadata": {},
     "output_type": "execute_result"
    }
   ],
   "source": [
    "data['zscore'] = (data['priceDelta'] - np.mean(data['priceDelta']))/np.std(data['priceDelta'])   #价差标准化，这里我们相当于把mean当做了0\n",
    "data.head()"
   ]
  },
  {
   "cell_type": "code",
   "execution_count": 13,
   "metadata": {},
   "outputs": [
    {
     "data": {
      "text/html": [
       "<div>\n",
       "<style scoped>\n",
       "    .dataframe tbody tr th:only-of-type {\n",
       "        vertical-align: middle;\n",
       "    }\n",
       "\n",
       "    .dataframe tbody tr th {\n",
       "        vertical-align: top;\n",
       "    }\n",
       "\n",
       "    .dataframe thead th {\n",
       "        text-align: right;\n",
       "    }\n",
       "</style>\n",
       "<table border=\"1\" class=\"dataframe\">\n",
       "  <thead>\n",
       "    <tr style=\"text-align: right;\">\n",
       "      <th></th>\n",
       "      <th>JPM</th>\n",
       "      <th>GS</th>\n",
       "      <th>priceDelta</th>\n",
       "      <th>zscore</th>\n",
       "    </tr>\n",
       "    <tr>\n",
       "      <th>Date</th>\n",
       "      <th></th>\n",
       "      <th></th>\n",
       "      <th></th>\n",
       "      <th></th>\n",
       "    </tr>\n",
       "  </thead>\n",
       "  <tbody>\n",
       "    <tr>\n",
       "      <td>2018-01-03</td>\n",
       "      <td>108.059998</td>\n",
       "      <td>253.289993</td>\n",
       "      <td>145.229996</td>\n",
       "      <td>1.471837</td>\n",
       "    </tr>\n",
       "    <tr>\n",
       "      <td>2018-01-08</td>\n",
       "      <td>108.500000</td>\n",
       "      <td>251.809998</td>\n",
       "      <td>143.309998</td>\n",
       "      <td>1.390178</td>\n",
       "    </tr>\n",
       "    <tr>\n",
       "      <td>2018-01-09</td>\n",
       "      <td>109.050003</td>\n",
       "      <td>253.940002</td>\n",
       "      <td>144.889999</td>\n",
       "      <td>1.457377</td>\n",
       "    </tr>\n",
       "    <tr>\n",
       "      <td>2018-01-10</td>\n",
       "      <td>110.250000</td>\n",
       "      <td>254.330002</td>\n",
       "      <td>144.080002</td>\n",
       "      <td>1.422927</td>\n",
       "    </tr>\n",
       "    <tr>\n",
       "      <td>2018-01-11</td>\n",
       "      <td>110.839996</td>\n",
       "      <td>255.130005</td>\n",
       "      <td>144.290009</td>\n",
       "      <td>1.431859</td>\n",
       "    </tr>\n",
       "  </tbody>\n",
       "</table>\n",
       "</div>"
      ],
      "text/plain": [
       "                   JPM          GS  priceDelta    zscore\n",
       "Date                                                    \n",
       "2018-01-03  108.059998  253.289993  145.229996  1.471837\n",
       "2018-01-08  108.500000  251.809998  143.309998  1.390178\n",
       "2018-01-09  109.050003  253.940002  144.889999  1.457377\n",
       "2018-01-10  110.250000  254.330002  144.080002  1.422927\n",
       "2018-01-11  110.839996  255.130005  144.290009  1.431859"
      ]
     },
     "execution_count": 13,
     "metadata": {},
     "output_type": "execute_result"
    }
   ],
   "source": [
    "zscore_threshold = data['zscore'] < 1.5\n",
    "data[zscore_threshold].head()  #这样就是把数据中zscore<1.5的给挑出来"
   ]
  },
  {
   "cell_type": "code",
   "execution_count": 15,
   "metadata": {},
   "outputs": [
    {
     "data": {
      "text/plain": [
       "Date\n",
       "2018-01-02    False\n",
       "2018-01-03     True\n",
       "2018-01-04    False\n",
       "2018-01-05    False\n",
       "2018-01-08     True\n",
       "Name: zscore, dtype: bool"
      ]
     },
     "execution_count": 15,
     "metadata": {},
     "output_type": "execute_result"
    }
   ],
   "source": [
    "zscore_threshold.head()  #如果是这样打印的话，那么其实如果< 1.5的就会显示True，反之是False,但是还是会把所有的内容打印出来"
   ]
  },
  {
   "cell_type": "code",
   "execution_count": 16,
   "metadata": {},
   "outputs": [
    {
     "name": "stdout",
     "output_type": "stream",
     "text": [
      "17\n"
     ]
    }
   ],
   "source": [
    "print(len(data[data['zscore']<-1.5])) #print出来是17，也就是说理论上我们可能存在17天的zscore是小于-1.5的"
   ]
  },
  {
   "cell_type": "markdown",
   "metadata": {},
   "source": [
    "#### 如果这里zscore>1.5，那么说明价差是突破了上限，而我们价差是GS - JPM，那么就说明GS太多了，那么我们就要做空GS,做多JPM\n",
    "#### 如果这里zscore<-1.5，那么说明价差是突破了下限，而我们价差是GS - JPM，那么就说明GS太少了，那么我们就要做多GS,做空JPM"
   ]
  },
  {
   "cell_type": "markdown",
   "metadata": {},
   "source": [
    "#### 这里其实找到开仓和空仓的点并不难，难得是找到平仓的点，也就是mean = 0的时候。我们可以像做mean-reverting那样子，前后两个数据相乘小于0这么做\n",
    "#### 但是如果我们这里是想要当我们的价差回到了正负0.5个标准差的范围内我们就平仓，因为如果要求回到0真的要求太严苛了，那么我们很多钱都赚不到了"
   ]
  },
  {
   "cell_type": "code",
   "execution_count": 17,
   "metadata": {},
   "outputs": [
    {
     "data": {
      "text/html": [
       "<div>\n",
       "<style scoped>\n",
       "    .dataframe tbody tr th:only-of-type {\n",
       "        vertical-align: middle;\n",
       "    }\n",
       "\n",
       "    .dataframe tbody tr th {\n",
       "        vertical-align: top;\n",
       "    }\n",
       "\n",
       "    .dataframe thead th {\n",
       "        text-align: right;\n",
       "    }\n",
       "</style>\n",
       "<table border=\"1\" class=\"dataframe\">\n",
       "  <thead>\n",
       "    <tr style=\"text-align: right;\">\n",
       "      <th></th>\n",
       "      <th>JPM</th>\n",
       "      <th>GS</th>\n",
       "      <th>priceDelta</th>\n",
       "      <th>zscore</th>\n",
       "      <th>position_GS</th>\n",
       "    </tr>\n",
       "    <tr>\n",
       "      <th>Date</th>\n",
       "      <th></th>\n",
       "      <th></th>\n",
       "      <th></th>\n",
       "      <th></th>\n",
       "      <th></th>\n",
       "    </tr>\n",
       "  </thead>\n",
       "  <tbody>\n",
       "    <tr>\n",
       "      <td>2018-01-02</td>\n",
       "      <td>107.949997</td>\n",
       "      <td>255.669998</td>\n",
       "      <td>147.720001</td>\n",
       "      <td>1.577738</td>\n",
       "      <td>-1.0</td>\n",
       "    </tr>\n",
       "    <tr>\n",
       "      <td>2018-01-03</td>\n",
       "      <td>108.059998</td>\n",
       "      <td>253.289993</td>\n",
       "      <td>145.229996</td>\n",
       "      <td>1.471837</td>\n",
       "      <td>NaN</td>\n",
       "    </tr>\n",
       "    <tr>\n",
       "      <td>2018-01-04</td>\n",
       "      <td>109.040001</td>\n",
       "      <td>256.829987</td>\n",
       "      <td>147.789986</td>\n",
       "      <td>1.580715</td>\n",
       "      <td>-1.0</td>\n",
       "    </tr>\n",
       "    <tr>\n",
       "      <td>2018-01-05</td>\n",
       "      <td>108.339996</td>\n",
       "      <td>255.520004</td>\n",
       "      <td>147.180008</td>\n",
       "      <td>1.554772</td>\n",
       "      <td>-1.0</td>\n",
       "    </tr>\n",
       "    <tr>\n",
       "      <td>2018-01-08</td>\n",
       "      <td>108.500000</td>\n",
       "      <td>251.809998</td>\n",
       "      <td>143.309998</td>\n",
       "      <td>1.390178</td>\n",
       "      <td>NaN</td>\n",
       "    </tr>\n",
       "    <tr>\n",
       "      <td>2018-01-09</td>\n",
       "      <td>109.050003</td>\n",
       "      <td>253.940002</td>\n",
       "      <td>144.889999</td>\n",
       "      <td>1.457377</td>\n",
       "      <td>NaN</td>\n",
       "    </tr>\n",
       "    <tr>\n",
       "      <td>2018-01-10</td>\n",
       "      <td>110.250000</td>\n",
       "      <td>254.330002</td>\n",
       "      <td>144.080002</td>\n",
       "      <td>1.422927</td>\n",
       "      <td>NaN</td>\n",
       "    </tr>\n",
       "    <tr>\n",
       "      <td>2018-01-11</td>\n",
       "      <td>110.839996</td>\n",
       "      <td>255.130005</td>\n",
       "      <td>144.290009</td>\n",
       "      <td>1.431859</td>\n",
       "      <td>NaN</td>\n",
       "    </tr>\n",
       "    <tr>\n",
       "      <td>2018-01-12</td>\n",
       "      <td>112.669998</td>\n",
       "      <td>257.029999</td>\n",
       "      <td>144.360001</td>\n",
       "      <td>1.434835</td>\n",
       "      <td>NaN</td>\n",
       "    </tr>\n",
       "    <tr>\n",
       "      <td>2018-01-16</td>\n",
       "      <td>112.269997</td>\n",
       "      <td>258.459991</td>\n",
       "      <td>146.189995</td>\n",
       "      <td>1.512666</td>\n",
       "      <td>-1.0</td>\n",
       "    </tr>\n",
       "  </tbody>\n",
       "</table>\n",
       "</div>"
      ],
      "text/plain": [
       "                   JPM          GS  priceDelta    zscore  position_GS\n",
       "Date                                                                 \n",
       "2018-01-02  107.949997  255.669998  147.720001  1.577738         -1.0\n",
       "2018-01-03  108.059998  253.289993  145.229996  1.471837          NaN\n",
       "2018-01-04  109.040001  256.829987  147.789986  1.580715         -1.0\n",
       "2018-01-05  108.339996  255.520004  147.180008  1.554772         -1.0\n",
       "2018-01-08  108.500000  251.809998  143.309998  1.390178          NaN\n",
       "2018-01-09  109.050003  253.940002  144.889999  1.457377          NaN\n",
       "2018-01-10  110.250000  254.330002  144.080002  1.422927          NaN\n",
       "2018-01-11  110.839996  255.130005  144.290009  1.431859          NaN\n",
       "2018-01-12  112.669998  257.029999  144.360001  1.434835          NaN\n",
       "2018-01-16  112.269997  258.459991  146.189995  1.512666         -1.0"
      ]
     },
     "execution_count": 17,
     "metadata": {},
     "output_type": "execute_result"
    }
   ],
   "source": [
    "data['position_GS'] = np.where(data['zscore'] > 1.5, -1, np.nan)   \n",
    "#我们可以看出来，这里的position_1针对的是GS，如果大于1.5就说明GS-JPM价差太大，那么我们需要做空GS做多JPM。如果不是大于1.5那么就给一个nan，相当于我们后面要填充\n",
    "data['position_GS'] = np.where(data['zscore'] < -1.5, 1, data['position_GS'])   \n",
    "#如果小于-1.5相当于越过了下边的阈值，那么我们相当于就要做多GS，做空JPM\n",
    "data['position_GS'] = np.where(abs(data['zscore']) < 0.5, 0, data['position_GS'])   \n",
    "#abs()绝对值函数。我们这里其实就是在算正负0.5的标准差区间。剩下的如果不满足这个条件，你原来该是啥还是啥\n",
    "data.head(10)"
   ]
  },
  {
   "cell_type": "markdown",
   "metadata": {},
   "source": [
    "### 产生交易信号"
   ]
  },
  {
   "cell_type": "code",
   "execution_count": 21,
   "metadata": {},
   "outputs": [
    {
     "data": {
      "text/html": [
       "<div>\n",
       "<style scoped>\n",
       "    .dataframe tbody tr th:only-of-type {\n",
       "        vertical-align: middle;\n",
       "    }\n",
       "\n",
       "    .dataframe tbody tr th {\n",
       "        vertical-align: top;\n",
       "    }\n",
       "\n",
       "    .dataframe thead th {\n",
       "        text-align: right;\n",
       "    }\n",
       "</style>\n",
       "<table border=\"1\" class=\"dataframe\">\n",
       "  <thead>\n",
       "    <tr style=\"text-align: right;\">\n",
       "      <th></th>\n",
       "      <th>JPM</th>\n",
       "      <th>GS</th>\n",
       "      <th>priceDelta</th>\n",
       "      <th>zscore</th>\n",
       "      <th>position_GS</th>\n",
       "    </tr>\n",
       "    <tr>\n",
       "      <th>Date</th>\n",
       "      <th></th>\n",
       "      <th></th>\n",
       "      <th></th>\n",
       "      <th></th>\n",
       "      <th></th>\n",
       "    </tr>\n",
       "  </thead>\n",
       "  <tbody>\n",
       "    <tr>\n",
       "      <td>2018-01-02</td>\n",
       "      <td>107.949997</td>\n",
       "      <td>255.669998</td>\n",
       "      <td>147.720001</td>\n",
       "      <td>1.577738</td>\n",
       "      <td>-1.0</td>\n",
       "    </tr>\n",
       "    <tr>\n",
       "      <td>2018-01-03</td>\n",
       "      <td>108.059998</td>\n",
       "      <td>253.289993</td>\n",
       "      <td>145.229996</td>\n",
       "      <td>1.471837</td>\n",
       "      <td>-1.0</td>\n",
       "    </tr>\n",
       "    <tr>\n",
       "      <td>2018-01-04</td>\n",
       "      <td>109.040001</td>\n",
       "      <td>256.829987</td>\n",
       "      <td>147.789986</td>\n",
       "      <td>1.580715</td>\n",
       "      <td>-1.0</td>\n",
       "    </tr>\n",
       "    <tr>\n",
       "      <td>2018-01-05</td>\n",
       "      <td>108.339996</td>\n",
       "      <td>255.520004</td>\n",
       "      <td>147.180008</td>\n",
       "      <td>1.554772</td>\n",
       "      <td>-1.0</td>\n",
       "    </tr>\n",
       "    <tr>\n",
       "      <td>2018-01-08</td>\n",
       "      <td>108.500000</td>\n",
       "      <td>251.809998</td>\n",
       "      <td>143.309998</td>\n",
       "      <td>1.390178</td>\n",
       "      <td>-1.0</td>\n",
       "    </tr>\n",
       "    <tr>\n",
       "      <td>...</td>\n",
       "      <td>...</td>\n",
       "      <td>...</td>\n",
       "      <td>...</td>\n",
       "      <td>...</td>\n",
       "      <td>...</td>\n",
       "    </tr>\n",
       "    <tr>\n",
       "      <td>2019-07-22</td>\n",
       "      <td>114.269997</td>\n",
       "      <td>214.000000</td>\n",
       "      <td>99.730003</td>\n",
       "      <td>-0.463308</td>\n",
       "      <td>0.0</td>\n",
       "    </tr>\n",
       "    <tr>\n",
       "      <td>2019-07-23</td>\n",
       "      <td>116.360001</td>\n",
       "      <td>219.429993</td>\n",
       "      <td>103.069992</td>\n",
       "      <td>-0.321256</td>\n",
       "      <td>0.0</td>\n",
       "    </tr>\n",
       "    <tr>\n",
       "      <td>2019-07-24</td>\n",
       "      <td>116.830002</td>\n",
       "      <td>222.029999</td>\n",
       "      <td>105.199997</td>\n",
       "      <td>-0.230665</td>\n",
       "      <td>0.0</td>\n",
       "    </tr>\n",
       "    <tr>\n",
       "      <td>2019-07-25</td>\n",
       "      <td>115.709999</td>\n",
       "      <td>219.979996</td>\n",
       "      <td>104.269997</td>\n",
       "      <td>-0.270219</td>\n",
       "      <td>0.0</td>\n",
       "    </tr>\n",
       "    <tr>\n",
       "      <td>2019-07-26</td>\n",
       "      <td>116.220001</td>\n",
       "      <td>222.139999</td>\n",
       "      <td>105.919998</td>\n",
       "      <td>-0.200043</td>\n",
       "      <td>0.0</td>\n",
       "    </tr>\n",
       "  </tbody>\n",
       "</table>\n",
       "<p>394 rows × 5 columns</p>\n",
       "</div>"
      ],
      "text/plain": [
       "                   JPM          GS  priceDelta    zscore  position_GS\n",
       "Date                                                                 \n",
       "2018-01-02  107.949997  255.669998  147.720001  1.577738         -1.0\n",
       "2018-01-03  108.059998  253.289993  145.229996  1.471837         -1.0\n",
       "2018-01-04  109.040001  256.829987  147.789986  1.580715         -1.0\n",
       "2018-01-05  108.339996  255.520004  147.180008  1.554772         -1.0\n",
       "2018-01-08  108.500000  251.809998  143.309998  1.390178         -1.0\n",
       "...                ...         ...         ...       ...          ...\n",
       "2019-07-22  114.269997  214.000000   99.730003 -0.463308          0.0\n",
       "2019-07-23  116.360001  219.429993  103.069992 -0.321256          0.0\n",
       "2019-07-24  116.830002  222.029999  105.199997 -0.230665          0.0\n",
       "2019-07-25  115.709999  219.979996  104.269997 -0.270219          0.0\n",
       "2019-07-26  116.220001  222.139999  105.919998 -0.200043          0.0\n",
       "\n",
       "[394 rows x 5 columns]"
      ]
     },
     "execution_count": 21,
     "metadata": {},
     "output_type": "execute_result"
    }
   ],
   "source": [
    "#对于空值我们需要向上填充。就是我们上一个信号是什么，理论上在下一个信号出来之前\n",
    "data['position_GS'] = data['position_GS'].fillna(method = 'ffill')\n",
    "data"
   ]
  },
  {
   "cell_type": "code",
   "execution_count": 22,
   "metadata": {},
   "outputs": [
    {
     "data": {
      "text/plain": [
       "<matplotlib.axes._subplots.AxesSubplot at 0x10a1ad36dc8>"
      ]
     },
     "execution_count": 22,
     "metadata": {},
     "output_type": "execute_result"
    },
    {
     "data": {
      "image/png": "[encoded data removed]",
      "text/plain": [
       "<Figure size 720x432 with 1 Axes>"
      ]
     },
     "metadata": {
      "needs_background": "light"
     },
     "output_type": "display_data"
    }
   ],
   "source": [
    "plt.figure()\n",
    "data['position_GS'].plot(ylim = [-1.1,1.1], figsize = (10,6))"
   ]
  },
  {
   "cell_type": "code",
   "execution_count": 23,
   "metadata": {},
   "outputs": [
    {
     "name": "stdout",
     "output_type": "stream",
     "text": [
      "                   JPM          GS  priceDelta    zscore  position_GS  \\\n",
      "Date                                                                    \n",
      "2018-01-02  107.949997  255.669998  147.720001  1.577738         -1.0   \n",
      "2018-01-03  108.059998  253.289993  145.229996  1.471837         -1.0   \n",
      "2018-01-04  109.040001  256.829987  147.789986  1.580715         -1.0   \n",
      "2018-01-05  108.339996  255.520004  147.180008  1.554772         -1.0   \n",
      "2018-01-08  108.500000  251.809998  143.309998  1.390178         -1.0   \n",
      "\n",
      "            position_JPM  \n",
      "Date                      \n",
      "2018-01-02           1.0  \n",
      "2018-01-03           1.0  \n",
      "2018-01-04           1.0  \n",
      "2018-01-05           1.0  \n",
      "2018-01-08           1.0  \n"
     ]
    },
    {
     "data": {
      "image/png": "[encoded data removed]",
      "text/plain": [
       "<Figure size 720x432 with 1 Axes>"
      ]
     },
     "metadata": {
      "needs_background": "light"
     },
     "output_type": "display_data"
    }
   ],
   "source": [
    "data['position_JPM'] = -np.sign(data['position_GS'])\n",
    "print(data.head())\n",
    "data['position_JPM'].plot(ylim = [-1.1,1.1], figsize = (10,6))\n",
    "plt.show()  #这里说明这一年里一共开了2次仓。一次多仓一次空仓"
   ]
  },
  {
   "cell_type": "markdown",
   "metadata": {},
   "source": [
    "## 3.计算策略年化收益并可视化"
   ]
  },
  {
   "cell_type": "code",
   "execution_count": 24,
   "metadata": {},
   "outputs": [
    {
     "data": {
      "text/html": [
       "<div>\n",
       "<style scoped>\n",
       "    .dataframe tbody tr th:only-of-type {\n",
       "        vertical-align: middle;\n",
       "    }\n",
       "\n",
       "    .dataframe tbody tr th {\n",
       "        vertical-align: top;\n",
       "    }\n",
       "\n",
       "    .dataframe thead th {\n",
       "        text-align: right;\n",
       "    }\n",
       "</style>\n",
       "<table border=\"1\" class=\"dataframe\">\n",
       "  <thead>\n",
       "    <tr style=\"text-align: right;\">\n",
       "      <th></th>\n",
       "      <th>JPM</th>\n",
       "      <th>GS</th>\n",
       "      <th>priceDelta</th>\n",
       "      <th>zscore</th>\n",
       "      <th>position_GS</th>\n",
       "      <th>position_JPM</th>\n",
       "      <th>return_GS</th>\n",
       "      <th>return_JPM</th>\n",
       "    </tr>\n",
       "    <tr>\n",
       "      <th>Date</th>\n",
       "      <th></th>\n",
       "      <th></th>\n",
       "      <th></th>\n",
       "      <th></th>\n",
       "      <th></th>\n",
       "      <th></th>\n",
       "      <th></th>\n",
       "      <th></th>\n",
       "    </tr>\n",
       "  </thead>\n",
       "  <tbody>\n",
       "    <tr>\n",
       "      <td>2018-01-02</td>\n",
       "      <td>107.949997</td>\n",
       "      <td>255.669998</td>\n",
       "      <td>147.720001</td>\n",
       "      <td>1.577738</td>\n",
       "      <td>-1.0</td>\n",
       "      <td>1.0</td>\n",
       "      <td>NaN</td>\n",
       "      <td>NaN</td>\n",
       "    </tr>\n",
       "    <tr>\n",
       "      <td>2018-01-03</td>\n",
       "      <td>108.059998</td>\n",
       "      <td>253.289993</td>\n",
       "      <td>145.229996</td>\n",
       "      <td>1.471837</td>\n",
       "      <td>-1.0</td>\n",
       "      <td>1.0</td>\n",
       "      <td>-0.009352</td>\n",
       "      <td>0.001018</td>\n",
       "    </tr>\n",
       "    <tr>\n",
       "      <td>2018-01-04</td>\n",
       "      <td>109.040001</td>\n",
       "      <td>256.829987</td>\n",
       "      <td>147.789986</td>\n",
       "      <td>1.580715</td>\n",
       "      <td>-1.0</td>\n",
       "      <td>1.0</td>\n",
       "      <td>0.013879</td>\n",
       "      <td>0.009028</td>\n",
       "    </tr>\n",
       "    <tr>\n",
       "      <td>2018-01-05</td>\n",
       "      <td>108.339996</td>\n",
       "      <td>255.520004</td>\n",
       "      <td>147.180008</td>\n",
       "      <td>1.554772</td>\n",
       "      <td>-1.0</td>\n",
       "      <td>1.0</td>\n",
       "      <td>-0.005114</td>\n",
       "      <td>-0.006440</td>\n",
       "    </tr>\n",
       "    <tr>\n",
       "      <td>2018-01-08</td>\n",
       "      <td>108.500000</td>\n",
       "      <td>251.809998</td>\n",
       "      <td>143.309998</td>\n",
       "      <td>1.390178</td>\n",
       "      <td>-1.0</td>\n",
       "      <td>1.0</td>\n",
       "      <td>-0.014626</td>\n",
       "      <td>0.001476</td>\n",
       "    </tr>\n",
       "  </tbody>\n",
       "</table>\n",
       "</div>"
      ],
      "text/plain": [
       "                   JPM          GS  priceDelta    zscore  position_GS  \\\n",
       "Date                                                                    \n",
       "2018-01-02  107.949997  255.669998  147.720001  1.577738         -1.0   \n",
       "2018-01-03  108.059998  253.289993  145.229996  1.471837         -1.0   \n",
       "2018-01-04  109.040001  256.829987  147.789986  1.580715         -1.0   \n",
       "2018-01-05  108.339996  255.520004  147.180008  1.554772         -1.0   \n",
       "2018-01-08  108.500000  251.809998  143.309998  1.390178         -1.0   \n",
       "\n",
       "            position_JPM  return_GS  return_JPM  \n",
       "Date                                             \n",
       "2018-01-02           1.0        NaN         NaN  \n",
       "2018-01-03           1.0  -0.009352    0.001018  \n",
       "2018-01-04           1.0   0.013879    0.009028  \n",
       "2018-01-05           1.0  -0.005114   -0.006440  \n",
       "2018-01-08           1.0  -0.014626    0.001476  "
      ]
     },
     "execution_count": 24,
     "metadata": {},
     "output_type": "execute_result"
    }
   ],
   "source": [
    "data['return_GS'] = np.log(data['GS']/data['GS'].shift(1))\n",
    "data['return_JPM'] = np.log(data['JPM']/data['JPM'].shift(1))\n",
    "data.head()"
   ]
  },
  {
   "cell_type": "code",
   "execution_count": 25,
   "metadata": {},
   "outputs": [
    {
     "data": {
      "text/html": [
       "<div>\n",
       "<style scoped>\n",
       "    .dataframe tbody tr th:only-of-type {\n",
       "        vertical-align: middle;\n",
       "    }\n",
       "\n",
       "    .dataframe tbody tr th {\n",
       "        vertical-align: top;\n",
       "    }\n",
       "\n",
       "    .dataframe thead th {\n",
       "        text-align: right;\n",
       "    }\n",
       "</style>\n",
       "<table border=\"1\" class=\"dataframe\">\n",
       "  <thead>\n",
       "    <tr style=\"text-align: right;\">\n",
       "      <th></th>\n",
       "      <th>JPM</th>\n",
       "      <th>GS</th>\n",
       "      <th>priceDelta</th>\n",
       "      <th>zscore</th>\n",
       "      <th>position_GS</th>\n",
       "      <th>position_JPM</th>\n",
       "      <th>return_GS</th>\n",
       "      <th>return_JPM</th>\n",
       "      <th>strategy</th>\n",
       "    </tr>\n",
       "    <tr>\n",
       "      <th>Date</th>\n",
       "      <th></th>\n",
       "      <th></th>\n",
       "      <th></th>\n",
       "      <th></th>\n",
       "      <th></th>\n",
       "      <th></th>\n",
       "      <th></th>\n",
       "      <th></th>\n",
       "      <th></th>\n",
       "    </tr>\n",
       "  </thead>\n",
       "  <tbody>\n",
       "    <tr>\n",
       "      <td>2018-01-02</td>\n",
       "      <td>107.949997</td>\n",
       "      <td>255.669998</td>\n",
       "      <td>147.720001</td>\n",
       "      <td>1.577738</td>\n",
       "      <td>-1.0</td>\n",
       "      <td>1.0</td>\n",
       "      <td>NaN</td>\n",
       "      <td>NaN</td>\n",
       "      <td>NaN</td>\n",
       "    </tr>\n",
       "    <tr>\n",
       "      <td>2018-01-03</td>\n",
       "      <td>108.059998</td>\n",
       "      <td>253.289993</td>\n",
       "      <td>145.229996</td>\n",
       "      <td>1.471837</td>\n",
       "      <td>-1.0</td>\n",
       "      <td>1.0</td>\n",
       "      <td>-0.009352</td>\n",
       "      <td>0.001018</td>\n",
       "      <td>0.005185</td>\n",
       "    </tr>\n",
       "    <tr>\n",
       "      <td>2018-01-04</td>\n",
       "      <td>109.040001</td>\n",
       "      <td>256.829987</td>\n",
       "      <td>147.789986</td>\n",
       "      <td>1.580715</td>\n",
       "      <td>-1.0</td>\n",
       "      <td>1.0</td>\n",
       "      <td>0.013879</td>\n",
       "      <td>0.009028</td>\n",
       "      <td>-0.002426</td>\n",
       "    </tr>\n",
       "    <tr>\n",
       "      <td>2018-01-05</td>\n",
       "      <td>108.339996</td>\n",
       "      <td>255.520004</td>\n",
       "      <td>147.180008</td>\n",
       "      <td>1.554772</td>\n",
       "      <td>-1.0</td>\n",
       "      <td>1.0</td>\n",
       "      <td>-0.005114</td>\n",
       "      <td>-0.006440</td>\n",
       "      <td>-0.000663</td>\n",
       "    </tr>\n",
       "    <tr>\n",
       "      <td>2018-01-08</td>\n",
       "      <td>108.500000</td>\n",
       "      <td>251.809998</td>\n",
       "      <td>143.309998</td>\n",
       "      <td>1.390178</td>\n",
       "      <td>-1.0</td>\n",
       "      <td>1.0</td>\n",
       "      <td>-0.014626</td>\n",
       "      <td>0.001476</td>\n",
       "      <td>0.008051</td>\n",
       "    </tr>\n",
       "    <tr>\n",
       "      <td>...</td>\n",
       "      <td>...</td>\n",
       "      <td>...</td>\n",
       "      <td>...</td>\n",
       "      <td>...</td>\n",
       "      <td>...</td>\n",
       "      <td>...</td>\n",
       "      <td>...</td>\n",
       "      <td>...</td>\n",
       "      <td>...</td>\n",
       "    </tr>\n",
       "    <tr>\n",
       "      <td>2019-07-22</td>\n",
       "      <td>114.269997</td>\n",
       "      <td>214.000000</td>\n",
       "      <td>99.730003</td>\n",
       "      <td>-0.463308</td>\n",
       "      <td>0.0</td>\n",
       "      <td>-0.0</td>\n",
       "      <td>0.002245</td>\n",
       "      <td>0.006409</td>\n",
       "      <td>0.000000</td>\n",
       "    </tr>\n",
       "    <tr>\n",
       "      <td>2019-07-23</td>\n",
       "      <td>116.360001</td>\n",
       "      <td>219.429993</td>\n",
       "      <td>103.069992</td>\n",
       "      <td>-0.321256</td>\n",
       "      <td>0.0</td>\n",
       "      <td>-0.0</td>\n",
       "      <td>0.025057</td>\n",
       "      <td>0.018125</td>\n",
       "      <td>0.000000</td>\n",
       "    </tr>\n",
       "    <tr>\n",
       "      <td>2019-07-24</td>\n",
       "      <td>116.830002</td>\n",
       "      <td>222.029999</td>\n",
       "      <td>105.199997</td>\n",
       "      <td>-0.230665</td>\n",
       "      <td>0.0</td>\n",
       "      <td>-0.0</td>\n",
       "      <td>0.011779</td>\n",
       "      <td>0.004031</td>\n",
       "      <td>0.000000</td>\n",
       "    </tr>\n",
       "    <tr>\n",
       "      <td>2019-07-25</td>\n",
       "      <td>115.709999</td>\n",
       "      <td>219.979996</td>\n",
       "      <td>104.269997</td>\n",
       "      <td>-0.270219</td>\n",
       "      <td>0.0</td>\n",
       "      <td>-0.0</td>\n",
       "      <td>-0.009276</td>\n",
       "      <td>-0.009633</td>\n",
       "      <td>0.000000</td>\n",
       "    </tr>\n",
       "    <tr>\n",
       "      <td>2019-07-26</td>\n",
       "      <td>116.220001</td>\n",
       "      <td>222.139999</td>\n",
       "      <td>105.919998</td>\n",
       "      <td>-0.200043</td>\n",
       "      <td>0.0</td>\n",
       "      <td>-0.0</td>\n",
       "      <td>0.009771</td>\n",
       "      <td>0.004398</td>\n",
       "      <td>0.000000</td>\n",
       "    </tr>\n",
       "  </tbody>\n",
       "</table>\n",
       "<p>394 rows × 9 columns</p>\n",
       "</div>"
      ],
      "text/plain": [
       "                   JPM          GS  priceDelta    zscore  position_GS  \\\n",
       "Date                                                                    \n",
       "2018-01-02  107.949997  255.669998  147.720001  1.577738         -1.0   \n",
       "2018-01-03  108.059998  253.289993  145.229996  1.471837         -1.0   \n",
       "2018-01-04  109.040001  256.829987  147.789986  1.580715         -1.0   \n",
       "2018-01-05  108.339996  255.520004  147.180008  1.554772         -1.0   \n",
       "2018-01-08  108.500000  251.809998  143.309998  1.390178         -1.0   \n",
       "...                ...         ...         ...       ...          ...   \n",
       "2019-07-22  114.269997  214.000000   99.730003 -0.463308          0.0   \n",
       "2019-07-23  116.360001  219.429993  103.069992 -0.321256          0.0   \n",
       "2019-07-24  116.830002  222.029999  105.199997 -0.230665          0.0   \n",
       "2019-07-25  115.709999  219.979996  104.269997 -0.270219          0.0   \n",
       "2019-07-26  116.220001  222.139999  105.919998 -0.200043          0.0   \n",
       "\n",
       "            position_JPM  return_GS  return_JPM  strategy  \n",
       "Date                                                       \n",
       "2018-01-02           1.0        NaN         NaN       NaN  \n",
       "2018-01-03           1.0  -0.009352    0.001018  0.005185  \n",
       "2018-01-04           1.0   0.013879    0.009028 -0.002426  \n",
       "2018-01-05           1.0  -0.005114   -0.006440 -0.000663  \n",
       "2018-01-08           1.0  -0.014626    0.001476  0.008051  \n",
       "...                  ...        ...         ...       ...  \n",
       "2019-07-22          -0.0   0.002245    0.006409  0.000000  \n",
       "2019-07-23          -0.0   0.025057    0.018125  0.000000  \n",
       "2019-07-24          -0.0   0.011779    0.004031  0.000000  \n",
       "2019-07-25          -0.0  -0.009276   -0.009633  0.000000  \n",
       "2019-07-26          -0.0   0.009771    0.004398  0.000000  \n",
       "\n",
       "[394 rows x 9 columns]"
      ]
     },
     "execution_count": 25,
     "metadata": {},
     "output_type": "execute_result"
    }
   ],
   "source": [
    "#这里的特殊点在于我们的收益应该是两只股票同时给我们带来的\n",
    "data['strategy'] = 0.5*(data['position_GS'].shift(1)*data['return_GS']) + 0.5*(data['position_JPM'].shift(1)*data['return_JPM'])\n",
    "data"
   ]
  },
  {
   "cell_type": "code",
   "execution_count": 26,
   "metadata": {},
   "outputs": [
    {
     "data": {
      "image/png": "[encoded data removed]",
      "text/plain": [
       "<Figure size 720x432 with 1 Axes>"
      ]
     },
     "metadata": {
      "needs_background": "light"
     },
     "output_type": "display_data"
    }
   ],
   "source": [
    "data[['return_GS','return_JPM','strategy']].dropna().cumsum().apply(np.exp).plot(figsize = (10,6))\n",
    "plt.show()"
   ]
  },
  {
   "cell_type": "code",
   "execution_count": null,
   "metadata": {},
   "outputs": [],
   "source": []
  }
 ],
 "metadata": {
  "kernelspec": {
   "display_name": "Python 3",
   "language": "python",
   "name": "python3"
  },
  "language_info": {
   "codemirror_mode": {
    "name": "ipython",
    "version": 3
   },
   "file_extension": ".py",
   "mimetype": "text/x-python",
   "name": "python",
   "nbconvert_exporter": "python",
   "pygments_lexer": "ipython3",
   "version": "3.7.4"
  }
 },
 "nbformat": 4,
 "nbformat_minor": 2
}
