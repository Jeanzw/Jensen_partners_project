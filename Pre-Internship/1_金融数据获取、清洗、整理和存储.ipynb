{
 "cells": [
  {
   "cell_type": "markdown",
   "metadata": {},
   "source": [
    "# 5_金融数据获取、清洗、整理和存储"
   ]
  },
  {
   "cell_type": "code",
   "execution_count": 1,
   "metadata": {},
   "outputs": [],
   "source": [
    "%matplotlib inline\n",
    "import matplotlib.pyplot as plt\n",
    "import seaborn as sns\n",
    "import matplotlib as mpl\n",
    "import warnings; warnings.simplefilter('ignore') #忽略可能会出现的警告信息，警告并不是错误，可以忽略；"
   ]
  },
  {
   "cell_type": "markdown",
   "metadata": {},
   "source": [
    "## 1. 从不同数据来源获取——本地"
   ]
  },
  {
   "cell_type": "markdown",
   "metadata": {},
   "source": [
    "### 1.1 常用：本地文件读取"
   ]
  },
  {
   "cell_type": "code",
   "execution_count": 3,
   "metadata": {},
   "outputs": [
    {
     "name": "stdout",
     "output_type": "stream",
     "text": [
      "date,price\n",
      "\n",
      "2019/1/02,115.2099991\n",
      "\n",
      "2019/1/03,112.9100037\n",
      "\n",
      "2019/1/04,117.3199997\n",
      "\n",
      "2019/1/07,118.1500015\n",
      "\n"
     ]
    }
   ],
   "source": [
    "with open('ibmclose.csv', 'r') as f:      #推荐这种方法；\n",
    "    for i in range(5):\n",
    "        print(f.readline())"
   ]
  },
  {
   "cell_type": "code",
   "execution_count": 4,
   "metadata": {},
   "outputs": [
    {
     "name": "stdout",
     "output_type": "stream",
     "text": [
      "date,price\n",
      "\n",
      "2019/1/02,115.2099991\n",
      "\n",
      "2019/1/03,112.9100037\n",
      "\n",
      "2019/1/04,117.3199997\n",
      "\n",
      "2019/1/07,118.1500015\n",
      "\n"
     ]
    }
   ],
   "source": [
    "f = open('ibmclose.csv', 'r')\n",
    "for i in range(5):\n",
    "    print(f.readline())\n",
    "f.close()"
   ]
  },
  {
   "cell_type": "code",
   "execution_count": 5,
   "metadata": {},
   "outputs": [
    {
     "name": "stdout",
     "output_type": "stream",
     "text": [
      "date,price\n",
      "2019/1/02,115.2099991\n",
      "2019/1/03,112.9100037\n",
      "2019/1/04,117.3199997\n",
      "2019/1/07,118.1500015\n",
      "2019/1/08,119.8300018\n",
      "2019/1/09,120.6900024\n",
      "2019/1/10,121.7900009\n",
      "2019/1/11,121.4599991\n",
      "2019/1/14,120.3899994\n",
      "2019/1/15,121.7300034\n",
      "2019/1/16,121.6200027\n",
      "2019/1/17,122.1900024\n",
      "2019/1/18,123.8199997\n",
      "2019/1/22,122.5199966\n",
      "2019/1/23,132.8899994\n",
      "2019/1/24,132.5299988\n",
      "2019/1/25,133.9700012\n",
      "2019/1/28,134.2700043\n",
      "2019/1/29,134.3300018\n",
      "2019/1/30,134.3800049\n",
      "2019/1/31,134.4199982\n",
      "2019/2/01,134.1000061\n",
      "2019/2/04,135.1900024\n",
      "2019/2/05,135.5500031\n",
      "2019/2/06,136.3200073\n",
      "2019/2/07,133.1900024\n",
      "2019/2/08,133.7100067\n",
      "2019/2/11,133.9900055\n",
      "2019/2/12,136.0500031\n",
      "2019/2/13,137.5200043\n",
      "2019/2/14,136.4799957\n",
      "2019/2/15,138.0299988\n",
      "2019/2/19,138.6999969\n",
      "2019/2/20,138\n",
      "2019/2/21,137.8399963\n",
      "2019/2/22,139.25\n",
      "2019/2/25,139.4600067\n",
      "2019/2/26,139.7200012\n",
      "2019/2/27,139.1699982\n",
      "2019/2/28,138.1300049\n",
      "2019/3/01,139.1999969\n",
      "\n"
     ]
    }
   ],
   "source": [
    "with open('ibmclose.csv', 'r') as f:            #未打印，不然会输出大量无用信息；\n",
    "    print(f.read())"
   ]
  },
  {
   "cell_type": "markdown",
   "metadata": {},
   "source": [
    "### 1.2 Python CSV模块读取"
   ]
  },
  {
   "cell_type": "code",
   "execution_count": 6,
   "metadata": {},
   "outputs": [],
   "source": [
    "import csv"
   ]
  },
  {
   "cell_type": "code",
   "execution_count": 7,
   "metadata": {},
   "outputs": [],
   "source": [
    "csv_reader = csv.reader(open('ibmclose.csv', 'r'))"
   ]
  },
  {
   "cell_type": "code",
   "execution_count": 8,
   "metadata": {},
   "outputs": [
    {
     "data": {
      "text/plain": [
       "<_csv.reader at 0x2a87fb49748>"
      ]
     },
     "execution_count": 8,
     "metadata": {},
     "output_type": "execute_result"
    }
   ],
   "source": [
    "csv_reader"
   ]
  },
  {
   "cell_type": "code",
   "execution_count": 9,
   "metadata": {},
   "outputs": [],
   "source": [
    "data = [i for i in csv_reader]               #从csv_reader中读取出数据，将其解析成list；"
   ]
  },
  {
   "cell_type": "code",
   "execution_count": 10,
   "metadata": {},
   "outputs": [
    {
     "data": {
      "text/plain": [
       "list"
      ]
     },
     "execution_count": 10,
     "metadata": {},
     "output_type": "execute_result"
    }
   ],
   "source": [
    "type(data)"
   ]
  },
  {
   "cell_type": "code",
   "execution_count": 11,
   "metadata": {
    "scrolled": true
   },
   "outputs": [
    {
     "data": {
      "text/plain": [
       "[['date', 'price'],\n",
       " ['2019/1/02', '115.2099991'],\n",
       " ['2019/1/03', '112.9100037'],\n",
       " ['2019/1/04', '117.3199997'],\n",
       " ['2019/1/07', '118.1500015']]"
      ]
     },
     "execution_count": 11,
     "metadata": {},
     "output_type": "execute_result"
    }
   ],
   "source": [
    "data[:5]"
   ]
  },
  {
   "cell_type": "markdown",
   "metadata": {},
   "source": [
    "### 1.3 常用：Pandas读取CSV"
   ]
  },
  {
   "cell_type": "code",
   "execution_count": 12,
   "metadata": {},
   "outputs": [],
   "source": [
    "import pandas as pd\n",
    "import numpy as np"
   ]
  },
  {
   "cell_type": "code",
   "execution_count": 13,
   "metadata": {},
   "outputs": [],
   "source": [
    "data = pd.read_csv('ibmclose.csv')"
   ]
  },
  {
   "cell_type": "code",
   "execution_count": 14,
   "metadata": {},
   "outputs": [],
   "source": [
    "data = pd.read_csv('ibmclose.csv', index_col=1,\n",
    "                   parse_dates=True)                #解析日期\n",
    "#index_col就是我们要把dataframe第几列作为我们的索引,0就是第一列\n",
    "#parse_dates就是解析日期，就变成了时间数据了，日后在做时间数据的处理就会非常方便了"
   ]
  },
  {
   "cell_type": "code",
   "execution_count": 15,
   "metadata": {},
   "outputs": [
    {
     "name": "stdout",
     "output_type": "stream",
     "text": [
      "<class 'pandas.core.frame.DataFrame'>\n",
      "Float64Index: 41 entries, 115.20999909999999 to 139.1999969\n",
      "Data columns (total 1 columns):\n",
      "date    41 non-null object\n",
      "dtypes: object(1)\n",
      "memory usage: 656.0+ bytes\n"
     ]
    }
   ],
   "source": [
    "data.info()"
   ]
  },
  {
   "cell_type": "code",
   "execution_count": 16,
   "metadata": {},
   "outputs": [
    {
     "data": {
      "text/html": [
       "<div>\n",
       "<style scoped>\n",
       "    .dataframe tbody tr th:only-of-type {\n",
       "        vertical-align: middle;\n",
       "    }\n",
       "\n",
       "    .dataframe tbody tr th {\n",
       "        vertical-align: top;\n",
       "    }\n",
       "\n",
       "    .dataframe thead th {\n",
       "        text-align: right;\n",
       "    }\n",
       "</style>\n",
       "<table border=\"1\" class=\"dataframe\">\n",
       "  <thead>\n",
       "    <tr style=\"text-align: right;\">\n",
       "      <th></th>\n",
       "      <th>date</th>\n",
       "    </tr>\n",
       "    <tr>\n",
       "      <th>price</th>\n",
       "      <th></th>\n",
       "    </tr>\n",
       "  </thead>\n",
       "  <tbody>\n",
       "    <tr>\n",
       "      <td>115.209999</td>\n",
       "      <td>2019/1/02</td>\n",
       "    </tr>\n",
       "    <tr>\n",
       "      <td>112.910004</td>\n",
       "      <td>2019/1/03</td>\n",
       "    </tr>\n",
       "    <tr>\n",
       "      <td>117.320000</td>\n",
       "      <td>2019/1/04</td>\n",
       "    </tr>\n",
       "    <tr>\n",
       "      <td>118.150001</td>\n",
       "      <td>2019/1/07</td>\n",
       "    </tr>\n",
       "    <tr>\n",
       "      <td>119.830002</td>\n",
       "      <td>2019/1/08</td>\n",
       "    </tr>\n",
       "  </tbody>\n",
       "</table>\n",
       "</div>"
      ],
      "text/plain": [
       "                 date\n",
       "price                \n",
       "115.209999  2019/1/02\n",
       "112.910004  2019/1/03\n",
       "117.320000  2019/1/04\n",
       "118.150001  2019/1/07\n",
       "119.830002  2019/1/08"
      ]
     },
     "execution_count": 16,
     "metadata": {},
     "output_type": "execute_result"
    }
   ],
   "source": [
    "data.head()"
   ]
  },
  {
   "cell_type": "code",
   "execution_count": 17,
   "metadata": {},
   "outputs": [],
   "source": [
    "del data['date']  ##这个时候如果我想要删除Date这一列"
   ]
  },
  {
   "cell_type": "code",
   "execution_count": 18,
   "metadata": {},
   "outputs": [
    {
     "data": {
      "text/html": [
       "<div>\n",
       "<style scoped>\n",
       "    .dataframe tbody tr th:only-of-type {\n",
       "        vertical-align: middle;\n",
       "    }\n",
       "\n",
       "    .dataframe tbody tr th {\n",
       "        vertical-align: top;\n",
       "    }\n",
       "\n",
       "    .dataframe thead th {\n",
       "        text-align: right;\n",
       "    }\n",
       "</style>\n",
       "<table border=\"1\" class=\"dataframe\">\n",
       "  <thead>\n",
       "    <tr style=\"text-align: right;\">\n",
       "      <th></th>\n",
       "    </tr>\n",
       "    <tr>\n",
       "      <th>price</th>\n",
       "    </tr>\n",
       "  </thead>\n",
       "  <tbody>\n",
       "    <tr>\n",
       "      <td>115.209999</td>\n",
       "    </tr>\n",
       "    <tr>\n",
       "      <td>112.910004</td>\n",
       "    </tr>\n",
       "    <tr>\n",
       "      <td>117.320000</td>\n",
       "    </tr>\n",
       "    <tr>\n",
       "      <td>118.150001</td>\n",
       "    </tr>\n",
       "    <tr>\n",
       "      <td>119.830002</td>\n",
       "    </tr>\n",
       "  </tbody>\n",
       "</table>\n",
       "</div>"
      ],
      "text/plain": [
       "Empty DataFrame\n",
       "Columns: []\n",
       "Index: [115.20999909999999, 112.9100037, 117.3199997, 118.15000149999999, 119.83000179999999]"
      ]
     },
     "execution_count": 18,
     "metadata": {},
     "output_type": "execute_result"
    }
   ],
   "source": [
    "data.head()"
   ]
  },
  {
   "cell_type": "code",
   "execution_count": 19,
   "metadata": {},
   "outputs": [],
   "source": [
    "data.to_csv('000001.csv')"
   ]
  },
  {
   "cell_type": "code",
   "execution_count": 20,
   "metadata": {},
   "outputs": [],
   "source": [
    "data.to_excel('000001.xlsx')"
   ]
  },
  {
   "cell_type": "code",
   "execution_count": 21,
   "metadata": {},
   "outputs": [],
   "source": [
    "data.to_json('000001.json')"
   ]
  },
  {
   "cell_type": "markdown",
   "metadata": {},
   "source": [
    "## 2. 从网络Open Source读取"
   ]
  },
  {
   "cell_type": "markdown",
   "metadata": {},
   "source": [
    "### 2.1 Yahoo"
   ]
  },
  {
   "cell_type": "code",
   "execution_count": 23,
   "metadata": {},
   "outputs": [],
   "source": [
    "from pandas_datareader import data as web"
   ]
  },
  {
   "cell_type": "code",
   "execution_count": 24,
   "metadata": {},
   "outputs": [],
   "source": [
    "#不翻墙或者网速较慢可能无法从Yahoo读取，属于正常现象；\n",
    "data = web.get_data_yahoo('GS', start = '2010-01-01', end = '2012-01-01')           "
   ]
  },
  {
   "cell_type": "code",
   "execution_count": 25,
   "metadata": {},
   "outputs": [
    {
     "data": {
      "text/html": [
       "<div>\n",
       "<style scoped>\n",
       "    .dataframe tbody tr th:only-of-type {\n",
       "        vertical-align: middle;\n",
       "    }\n",
       "\n",
       "    .dataframe tbody tr th {\n",
       "        vertical-align: top;\n",
       "    }\n",
       "\n",
       "    .dataframe thead th {\n",
       "        text-align: right;\n",
       "    }\n",
       "</style>\n",
       "<table border=\"1\" class=\"dataframe\">\n",
       "  <thead>\n",
       "    <tr style=\"text-align: right;\">\n",
       "      <th></th>\n",
       "      <th>High</th>\n",
       "      <th>Low</th>\n",
       "      <th>Open</th>\n",
       "      <th>Close</th>\n",
       "      <th>Volume</th>\n",
       "      <th>Adj Close</th>\n",
       "    </tr>\n",
       "    <tr>\n",
       "      <th>Date</th>\n",
       "      <th></th>\n",
       "      <th></th>\n",
       "      <th></th>\n",
       "      <th></th>\n",
       "      <th></th>\n",
       "      <th></th>\n",
       "    </tr>\n",
       "  </thead>\n",
       "  <tbody>\n",
       "    <tr>\n",
       "      <td>2010-01-04</td>\n",
       "      <td>174.250000</td>\n",
       "      <td>169.509995</td>\n",
       "      <td>170.050003</td>\n",
       "      <td>173.080002</td>\n",
       "      <td>9135000.0</td>\n",
       "      <td>150.662186</td>\n",
       "    </tr>\n",
       "    <tr>\n",
       "      <td>2010-01-05</td>\n",
       "      <td>176.259995</td>\n",
       "      <td>172.570007</td>\n",
       "      <td>173.000000</td>\n",
       "      <td>176.139999</td>\n",
       "      <td>11659400.0</td>\n",
       "      <td>153.325790</td>\n",
       "    </tr>\n",
       "    <tr>\n",
       "      <td>2010-01-06</td>\n",
       "      <td>175.380005</td>\n",
       "      <td>173.759995</td>\n",
       "      <td>175.380005</td>\n",
       "      <td>174.259995</td>\n",
       "      <td>7381100.0</td>\n",
       "      <td>151.689255</td>\n",
       "    </tr>\n",
       "    <tr>\n",
       "      <td>2010-01-07</td>\n",
       "      <td>178.750000</td>\n",
       "      <td>173.949997</td>\n",
       "      <td>174.320007</td>\n",
       "      <td>177.669998</td>\n",
       "      <td>8727400.0</td>\n",
       "      <td>154.657593</td>\n",
       "    </tr>\n",
       "    <tr>\n",
       "      <td>2010-01-08</td>\n",
       "      <td>177.429993</td>\n",
       "      <td>173.949997</td>\n",
       "      <td>176.330002</td>\n",
       "      <td>174.309998</td>\n",
       "      <td>7268100.0</td>\n",
       "      <td>151.732819</td>\n",
       "    </tr>\n",
       "  </tbody>\n",
       "</table>\n",
       "</div>"
      ],
      "text/plain": [
       "                  High         Low        Open       Close      Volume  \\\n",
       "Date                                                                     \n",
       "2010-01-04  174.250000  169.509995  170.050003  173.080002   9135000.0   \n",
       "2010-01-05  176.259995  172.570007  173.000000  176.139999  11659400.0   \n",
       "2010-01-06  175.380005  173.759995  175.380005  174.259995   7381100.0   \n",
       "2010-01-07  178.750000  173.949997  174.320007  177.669998   8727400.0   \n",
       "2010-01-08  177.429993  173.949997  176.330002  174.309998   7268100.0   \n",
       "\n",
       "             Adj Close  \n",
       "Date                    \n",
       "2010-01-04  150.662186  \n",
       "2010-01-05  153.325790  \n",
       "2010-01-06  151.689255  \n",
       "2010-01-07  154.657593  \n",
       "2010-01-08  151.732819  "
      ]
     },
     "execution_count": 25,
     "metadata": {},
     "output_type": "execute_result"
    }
   ],
   "source": [
    "data.head()"
   ]
  },
  {
   "cell_type": "code",
   "execution_count": 26,
   "metadata": {},
   "outputs": [
    {
     "data": {
      "text/html": [
       "<div>\n",
       "<style scoped>\n",
       "    .dataframe tbody tr th:only-of-type {\n",
       "        vertical-align: middle;\n",
       "    }\n",
       "\n",
       "    .dataframe tbody tr th {\n",
       "        vertical-align: top;\n",
       "    }\n",
       "\n",
       "    .dataframe thead th {\n",
       "        text-align: right;\n",
       "    }\n",
       "</style>\n",
       "<table border=\"1\" class=\"dataframe\">\n",
       "  <thead>\n",
       "    <tr style=\"text-align: right;\">\n",
       "      <th></th>\n",
       "      <th>High</th>\n",
       "      <th>Low</th>\n",
       "      <th>Open</th>\n",
       "      <th>Close</th>\n",
       "      <th>Volume</th>\n",
       "      <th>Adj Close</th>\n",
       "    </tr>\n",
       "    <tr>\n",
       "      <th>Date</th>\n",
       "      <th></th>\n",
       "      <th></th>\n",
       "      <th></th>\n",
       "      <th></th>\n",
       "      <th></th>\n",
       "      <th></th>\n",
       "    </tr>\n",
       "  </thead>\n",
       "  <tbody>\n",
       "    <tr>\n",
       "      <td>2011-12-23</td>\n",
       "      <td>95.00</td>\n",
       "      <td>92.73</td>\n",
       "      <td>94.80</td>\n",
       "      <td>93.79</td>\n",
       "      <td>3919500.0</td>\n",
       "      <td>83.38</td>\n",
       "    </tr>\n",
       "    <tr>\n",
       "      <td>2011-12-27</td>\n",
       "      <td>93.84</td>\n",
       "      <td>91.83</td>\n",
       "      <td>93.50</td>\n",
       "      <td>91.90</td>\n",
       "      <td>3672000.0</td>\n",
       "      <td>81.70</td>\n",
       "    </tr>\n",
       "    <tr>\n",
       "      <td>2011-12-28</td>\n",
       "      <td>92.44</td>\n",
       "      <td>90.04</td>\n",
       "      <td>91.66</td>\n",
       "      <td>90.12</td>\n",
       "      <td>3917400.0</td>\n",
       "      <td>80.11</td>\n",
       "    </tr>\n",
       "    <tr>\n",
       "      <td>2011-12-29</td>\n",
       "      <td>91.43</td>\n",
       "      <td>90.25</td>\n",
       "      <td>90.59</td>\n",
       "      <td>91.01</td>\n",
       "      <td>4290500.0</td>\n",
       "      <td>80.91</td>\n",
       "    </tr>\n",
       "    <tr>\n",
       "      <td>2011-12-30</td>\n",
       "      <td>91.14</td>\n",
       "      <td>90.14</td>\n",
       "      <td>90.53</td>\n",
       "      <td>90.43</td>\n",
       "      <td>4182800.0</td>\n",
       "      <td>80.39</td>\n",
       "    </tr>\n",
       "  </tbody>\n",
       "</table>\n",
       "</div>"
      ],
      "text/plain": [
       "             High    Low   Open  Close     Volume  Adj Close\n",
       "Date                                                        \n",
       "2011-12-23  95.00  92.73  94.80  93.79  3919500.0      83.38\n",
       "2011-12-27  93.84  91.83  93.50  91.90  3672000.0      81.70\n",
       "2011-12-28  92.44  90.04  91.66  90.12  3917400.0      80.11\n",
       "2011-12-29  91.43  90.25  90.59  91.01  4290500.0      80.91\n",
       "2011-12-30  91.14  90.14  90.53  90.43  4182800.0      80.39"
      ]
     },
     "execution_count": 26,
     "metadata": {},
     "output_type": "execute_result"
    }
   ],
   "source": [
    "data.round(2).tail()"
   ]
  },
  {
   "cell_type": "code",
   "execution_count": 27,
   "metadata": {},
   "outputs": [
    {
     "name": "stdout",
     "output_type": "stream",
     "text": [
      "<class 'pandas.core.frame.DataFrame'>\n",
      "DatetimeIndex: 504 entries, 2010-01-04 to 2011-12-30\n",
      "Data columns (total 6 columns):\n",
      "High         504 non-null float64\n",
      "Low          504 non-null float64\n",
      "Open         504 non-null float64\n",
      "Close        504 non-null float64\n",
      "Volume       504 non-null float64\n",
      "Adj Close    504 non-null float64\n",
      "dtypes: float64(6)\n",
      "memory usage: 27.6 KB\n"
     ]
    }
   ],
   "source": [
    "data.info()"
   ]
  },
  {
   "cell_type": "code",
   "execution_count": 28,
   "metadata": {},
   "outputs": [],
   "source": [
    "data= web.get_data_yahoo('MSFT', start = '2016-01-01', end = '2017-06-30')"
   ]
  },
  {
   "cell_type": "code",
   "execution_count": 29,
   "metadata": {},
   "outputs": [
    {
     "data": {
      "text/html": [
       "<div>\n",
       "<style scoped>\n",
       "    .dataframe tbody tr th:only-of-type {\n",
       "        vertical-align: middle;\n",
       "    }\n",
       "\n",
       "    .dataframe tbody tr th {\n",
       "        vertical-align: top;\n",
       "    }\n",
       "\n",
       "    .dataframe thead th {\n",
       "        text-align: right;\n",
       "    }\n",
       "</style>\n",
       "<table border=\"1\" class=\"dataframe\">\n",
       "  <thead>\n",
       "    <tr style=\"text-align: right;\">\n",
       "      <th></th>\n",
       "      <th>High</th>\n",
       "      <th>Low</th>\n",
       "      <th>Open</th>\n",
       "      <th>Close</th>\n",
       "      <th>Volume</th>\n",
       "      <th>Adj Close</th>\n",
       "    </tr>\n",
       "    <tr>\n",
       "      <th>Date</th>\n",
       "      <th></th>\n",
       "      <th></th>\n",
       "      <th></th>\n",
       "      <th></th>\n",
       "      <th></th>\n",
       "      <th></th>\n",
       "    </tr>\n",
       "  </thead>\n",
       "  <tbody>\n",
       "    <tr>\n",
       "      <td>2016-01-04</td>\n",
       "      <td>54.799999</td>\n",
       "      <td>53.389999</td>\n",
       "      <td>54.320000</td>\n",
       "      <td>54.799999</td>\n",
       "      <td>53778000.0</td>\n",
       "      <td>50.536495</td>\n",
       "    </tr>\n",
       "    <tr>\n",
       "      <td>2016-01-05</td>\n",
       "      <td>55.389999</td>\n",
       "      <td>54.540001</td>\n",
       "      <td>54.930000</td>\n",
       "      <td>55.049999</td>\n",
       "      <td>34079700.0</td>\n",
       "      <td>50.767044</td>\n",
       "    </tr>\n",
       "    <tr>\n",
       "      <td>2016-01-06</td>\n",
       "      <td>54.400002</td>\n",
       "      <td>53.639999</td>\n",
       "      <td>54.320000</td>\n",
       "      <td>54.049999</td>\n",
       "      <td>39518900.0</td>\n",
       "      <td>49.844841</td>\n",
       "    </tr>\n",
       "    <tr>\n",
       "      <td>2016-01-07</td>\n",
       "      <td>53.490002</td>\n",
       "      <td>52.070000</td>\n",
       "      <td>52.700001</td>\n",
       "      <td>52.169998</td>\n",
       "      <td>56564900.0</td>\n",
       "      <td>48.111115</td>\n",
       "    </tr>\n",
       "    <tr>\n",
       "      <td>2016-01-08</td>\n",
       "      <td>53.279999</td>\n",
       "      <td>52.150002</td>\n",
       "      <td>52.369999</td>\n",
       "      <td>52.330002</td>\n",
       "      <td>48754000.0</td>\n",
       "      <td>48.258663</td>\n",
       "    </tr>\n",
       "  </tbody>\n",
       "</table>\n",
       "</div>"
      ],
      "text/plain": [
       "                 High        Low       Open      Close      Volume  Adj Close\n",
       "Date                                                                         \n",
       "2016-01-04  54.799999  53.389999  54.320000  54.799999  53778000.0  50.536495\n",
       "2016-01-05  55.389999  54.540001  54.930000  55.049999  34079700.0  50.767044\n",
       "2016-01-06  54.400002  53.639999  54.320000  54.049999  39518900.0  49.844841\n",
       "2016-01-07  53.490002  52.070000  52.700001  52.169998  56564900.0  48.111115\n",
       "2016-01-08  53.279999  52.150002  52.369999  52.330002  48754000.0  48.258663"
      ]
     },
     "execution_count": 29,
     "metadata": {},
     "output_type": "execute_result"
    }
   ],
   "source": [
    "data.head()"
   ]
  },
  {
   "cell_type": "code",
   "execution_count": 30,
   "metadata": {},
   "outputs": [
    {
     "data": {
      "text/html": [
       "<div>\n",
       "<style scoped>\n",
       "    .dataframe tbody tr th:only-of-type {\n",
       "        vertical-align: middle;\n",
       "    }\n",
       "\n",
       "    .dataframe tbody tr th {\n",
       "        vertical-align: top;\n",
       "    }\n",
       "\n",
       "    .dataframe thead th {\n",
       "        text-align: right;\n",
       "    }\n",
       "</style>\n",
       "<table border=\"1\" class=\"dataframe\">\n",
       "  <thead>\n",
       "    <tr style=\"text-align: right;\">\n",
       "      <th></th>\n",
       "      <th>High</th>\n",
       "      <th>Low</th>\n",
       "      <th>Open</th>\n",
       "      <th>Close</th>\n",
       "      <th>Volume</th>\n",
       "      <th>Adj Close</th>\n",
       "    </tr>\n",
       "    <tr>\n",
       "      <th>Date</th>\n",
       "      <th></th>\n",
       "      <th></th>\n",
       "      <th></th>\n",
       "      <th></th>\n",
       "      <th></th>\n",
       "      <th></th>\n",
       "    </tr>\n",
       "  </thead>\n",
       "  <tbody>\n",
       "    <tr>\n",
       "      <td>2017-06-26</td>\n",
       "      <td>71.71</td>\n",
       "      <td>70.44</td>\n",
       "      <td>71.40</td>\n",
       "      <td>70.53</td>\n",
       "      <td>19607000.0</td>\n",
       "      <td>67.62</td>\n",
       "    </tr>\n",
       "    <tr>\n",
       "      <td>2017-06-27</td>\n",
       "      <td>70.18</td>\n",
       "      <td>69.18</td>\n",
       "      <td>70.11</td>\n",
       "      <td>69.21</td>\n",
       "      <td>25215100.0</td>\n",
       "      <td>66.35</td>\n",
       "    </tr>\n",
       "    <tr>\n",
       "      <td>2017-06-28</td>\n",
       "      <td>69.84</td>\n",
       "      <td>68.79</td>\n",
       "      <td>69.21</td>\n",
       "      <td>69.80</td>\n",
       "      <td>25806200.0</td>\n",
       "      <td>66.92</td>\n",
       "    </tr>\n",
       "    <tr>\n",
       "      <td>2017-06-29</td>\n",
       "      <td>69.49</td>\n",
       "      <td>68.09</td>\n",
       "      <td>69.38</td>\n",
       "      <td>68.49</td>\n",
       "      <td>28918700.0</td>\n",
       "      <td>65.66</td>\n",
       "    </tr>\n",
       "    <tr>\n",
       "      <td>2017-06-30</td>\n",
       "      <td>69.38</td>\n",
       "      <td>68.74</td>\n",
       "      <td>68.78</td>\n",
       "      <td>68.93</td>\n",
       "      <td>24161100.0</td>\n",
       "      <td>66.08</td>\n",
       "    </tr>\n",
       "  </tbody>\n",
       "</table>\n",
       "</div>"
      ],
      "text/plain": [
       "             High    Low   Open  Close      Volume  Adj Close\n",
       "Date                                                         \n",
       "2017-06-26  71.71  70.44  71.40  70.53  19607000.0      67.62\n",
       "2017-06-27  70.18  69.18  70.11  69.21  25215100.0      66.35\n",
       "2017-06-28  69.84  68.79  69.21  69.80  25806200.0      66.92\n",
       "2017-06-29  69.49  68.09  69.38  68.49  28918700.0      65.66\n",
       "2017-06-30  69.38  68.74  68.78  68.93  24161100.0      66.08"
      ]
     },
     "execution_count": 30,
     "metadata": {},
     "output_type": "execute_result"
    }
   ],
   "source": [
    "data.round(2).tail()"
   ]
  },
  {
   "cell_type": "code",
   "execution_count": 31,
   "metadata": {},
   "outputs": [],
   "source": [
    "data= web.get_data_yahoo('600030.ss', start = '2016-01-01', end = '2017-07-01')    "
   ]
  },
  {
   "cell_type": "code",
   "execution_count": 32,
   "metadata": {},
   "outputs": [
    {
     "data": {
      "text/html": [
       "<div>\n",
       "<style scoped>\n",
       "    .dataframe tbody tr th:only-of-type {\n",
       "        vertical-align: middle;\n",
       "    }\n",
       "\n",
       "    .dataframe tbody tr th {\n",
       "        vertical-align: top;\n",
       "    }\n",
       "\n",
       "    .dataframe thead th {\n",
       "        text-align: right;\n",
       "    }\n",
       "</style>\n",
       "<table border=\"1\" class=\"dataframe\">\n",
       "  <thead>\n",
       "    <tr style=\"text-align: right;\">\n",
       "      <th></th>\n",
       "      <th>High</th>\n",
       "      <th>Low</th>\n",
       "      <th>Open</th>\n",
       "      <th>Close</th>\n",
       "      <th>Volume</th>\n",
       "      <th>Adj Close</th>\n",
       "    </tr>\n",
       "    <tr>\n",
       "      <th>Date</th>\n",
       "      <th></th>\n",
       "      <th></th>\n",
       "      <th></th>\n",
       "      <th></th>\n",
       "      <th></th>\n",
       "      <th></th>\n",
       "    </tr>\n",
       "  </thead>\n",
       "  <tbody>\n",
       "    <tr>\n",
       "      <td>2016-01-04</td>\n",
       "      <td>19.290001</td>\n",
       "      <td>17.420000</td>\n",
       "      <td>19.290001</td>\n",
       "      <td>17.450001</td>\n",
       "      <td>196058373.0</td>\n",
       "      <td>15.949529</td>\n",
       "    </tr>\n",
       "    <tr>\n",
       "      <td>2016-01-05</td>\n",
       "      <td>17.980000</td>\n",
       "      <td>16.629999</td>\n",
       "      <td>16.799999</td>\n",
       "      <td>17.650000</td>\n",
       "      <td>233329155.0</td>\n",
       "      <td>16.132330</td>\n",
       "    </tr>\n",
       "    <tr>\n",
       "      <td>2016-01-06</td>\n",
       "      <td>18.150000</td>\n",
       "      <td>17.200001</td>\n",
       "      <td>17.549999</td>\n",
       "      <td>17.930000</td>\n",
       "      <td>197278338.0</td>\n",
       "      <td>16.388254</td>\n",
       "    </tr>\n",
       "    <tr>\n",
       "      <td>2016-01-07</td>\n",
       "      <td>17.600000</td>\n",
       "      <td>16.200001</td>\n",
       "      <td>17.480000</td>\n",
       "      <td>16.340000</td>\n",
       "      <td>67903733.0</td>\n",
       "      <td>14.934973</td>\n",
       "    </tr>\n",
       "    <tr>\n",
       "      <td>2016-01-08</td>\n",
       "      <td>17.440001</td>\n",
       "      <td>16.000000</td>\n",
       "      <td>16.840000</td>\n",
       "      <td>16.830000</td>\n",
       "      <td>297925328.0</td>\n",
       "      <td>15.382840</td>\n",
       "    </tr>\n",
       "  </tbody>\n",
       "</table>\n",
       "</div>"
      ],
      "text/plain": [
       "                 High        Low       Open      Close       Volume  Adj Close\n",
       "Date                                                                          \n",
       "2016-01-04  19.290001  17.420000  19.290001  17.450001  196058373.0  15.949529\n",
       "2016-01-05  17.980000  16.629999  16.799999  17.650000  233329155.0  16.132330\n",
       "2016-01-06  18.150000  17.200001  17.549999  17.930000  197278338.0  16.388254\n",
       "2016-01-07  17.600000  16.200001  17.480000  16.340000   67903733.0  14.934973\n",
       "2016-01-08  17.440001  16.000000  16.840000  16.830000  297925328.0  15.382840"
      ]
     },
     "execution_count": 32,
     "metadata": {},
     "output_type": "execute_result"
    }
   ],
   "source": [
    "data.head()"
   ]
  },
  {
   "cell_type": "code",
   "execution_count": 33,
   "metadata": {},
   "outputs": [],
   "source": [
    "data = web.get_data_yahoo(['GS','MSFT'], start = '2016-01-01', end = '2017-07-01') "
   ]
  },
  {
   "cell_type": "code",
   "execution_count": 34,
   "metadata": {},
   "outputs": [
    {
     "data": {
      "text/plain": [
       "<bound method NDFrame.describe of Attributes   Adj Close                  Close                   High  \\\n",
       "Symbols             GS       MSFT          GS       MSFT          GS   \n",
       "Date                                                                   \n",
       "2016-01-04  166.485992  50.536495  177.139999  54.799999  177.190002   \n",
       "2016-01-05  163.619415  50.767044  174.089996  55.049999  177.500000   \n",
       "2016-01-06  159.625031  49.844841  169.839996  54.049999  172.020004   \n",
       "2016-01-07  154.719009  48.111115  164.619995  52.169998  169.500000   \n",
       "2016-01-08  154.079895  48.258663  163.940002  52.330002  168.419998   \n",
       "...                ...        ...         ...        ...         ...   \n",
       "2017-06-26  211.662201  67.617989  220.440002  70.529999  221.970001   \n",
       "2017-06-27  211.508575  66.352463  220.279999  69.209999  222.410004   \n",
       "2017-06-28  214.331482  66.918137  223.220001  69.800003  224.630005   \n",
       "2017-06-29  215.474121  65.662209  224.410004  68.489998  228.789993   \n",
       "2017-06-30  213.064056  66.084045  221.899994  68.930000  226.050003   \n",
       "\n",
       "Attributes                    Low                   Open             \\\n",
       "Symbols          MSFT          GS       MSFT          GS       MSFT   \n",
       "Date                                                                  \n",
       "2016-01-04  54.799999  173.759995  53.389999  175.789993  54.320000   \n",
       "2016-01-05  55.389999  172.919998  54.540001  176.710007  54.930000   \n",
       "2016-01-06  54.400002  169.100006  53.639999  171.309998  54.320000   \n",
       "2016-01-07  53.490002  163.600006  52.070000  166.669998  52.700001   \n",
       "2016-01-08  53.279999  163.630005  52.150002  166.750000  52.369999   \n",
       "...               ...         ...        ...         ...        ...   \n",
       "2017-06-26  71.709999  217.699997  70.440002  218.259995  71.400002   \n",
       "2017-06-27  70.180000  219.559998  69.180000  221.839996  70.110001   \n",
       "2017-06-28  69.839996  220.750000  68.790001  221.869995  69.209999   \n",
       "2017-06-29  69.489998  223.029999  68.089996  228.369995  69.379997   \n",
       "2017-06-30  69.379997  221.539993  68.739998  225.309998  68.779999   \n",
       "\n",
       "Attributes     Volume              \n",
       "Symbols            GS        MSFT  \n",
       "Date                               \n",
       "2016-01-04  3745500.0  53778000.0  \n",
       "2016-01-05  4521600.0  34079700.0  \n",
       "2016-01-06  5539400.0  39518900.0  \n",
       "2016-01-07  5687900.0  56564900.0  \n",
       "2016-01-08  4929800.0  48754000.0  \n",
       "...               ...         ...  \n",
       "2017-06-26  2589500.0  19607000.0  \n",
       "2017-06-27  2899400.0  25215100.0  \n",
       "2017-06-28  3482800.0  25806200.0  \n",
       "2017-06-29  5063400.0  28918700.0  \n",
       "2017-06-30  3154300.0  24161100.0  \n",
       "\n",
       "[377 rows x 12 columns]>"
      ]
     },
     "execution_count": 34,
     "metadata": {},
     "output_type": "execute_result"
    }
   ],
   "source": [
    "data.describe"
   ]
  },
  {
   "cell_type": "markdown",
   "metadata": {},
   "source": [
    "### 2.2 Quandl"
   ]
  },
  {
   "cell_type": "code",
   "execution_count": 42,
   "metadata": {},
   "outputs": [],
   "source": [
    "import quandl\n",
    "quandl.ApiConfig.api_key = \"kswhUQpZwx1ycdeMWR44\"   #api_key =)"
   ]
  },
  {
   "cell_type": "code",
   "execution_count": 43,
   "metadata": {},
   "outputs": [],
   "source": [
    "data = quandl.get('EOD/KO',start_date='2016-1-1',end_date='2017-06-30')         \n",
    "#quandl.get()就是获取数据\n",
    "#EOD/KO这个其实就是Quandl Code,而这里对应的公司是可口可乐"
   ]
  },
  {
   "cell_type": "code",
   "execution_count": 44,
   "metadata": {},
   "outputs": [
    {
     "data": {
      "text/html": [
       "<div>\n",
       "<style scoped>\n",
       "    .dataframe tbody tr th:only-of-type {\n",
       "        vertical-align: middle;\n",
       "    }\n",
       "\n",
       "    .dataframe tbody tr th {\n",
       "        vertical-align: top;\n",
       "    }\n",
       "\n",
       "    .dataframe thead th {\n",
       "        text-align: right;\n",
       "    }\n",
       "</style>\n",
       "<table border=\"1\" class=\"dataframe\">\n",
       "  <thead>\n",
       "    <tr style=\"text-align: right;\">\n",
       "      <th></th>\n",
       "      <th>Open</th>\n",
       "      <th>High</th>\n",
       "      <th>Low</th>\n",
       "      <th>Close</th>\n",
       "      <th>Volume</th>\n",
       "      <th>Dividend</th>\n",
       "      <th>Split</th>\n",
       "      <th>Adj_Open</th>\n",
       "      <th>Adj_High</th>\n",
       "      <th>Adj_Low</th>\n",
       "      <th>Adj_Close</th>\n",
       "      <th>Adj_Volume</th>\n",
       "    </tr>\n",
       "    <tr>\n",
       "      <th>Date</th>\n",
       "      <th></th>\n",
       "      <th></th>\n",
       "      <th></th>\n",
       "      <th></th>\n",
       "      <th></th>\n",
       "      <th></th>\n",
       "      <th></th>\n",
       "      <th></th>\n",
       "      <th></th>\n",
       "      <th></th>\n",
       "      <th></th>\n",
       "      <th></th>\n",
       "    </tr>\n",
       "  </thead>\n",
       "  <tbody>\n",
       "    <tr>\n",
       "      <td>2016-01-04</td>\n",
       "      <td>42.34</td>\n",
       "      <td>42.500</td>\n",
       "      <td>41.9650</td>\n",
       "      <td>42.40</td>\n",
       "      <td>16084145.0</td>\n",
       "      <td>0.0</td>\n",
       "      <td>1.0</td>\n",
       "      <td>37.450489</td>\n",
       "      <td>37.592011</td>\n",
       "      <td>37.118794</td>\n",
       "      <td>37.503560</td>\n",
       "      <td>16084145.0</td>\n",
       "    </tr>\n",
       "    <tr>\n",
       "      <td>2016-01-05</td>\n",
       "      <td>42.31</td>\n",
       "      <td>42.625</td>\n",
       "      <td>42.1700</td>\n",
       "      <td>42.55</td>\n",
       "      <td>15769463.0</td>\n",
       "      <td>0.0</td>\n",
       "      <td>1.0</td>\n",
       "      <td>37.423953</td>\n",
       "      <td>37.702576</td>\n",
       "      <td>37.300121</td>\n",
       "      <td>37.636237</td>\n",
       "      <td>15769463.0</td>\n",
       "    </tr>\n",
       "    <tr>\n",
       "      <td>2016-01-06</td>\n",
       "      <td>42.20</td>\n",
       "      <td>42.510</td>\n",
       "      <td>42.0400</td>\n",
       "      <td>42.32</td>\n",
       "      <td>16245132.0</td>\n",
       "      <td>0.0</td>\n",
       "      <td>1.0</td>\n",
       "      <td>37.326656</td>\n",
       "      <td>37.600857</td>\n",
       "      <td>37.185133</td>\n",
       "      <td>37.432798</td>\n",
       "      <td>16245132.0</td>\n",
       "    </tr>\n",
       "    <tr>\n",
       "      <td>2016-01-07</td>\n",
       "      <td>41.65</td>\n",
       "      <td>42.110</td>\n",
       "      <td>41.4496</td>\n",
       "      <td>41.62</td>\n",
       "      <td>20561556.0</td>\n",
       "      <td>0.0</td>\n",
       "      <td>1.0</td>\n",
       "      <td>36.840171</td>\n",
       "      <td>37.247049</td>\n",
       "      <td>36.662914</td>\n",
       "      <td>36.813636</td>\n",
       "      <td>20561556.0</td>\n",
       "    </tr>\n",
       "    <tr>\n",
       "      <td>2016-01-08</td>\n",
       "      <td>41.65</td>\n",
       "      <td>42.120</td>\n",
       "      <td>41.4100</td>\n",
       "      <td>41.51</td>\n",
       "      <td>14645738.0</td>\n",
       "      <td>0.0</td>\n",
       "      <td>1.0</td>\n",
       "      <td>36.840171</td>\n",
       "      <td>37.255895</td>\n",
       "      <td>36.627887</td>\n",
       "      <td>36.716339</td>\n",
       "      <td>14645738.0</td>\n",
       "    </tr>\n",
       "  </tbody>\n",
       "</table>\n",
       "</div>"
      ],
      "text/plain": [
       "             Open    High      Low  Close      Volume  Dividend  Split  \\\n",
       "Date                                                                     \n",
       "2016-01-04  42.34  42.500  41.9650  42.40  16084145.0       0.0    1.0   \n",
       "2016-01-05  42.31  42.625  42.1700  42.55  15769463.0       0.0    1.0   \n",
       "2016-01-06  42.20  42.510  42.0400  42.32  16245132.0       0.0    1.0   \n",
       "2016-01-07  41.65  42.110  41.4496  41.62  20561556.0       0.0    1.0   \n",
       "2016-01-08  41.65  42.120  41.4100  41.51  14645738.0       0.0    1.0   \n",
       "\n",
       "             Adj_Open   Adj_High    Adj_Low  Adj_Close  Adj_Volume  \n",
       "Date                                                                \n",
       "2016-01-04  37.450489  37.592011  37.118794  37.503560  16084145.0  \n",
       "2016-01-05  37.423953  37.702576  37.300121  37.636237  15769463.0  \n",
       "2016-01-06  37.326656  37.600857  37.185133  37.432798  16245132.0  \n",
       "2016-01-07  36.840171  37.247049  36.662914  36.813636  20561556.0  \n",
       "2016-01-08  36.840171  37.255895  36.627887  36.716339  14645738.0  "
      ]
     },
     "execution_count": 44,
     "metadata": {},
     "output_type": "execute_result"
    }
   ],
   "source": [
    "data.head()"
   ]
  },
  {
   "cell_type": "markdown",
   "metadata": {},
   "source": [
    "## 2.3 常用：Tushare"
   ]
  },
  {
   "cell_type": "markdown",
   "metadata": {},
   "source": [
    "#### 获取结构化行情数据"
   ]
  },
  {
   "cell_type": "code",
   "execution_count": 45,
   "metadata": {},
   "outputs": [],
   "source": [
    "import pandas as pd\n",
    "import tushare as ts"
   ]
  },
  {
   "cell_type": "code",
   "execution_count": 46,
   "metadata": {},
   "outputs": [],
   "source": [
    "hs300 = ts.get_k_data('hs300',start ='2015-01-01', end = '2017-06-30')    #get_k_data()"
   ]
  },
  {
   "cell_type": "code",
   "execution_count": 47,
   "metadata": {},
   "outputs": [
    {
     "data": {
      "text/html": [
       "<div>\n",
       "<style scoped>\n",
       "    .dataframe tbody tr th:only-of-type {\n",
       "        vertical-align: middle;\n",
       "    }\n",
       "\n",
       "    .dataframe tbody tr th {\n",
       "        vertical-align: top;\n",
       "    }\n",
       "\n",
       "    .dataframe thead th {\n",
       "        text-align: right;\n",
       "    }\n",
       "</style>\n",
       "<table border=\"1\" class=\"dataframe\">\n",
       "  <thead>\n",
       "    <tr style=\"text-align: right;\">\n",
       "      <th></th>\n",
       "      <th>date</th>\n",
       "      <th>open</th>\n",
       "      <th>close</th>\n",
       "      <th>high</th>\n",
       "      <th>low</th>\n",
       "      <th>volume</th>\n",
       "      <th>code</th>\n",
       "    </tr>\n",
       "  </thead>\n",
       "  <tbody>\n",
       "    <tr>\n",
       "      <td>0</td>\n",
       "      <td>2015-01-05</td>\n",
       "      <td>3566.09</td>\n",
       "      <td>3641.54</td>\n",
       "      <td>3669.04</td>\n",
       "      <td>3551.51</td>\n",
       "      <td>451198098.0</td>\n",
       "      <td>hs300</td>\n",
       "    </tr>\n",
       "    <tr>\n",
       "      <td>1</td>\n",
       "      <td>2015-01-06</td>\n",
       "      <td>3608.43</td>\n",
       "      <td>3641.06</td>\n",
       "      <td>3683.23</td>\n",
       "      <td>3587.23</td>\n",
       "      <td>420962185.0</td>\n",
       "      <td>hs300</td>\n",
       "    </tr>\n",
       "    <tr>\n",
       "      <td>2</td>\n",
       "      <td>2015-01-07</td>\n",
       "      <td>3620.92</td>\n",
       "      <td>3643.79</td>\n",
       "      <td>3671.19</td>\n",
       "      <td>3601.70</td>\n",
       "      <td>320191232.0</td>\n",
       "      <td>hs300</td>\n",
       "    </tr>\n",
       "    <tr>\n",
       "      <td>3</td>\n",
       "      <td>2015-01-08</td>\n",
       "      <td>3650.07</td>\n",
       "      <td>3559.26</td>\n",
       "      <td>3659.95</td>\n",
       "      <td>3552.10</td>\n",
       "      <td>295003045.0</td>\n",
       "      <td>hs300</td>\n",
       "    </tr>\n",
       "    <tr>\n",
       "      <td>4</td>\n",
       "      <td>2015-01-09</td>\n",
       "      <td>3547.57</td>\n",
       "      <td>3546.72</td>\n",
       "      <td>3689.75</td>\n",
       "      <td>3536.40</td>\n",
       "      <td>349982672.0</td>\n",
       "      <td>hs300</td>\n",
       "    </tr>\n",
       "  </tbody>\n",
       "</table>\n",
       "</div>"
      ],
      "text/plain": [
       "         date     open    close     high      low       volume   code\n",
       "0  2015-01-05  3566.09  3641.54  3669.04  3551.51  451198098.0  hs300\n",
       "1  2015-01-06  3608.43  3641.06  3683.23  3587.23  420962185.0  hs300\n",
       "2  2015-01-07  3620.92  3643.79  3671.19  3601.70  320191232.0  hs300\n",
       "3  2015-01-08  3650.07  3559.26  3659.95  3552.10  295003045.0  hs300\n",
       "4  2015-01-09  3547.57  3546.72  3689.75  3536.40  349982672.0  hs300"
      ]
     },
     "execution_count": 47,
     "metadata": {},
     "output_type": "execute_result"
    }
   ],
   "source": [
    "hs300.head()\n",
    "#这里注意了，从tushare下载下来的数据，不像Yahoo和Quandl那样子是以date作为index的，而是会以0123这样子作为索引，所以我们需要自己设定索引"
   ]
  },
  {
   "cell_type": "code",
   "execution_count": 48,
   "metadata": {},
   "outputs": [
    {
     "data": {
      "text/html": [
       "<div>\n",
       "<style scoped>\n",
       "    .dataframe tbody tr th:only-of-type {\n",
       "        vertical-align: middle;\n",
       "    }\n",
       "\n",
       "    .dataframe tbody tr th {\n",
       "        vertical-align: top;\n",
       "    }\n",
       "\n",
       "    .dataframe thead th {\n",
       "        text-align: right;\n",
       "    }\n",
       "</style>\n",
       "<table border=\"1\" class=\"dataframe\">\n",
       "  <thead>\n",
       "    <tr style=\"text-align: right;\">\n",
       "      <th></th>\n",
       "      <th>open</th>\n",
       "      <th>close</th>\n",
       "      <th>high</th>\n",
       "      <th>low</th>\n",
       "      <th>volume</th>\n",
       "      <th>code</th>\n",
       "    </tr>\n",
       "    <tr>\n",
       "      <th>date</th>\n",
       "      <th></th>\n",
       "      <th></th>\n",
       "      <th></th>\n",
       "      <th></th>\n",
       "      <th></th>\n",
       "      <th></th>\n",
       "    </tr>\n",
       "  </thead>\n",
       "  <tbody>\n",
       "    <tr>\n",
       "      <td>2015-01-05</td>\n",
       "      <td>3566.09</td>\n",
       "      <td>3641.54</td>\n",
       "      <td>3669.04</td>\n",
       "      <td>3551.51</td>\n",
       "      <td>451198098.0</td>\n",
       "      <td>hs300</td>\n",
       "    </tr>\n",
       "    <tr>\n",
       "      <td>2015-01-06</td>\n",
       "      <td>3608.43</td>\n",
       "      <td>3641.06</td>\n",
       "      <td>3683.23</td>\n",
       "      <td>3587.23</td>\n",
       "      <td>420962185.0</td>\n",
       "      <td>hs300</td>\n",
       "    </tr>\n",
       "    <tr>\n",
       "      <td>2015-01-07</td>\n",
       "      <td>3620.92</td>\n",
       "      <td>3643.79</td>\n",
       "      <td>3671.19</td>\n",
       "      <td>3601.70</td>\n",
       "      <td>320191232.0</td>\n",
       "      <td>hs300</td>\n",
       "    </tr>\n",
       "    <tr>\n",
       "      <td>2015-01-08</td>\n",
       "      <td>3650.07</td>\n",
       "      <td>3559.26</td>\n",
       "      <td>3659.95</td>\n",
       "      <td>3552.10</td>\n",
       "      <td>295003045.0</td>\n",
       "      <td>hs300</td>\n",
       "    </tr>\n",
       "    <tr>\n",
       "      <td>2015-01-09</td>\n",
       "      <td>3547.57</td>\n",
       "      <td>3546.72</td>\n",
       "      <td>3689.75</td>\n",
       "      <td>3536.40</td>\n",
       "      <td>349982672.0</td>\n",
       "      <td>hs300</td>\n",
       "    </tr>\n",
       "  </tbody>\n",
       "</table>\n",
       "</div>"
      ],
      "text/plain": [
       "               open    close     high      low       volume   code\n",
       "date                                                              \n",
       "2015-01-05  3566.09  3641.54  3669.04  3551.51  451198098.0  hs300\n",
       "2015-01-06  3608.43  3641.06  3683.23  3587.23  420962185.0  hs300\n",
       "2015-01-07  3620.92  3643.79  3671.19  3601.70  320191232.0  hs300\n",
       "2015-01-08  3650.07  3559.26  3659.95  3552.10  295003045.0  hs300\n",
       "2015-01-09  3547.57  3546.72  3689.75  3536.40  349982672.0  hs300"
      ]
     },
     "execution_count": 48,
     "metadata": {},
     "output_type": "execute_result"
    }
   ],
   "source": [
    "hs300.set_index('date', inplace = True)      #pd.set_index(),将df中的某一列设置成为索引； #inplace = True就是覆盖条则，也就是说这个将原来的hs300这个数据替换了\n",
    "hs300.head()"
   ]
  },
  {
   "cell_type": "code",
   "execution_count": 49,
   "metadata": {},
   "outputs": [
    {
     "data": {
      "text/plain": [
       "<matplotlib.axes._subplots.AxesSubplot at 0x2a801585e48>"
      ]
     },
     "execution_count": 49,
     "metadata": {},
     "output_type": "execute_result"
    },
    {
     "data": {
      "image/png": "[encoded data removed]",
      "text/plain": [
       "<Figure size 720x432 with 1 Axes>"
      ]
     },
     "metadata": {
      "needs_background": "light"
     },
     "output_type": "display_data"
    }
   ],
   "source": [
    "#其中我们非常关心收盘价，所以我们把收盘价绘制出来\n",
    "hs300['close'].plot(figsize=(10, 6))"
   ]
  },
  {
   "cell_type": "code",
   "execution_count": 50,
   "metadata": {},
   "outputs": [
    {
     "data": {
      "text/plain": [
       "<matplotlib.axes._subplots.AxesSubplot at 0x2a801a0b4c8>"
      ]
     },
     "execution_count": 50,
     "metadata": {},
     "output_type": "execute_result"
    },
    {
     "data": {
      "image/png": "[encoded data removed]",
      "text/plain": [
       "<Figure size 720x432 with 1 Axes>"
      ]
     },
     "metadata": {
      "needs_background": "light"
     },
     "output_type": "display_data"
    }
   ],
   "source": [
    "hs300.close.plot(figsize=(10, 6))     #等价；"
   ]
  },
  {
   "cell_type": "code",
   "execution_count": 51,
   "metadata": {},
   "outputs": [
    {
     "data": {
      "text/html": [
       "<div>\n",
       "<style scoped>\n",
       "    .dataframe tbody tr th:only-of-type {\n",
       "        vertical-align: middle;\n",
       "    }\n",
       "\n",
       "    .dataframe tbody tr th {\n",
       "        vertical-align: top;\n",
       "    }\n",
       "\n",
       "    .dataframe thead th {\n",
       "        text-align: right;\n",
       "    }\n",
       "</style>\n",
       "<table border=\"1\" class=\"dataframe\">\n",
       "  <thead>\n",
       "    <tr style=\"text-align: right;\">\n",
       "      <th></th>\n",
       "      <th>date</th>\n",
       "      <th>open</th>\n",
       "      <th>close</th>\n",
       "      <th>high</th>\n",
       "      <th>low</th>\n",
       "      <th>volume</th>\n",
       "      <th>code</th>\n",
       "    </tr>\n",
       "  </thead>\n",
       "  <tbody>\n",
       "    <tr>\n",
       "      <td>0</td>\n",
       "      <td>2017-04-25</td>\n",
       "      <td>15.479</td>\n",
       "      <td>15.403</td>\n",
       "      <td>15.527</td>\n",
       "      <td>15.393</td>\n",
       "      <td>367911.0</td>\n",
       "      <td>600030</td>\n",
       "    </tr>\n",
       "    <tr>\n",
       "      <td>1</td>\n",
       "      <td>2017-04-26</td>\n",
       "      <td>15.412</td>\n",
       "      <td>15.479</td>\n",
       "      <td>15.613</td>\n",
       "      <td>15.336</td>\n",
       "      <td>531654.0</td>\n",
       "      <td>600030</td>\n",
       "    </tr>\n",
       "    <tr>\n",
       "      <td>2</td>\n",
       "      <td>2017-04-27</td>\n",
       "      <td>15.470</td>\n",
       "      <td>15.508</td>\n",
       "      <td>15.527</td>\n",
       "      <td>15.384</td>\n",
       "      <td>427925.0</td>\n",
       "      <td>600030</td>\n",
       "    </tr>\n",
       "    <tr>\n",
       "      <td>3</td>\n",
       "      <td>2017-04-28</td>\n",
       "      <td>15.508</td>\n",
       "      <td>15.508</td>\n",
       "      <td>15.565</td>\n",
       "      <td>15.431</td>\n",
       "      <td>378799.0</td>\n",
       "      <td>600030</td>\n",
       "    </tr>\n",
       "    <tr>\n",
       "      <td>4</td>\n",
       "      <td>2017-05-02</td>\n",
       "      <td>15.527</td>\n",
       "      <td>15.393</td>\n",
       "      <td>15.537</td>\n",
       "      <td>15.374</td>\n",
       "      <td>322068.0</td>\n",
       "      <td>600030</td>\n",
       "    </tr>\n",
       "  </tbody>\n",
       "</table>\n",
       "</div>"
      ],
      "text/plain": [
       "         date    open   close    high     low    volume    code\n",
       "0  2017-04-25  15.479  15.403  15.527  15.393  367911.0  600030\n",
       "1  2017-04-26  15.412  15.479  15.613  15.336  531654.0  600030\n",
       "2  2017-04-27  15.470  15.508  15.527  15.384  427925.0  600030\n",
       "3  2017-04-28  15.508  15.508  15.565  15.431  378799.0  600030\n",
       "4  2017-05-02  15.527  15.393  15.537  15.374  322068.0  600030"
      ]
     },
     "execution_count": 51,
     "metadata": {},
     "output_type": "execute_result"
    }
   ],
   "source": [
    "data = ts.get_k_data('600030') #默认前复权价格；#这个600030是一支股票代码,没给日期，那么就默认是前复权价格，调整后的价格\n",
    "data.head()"
   ]
  },
  {
   "cell_type": "code",
   "execution_count": 52,
   "metadata": {},
   "outputs": [
    {
     "data": {
      "text/html": [
       "<div>\n",
       "<style scoped>\n",
       "    .dataframe tbody tr th:only-of-type {\n",
       "        vertical-align: middle;\n",
       "    }\n",
       "\n",
       "    .dataframe tbody tr th {\n",
       "        vertical-align: top;\n",
       "    }\n",
       "\n",
       "    .dataframe thead th {\n",
       "        text-align: right;\n",
       "    }\n",
       "</style>\n",
       "<table border=\"1\" class=\"dataframe\">\n",
       "  <thead>\n",
       "    <tr style=\"text-align: right;\">\n",
       "      <th></th>\n",
       "      <th>date</th>\n",
       "      <th>open</th>\n",
       "      <th>close</th>\n",
       "      <th>high</th>\n",
       "      <th>low</th>\n",
       "      <th>volume</th>\n",
       "      <th>code</th>\n",
       "    </tr>\n",
       "  </thead>\n",
       "  <tbody>\n",
       "    <tr>\n",
       "      <td>0</td>\n",
       "      <td>2017-04-25</td>\n",
       "      <td>61.849</td>\n",
       "      <td>61.543</td>\n",
       "      <td>62.040</td>\n",
       "      <td>61.505</td>\n",
       "      <td>367911.0</td>\n",
       "      <td>600030</td>\n",
       "    </tr>\n",
       "    <tr>\n",
       "      <td>1</td>\n",
       "      <td>2017-04-26</td>\n",
       "      <td>61.582</td>\n",
       "      <td>61.849</td>\n",
       "      <td>62.383</td>\n",
       "      <td>61.276</td>\n",
       "      <td>531654.0</td>\n",
       "      <td>600030</td>\n",
       "    </tr>\n",
       "    <tr>\n",
       "      <td>2</td>\n",
       "      <td>2017-04-27</td>\n",
       "      <td>61.811</td>\n",
       "      <td>61.963</td>\n",
       "      <td>62.040</td>\n",
       "      <td>61.467</td>\n",
       "      <td>427925.0</td>\n",
       "      <td>600030</td>\n",
       "    </tr>\n",
       "    <tr>\n",
       "      <td>3</td>\n",
       "      <td>2017-04-28</td>\n",
       "      <td>61.963</td>\n",
       "      <td>61.963</td>\n",
       "      <td>62.193</td>\n",
       "      <td>61.658</td>\n",
       "      <td>378799.0</td>\n",
       "      <td>600030</td>\n",
       "    </tr>\n",
       "    <tr>\n",
       "      <td>4</td>\n",
       "      <td>2017-05-02</td>\n",
       "      <td>62.040</td>\n",
       "      <td>61.505</td>\n",
       "      <td>62.078</td>\n",
       "      <td>61.429</td>\n",
       "      <td>322068.0</td>\n",
       "      <td>600030</td>\n",
       "    </tr>\n",
       "  </tbody>\n",
       "</table>\n",
       "</div>"
      ],
      "text/plain": [
       "         date    open   close    high     low    volume    code\n",
       "0  2017-04-25  61.849  61.543  62.040  61.505  367911.0  600030\n",
       "1  2017-04-26  61.582  61.849  62.383  61.276  531654.0  600030\n",
       "2  2017-04-27  61.811  61.963  62.040  61.467  427925.0  600030\n",
       "3  2017-04-28  61.963  61.963  62.193  61.658  378799.0  600030\n",
       "4  2017-05-02  62.040  61.505  62.078  61.429  322068.0  600030"
      ]
     },
     "execution_count": 52,
     "metadata": {},
     "output_type": "execute_result"
    }
   ],
   "source": [
    "data2 = ts.get_k_data('600030', autype='hfq') #不复权\n",
    "data2.head()"
   ]
  },
  {
   "cell_type": "code",
   "execution_count": 53,
   "metadata": {},
   "outputs": [
    {
     "data": {
      "text/html": [
       "<div>\n",
       "<style scoped>\n",
       "    .dataframe tbody tr th:only-of-type {\n",
       "        vertical-align: middle;\n",
       "    }\n",
       "\n",
       "    .dataframe tbody tr th {\n",
       "        vertical-align: top;\n",
       "    }\n",
       "\n",
       "    .dataframe thead th {\n",
       "        text-align: right;\n",
       "    }\n",
       "</style>\n",
       "<table border=\"1\" class=\"dataframe\">\n",
       "  <thead>\n",
       "    <tr style=\"text-align: right;\">\n",
       "      <th></th>\n",
       "      <th>date</th>\n",
       "      <th>open</th>\n",
       "      <th>close</th>\n",
       "      <th>high</th>\n",
       "      <th>low</th>\n",
       "      <th>volume</th>\n",
       "      <th>amount</th>\n",
       "      <th>turnoverratio</th>\n",
       "      <th>code</th>\n",
       "    </tr>\n",
       "  </thead>\n",
       "  <tbody>\n",
       "    <tr>\n",
       "      <td>0</td>\n",
       "      <td>2019-12-06 14:55</td>\n",
       "      <td>22.33</td>\n",
       "      <td>22.36</td>\n",
       "      <td>22.37</td>\n",
       "      <td>22.33</td>\n",
       "      <td>71447.0</td>\n",
       "      <td>{}</td>\n",
       "      <td>7.2796</td>\n",
       "      <td>600030</td>\n",
       "    </tr>\n",
       "    <tr>\n",
       "      <td>1</td>\n",
       "      <td>2019-12-06 15:00</td>\n",
       "      <td>22.37</td>\n",
       "      <td>22.38</td>\n",
       "      <td>22.39</td>\n",
       "      <td>22.36</td>\n",
       "      <td>36757.0</td>\n",
       "      <td>{}</td>\n",
       "      <td>3.7451</td>\n",
       "      <td>600030</td>\n",
       "    </tr>\n",
       "    <tr>\n",
       "      <td>2</td>\n",
       "      <td>2019-12-09 09:35</td>\n",
       "      <td>22.40</td>\n",
       "      <td>22.28</td>\n",
       "      <td>22.43</td>\n",
       "      <td>22.28</td>\n",
       "      <td>78224.0</td>\n",
       "      <td>{}</td>\n",
       "      <td>7.9701</td>\n",
       "      <td>600030</td>\n",
       "    </tr>\n",
       "    <tr>\n",
       "      <td>3</td>\n",
       "      <td>2019-12-09 09:40</td>\n",
       "      <td>22.27</td>\n",
       "      <td>22.19</td>\n",
       "      <td>22.28</td>\n",
       "      <td>22.18</td>\n",
       "      <td>55427.0</td>\n",
       "      <td>{}</td>\n",
       "      <td>5.6474</td>\n",
       "      <td>600030</td>\n",
       "    </tr>\n",
       "    <tr>\n",
       "      <td>4</td>\n",
       "      <td>2019-12-09 09:45</td>\n",
       "      <td>22.19</td>\n",
       "      <td>22.28</td>\n",
       "      <td>22.29</td>\n",
       "      <td>22.19</td>\n",
       "      <td>18342.0</td>\n",
       "      <td>{}</td>\n",
       "      <td>1.8688</td>\n",
       "      <td>600030</td>\n",
       "    </tr>\n",
       "  </tbody>\n",
       "</table>\n",
       "</div>"
      ],
      "text/plain": [
       "               date   open  close   high    low   volume amount turnoverratio  \\\n",
       "0  2019-12-06 14:55  22.33  22.36  22.37  22.33  71447.0     {}        7.2796   \n",
       "1  2019-12-06 15:00  22.37  22.38  22.39  22.36  36757.0     {}        3.7451   \n",
       "2  2019-12-09 09:35  22.40  22.28  22.43  22.28  78224.0     {}        7.9701   \n",
       "3  2019-12-09 09:40  22.27  22.19  22.28  22.18  55427.0     {}        5.6474   \n",
       "4  2019-12-09 09:45  22.19  22.28  22.29  22.19  18342.0     {}        1.8688   \n",
       "\n",
       "     code  \n",
       "0  600030  \n",
       "1  600030  \n",
       "2  600030  \n",
       "3  600030  \n",
       "4  600030  "
      ]
     },
     "execution_count": 53,
     "metadata": {},
     "output_type": "execute_result"
    }
   ],
   "source": [
    "data3 = ts.get_k_data('600030', ktype = '5') #两个日期之间的前复权数据\n",
    "data3.head()"
   ]
  },
  {
   "cell_type": "code",
   "execution_count": 54,
   "metadata": {},
   "outputs": [
    {
     "name": "stdout",
     "output_type": "stream",
     "text": [
      "URL can't contain control characters. \"/appstock/app/fqkline/get?_var=kline_dayqfq&param=['600030', '000001'],day,,,640,qfq&r=0.34957672196856120\" (found at least ' ')\n",
      "URL can't contain control characters. \"/appstock/app/fqkline/get?_var=kline_dayqfq&param=['600030', '000001'],day,,,640,qfq&r=0.34957672196856120\" (found at least ' ')\n",
      "URL can't contain control characters. \"/appstock/app/fqkline/get?_var=kline_dayqfq&param=['600030', '000001'],day,,,640,qfq&r=0.34957672196856120\" (found at least ' ')\n"
     ]
    },
    {
     "data": {
      "text/html": [
       "<div>\n",
       "<style scoped>\n",
       "    .dataframe tbody tr th:only-of-type {\n",
       "        vertical-align: middle;\n",
       "    }\n",
       "\n",
       "    .dataframe tbody tr th {\n",
       "        vertical-align: top;\n",
       "    }\n",
       "\n",
       "    .dataframe thead th {\n",
       "        text-align: right;\n",
       "    }\n",
       "</style>\n",
       "<table border=\"1\" class=\"dataframe\">\n",
       "  <thead>\n",
       "    <tr style=\"text-align: right;\">\n",
       "      <th></th>\n",
       "    </tr>\n",
       "  </thead>\n",
       "  <tbody>\n",
       "  </tbody>\n",
       "</table>\n",
       "</div>"
      ],
      "text/plain": [
       "Empty DataFrame\n",
       "Columns: []\n",
       "Index: []"
      ]
     },
     "execution_count": 54,
     "metadata": {},
     "output_type": "execute_result"
    }
   ],
   "source": [
    "data = ts.get_k_data(['600030','000001'])    #tushare API接口不支持多股票数据；\n",
    "data"
   ]
  },
  {
   "cell_type": "markdown",
   "metadata": {},
   "source": [
    "#### Tushare获得历史逐笔交易数据"
   ]
  },
  {
   "cell_type": "code",
   "execution_count": 55,
   "metadata": {},
   "outputs": [
    {
     "ename": "AttributeError",
     "evalue": "'NoneType' object has no attribute 'sort_index'",
     "output_type": "error",
     "traceback": [
      "\u001b[1;31m---------------------------------------------------------------------------\u001b[0m",
      "\u001b[1;31mAttributeError\u001b[0m                            Traceback (most recent call last)",
      "\u001b[1;32m<ipython-input-55-36dde0de1769>\u001b[0m in \u001b[0;36m<module>\u001b[1;34m\u001b[0m\n\u001b[0;32m      1\u001b[0m \u001b[0mdf\u001b[0m \u001b[1;33m=\u001b[0m \u001b[0mts\u001b[0m\u001b[1;33m.\u001b[0m\u001b[0mget_tick_data\u001b[0m\u001b[1;33m(\u001b[0m\u001b[1;34m'600030'\u001b[0m\u001b[1;33m,\u001b[0m\u001b[0mdate\u001b[0m\u001b[1;33m=\u001b[0m\u001b[1;34m'2017-07-28'\u001b[0m\u001b[1;33m)\u001b[0m    \u001b[1;31m#get_tick_data()\u001b[0m\u001b[1;33m\u001b[0m\u001b[1;33m\u001b[0m\u001b[0m\n\u001b[1;32m----> 2\u001b[1;33m \u001b[0mdf\u001b[0m\u001b[1;33m.\u001b[0m\u001b[0msort_index\u001b[0m\u001b[1;33m(\u001b[0m\u001b[0minplace\u001b[0m \u001b[1;33m=\u001b[0m \u001b[1;32mTrue\u001b[0m\u001b[1;33m,\u001b[0m \u001b[0mascending\u001b[0m \u001b[1;33m=\u001b[0m \u001b[1;32mFalse\u001b[0m\u001b[1;33m)\u001b[0m\u001b[1;33m\u001b[0m\u001b[1;33m\u001b[0m\u001b[0m\n\u001b[0m\u001b[0;32m      3\u001b[0m \u001b[0mdf\u001b[0m\u001b[1;33m.\u001b[0m\u001b[0mhead\u001b[0m\u001b[1;33m(\u001b[0m\u001b[1;36m10\u001b[0m\u001b[1;33m)\u001b[0m\u001b[1;33m\u001b[0m\u001b[1;33m\u001b[0m\u001b[0m\n",
      "\u001b[1;31mAttributeError\u001b[0m: 'NoneType' object has no attribute 'sort_index'"
     ]
    }
   ],
   "source": [
    "df = ts.get_tick_data('600030',date='2017-07-28')    #get_tick_data()\n",
    "df.sort_index(inplace = True, ascending = False)\n",
    "df.head(10)"
   ]
  },
  {
   "cell_type": "markdown",
   "metadata": {
    "collapsed": true
   },
   "source": [
    "#### Tushare获得当前主流指数列表"
   ]
  },
  {
   "cell_type": "code",
   "execution_count": 56,
   "metadata": {},
   "outputs": [
    {
     "data": {
      "text/html": [
       "<div>\n",
       "<style scoped>\n",
       "    .dataframe tbody tr th:only-of-type {\n",
       "        vertical-align: middle;\n",
       "    }\n",
       "\n",
       "    .dataframe tbody tr th {\n",
       "        vertical-align: top;\n",
       "    }\n",
       "\n",
       "    .dataframe thead th {\n",
       "        text-align: right;\n",
       "    }\n",
       "</style>\n",
       "<table border=\"1\" class=\"dataframe\">\n",
       "  <thead>\n",
       "    <tr style=\"text-align: right;\">\n",
       "      <th></th>\n",
       "      <th>code</th>\n",
       "      <th>name</th>\n",
       "      <th>change</th>\n",
       "      <th>open</th>\n",
       "      <th>preclose</th>\n",
       "      <th>close</th>\n",
       "      <th>high</th>\n",
       "      <th>low</th>\n",
       "      <th>volume</th>\n",
       "      <th>amount</th>\n",
       "    </tr>\n",
       "  </thead>\n",
       "  <tbody>\n",
       "    <tr>\n",
       "      <td>0</td>\n",
       "      <td>000001</td>\n",
       "      <td>上证指数</td>\n",
       "      <td>-0.40</td>\n",
       "      <td>3019.6395</td>\n",
       "      <td>3017.0658</td>\n",
       "      <td>3004.9376</td>\n",
       "      <td>3027.4835</td>\n",
       "      <td>3002.2601</td>\n",
       "      <td>215075755</td>\n",
       "      <td>2233.0504</td>\n",
       "    </tr>\n",
       "    <tr>\n",
       "      <td>1</td>\n",
       "      <td>000002</td>\n",
       "      <td>Ａ股指数</td>\n",
       "      <td>-0.40</td>\n",
       "      <td>3164.0702</td>\n",
       "      <td>3161.3655</td>\n",
       "      <td>3148.5880</td>\n",
       "      <td>3172.2716</td>\n",
       "      <td>3145.7838</td>\n",
       "      <td>214786757</td>\n",
       "      <td>2231.6591</td>\n",
       "    </tr>\n",
       "    <tr>\n",
       "      <td>2</td>\n",
       "      <td>000003</td>\n",
       "      <td>Ｂ股指数</td>\n",
       "      <td>0.55</td>\n",
       "      <td>253.0518</td>\n",
       "      <td>253.1074</td>\n",
       "      <td>254.4957</td>\n",
       "      <td>255.2223</td>\n",
       "      <td>252.7976</td>\n",
       "      <td>288998</td>\n",
       "      <td>1.3913</td>\n",
       "    </tr>\n",
       "    <tr>\n",
       "      <td>3</td>\n",
       "      <td>000008</td>\n",
       "      <td>综合指数</td>\n",
       "      <td>-0.19</td>\n",
       "      <td>2946.5961</td>\n",
       "      <td>2944.7551</td>\n",
       "      <td>2939.0323</td>\n",
       "      <td>2960.2985</td>\n",
       "      <td>2933.1978</td>\n",
       "      <td>47104493</td>\n",
       "      <td>462.2913</td>\n",
       "    </tr>\n",
       "    <tr>\n",
       "      <td>4</td>\n",
       "      <td>000009</td>\n",
       "      <td>上证380</td>\n",
       "      <td>-0.88</td>\n",
       "      <td>4774.2901</td>\n",
       "      <td>4771.9615</td>\n",
       "      <td>4729.9812</td>\n",
       "      <td>4782.6832</td>\n",
       "      <td>4728.3699</td>\n",
       "      <td>43964815</td>\n",
       "      <td>484.4633</td>\n",
       "    </tr>\n",
       "  </tbody>\n",
       "</table>\n",
       "</div>"
      ],
      "text/plain": [
       "     code   name  change       open   preclose      close       high  \\\n",
       "0  000001   上证指数   -0.40  3019.6395  3017.0658  3004.9376  3027.4835   \n",
       "1  000002   Ａ股指数   -0.40  3164.0702  3161.3655  3148.5880  3172.2716   \n",
       "2  000003   Ｂ股指数    0.55   253.0518   253.1074   254.4957   255.2223   \n",
       "3  000008   综合指数   -0.19  2946.5961  2944.7551  2939.0323  2960.2985   \n",
       "4  000009  上证380   -0.88  4774.2901  4771.9615  4729.9812  4782.6832   \n",
       "\n",
       "         low     volume     amount  \n",
       "0  3002.2601  215075755  2233.0504  \n",
       "1  3145.7838  214786757  2231.6591  \n",
       "2   252.7976     288998     1.3913  \n",
       "3  2933.1978   47104493   462.2913  \n",
       "4  4728.3699   43964815   484.4633  "
      ]
     },
     "execution_count": 56,
     "metadata": {},
     "output_type": "execute_result"
    }
   ],
   "source": [
    "df = ts.get_index()\n",
    "df.head()   #显示部分主流指数"
   ]
  },
  {
   "cell_type": "markdown",
   "metadata": {
    "collapsed": true
   },
   "source": [
    "#### Tushare获得股票的基本面信息"
   ]
  },
  {
   "cell_type": "code",
   "execution_count": 57,
   "metadata": {},
   "outputs": [
    {
     "data": {
      "text/plain": [
       "19940324"
      ]
     },
     "execution_count": 57,
     "metadata": {},
     "output_type": "execute_result"
    }
   ],
   "source": [
    "df = ts.get_stock_basics()         #基本面数据\n",
    "date = df.ix['600848']['timeToMarket']\n",
    "date"
   ]
  },
  {
   "cell_type": "code",
   "execution_count": 58,
   "metadata": {},
   "outputs": [
    {
     "data": {
      "text/plain": [
       "20030106"
      ]
     },
     "execution_count": 58,
     "metadata": {},
     "output_type": "execute_result"
    }
   ],
   "source": [
    "date = df.loc['600030']['timeToMarket']        #ix即将要被取消；\n",
    "date"
   ]
  },
  {
   "cell_type": "markdown",
   "metadata": {
    "collapsed": true
   },
   "source": [
    "#### 获得所有股票基本面数据"
   ]
  },
  {
   "cell_type": "code",
   "execution_count": 59,
   "metadata": {},
   "outputs": [
    {
     "data": {
      "text/html": [
       "<div>\n",
       "<style scoped>\n",
       "    .dataframe tbody tr th:only-of-type {\n",
       "        vertical-align: middle;\n",
       "    }\n",
       "\n",
       "    .dataframe tbody tr th {\n",
       "        vertical-align: top;\n",
       "    }\n",
       "\n",
       "    .dataframe thead th {\n",
       "        text-align: right;\n",
       "    }\n",
       "</style>\n",
       "<table border=\"1\" class=\"dataframe\">\n",
       "  <thead>\n",
       "    <tr style=\"text-align: right;\">\n",
       "      <th></th>\n",
       "      <th>name</th>\n",
       "      <th>industry</th>\n",
       "      <th>area</th>\n",
       "      <th>pe</th>\n",
       "      <th>outstanding</th>\n",
       "      <th>totals</th>\n",
       "      <th>totalAssets</th>\n",
       "      <th>liquidAssets</th>\n",
       "      <th>fixedAssets</th>\n",
       "      <th>reserved</th>\n",
       "      <th>...</th>\n",
       "      <th>bvps</th>\n",
       "      <th>pb</th>\n",
       "      <th>timeToMarket</th>\n",
       "      <th>undp</th>\n",
       "      <th>perundp</th>\n",
       "      <th>rev</th>\n",
       "      <th>profit</th>\n",
       "      <th>gpr</th>\n",
       "      <th>npr</th>\n",
       "      <th>holders</th>\n",
       "    </tr>\n",
       "    <tr>\n",
       "      <th>code</th>\n",
       "      <th></th>\n",
       "      <th></th>\n",
       "      <th></th>\n",
       "      <th></th>\n",
       "      <th></th>\n",
       "      <th></th>\n",
       "      <th></th>\n",
       "      <th></th>\n",
       "      <th></th>\n",
       "      <th></th>\n",
       "      <th></th>\n",
       "      <th></th>\n",
       "      <th></th>\n",
       "      <th></th>\n",
       "      <th></th>\n",
       "      <th></th>\n",
       "      <th></th>\n",
       "      <th></th>\n",
       "      <th></th>\n",
       "      <th></th>\n",
       "      <th></th>\n",
       "    </tr>\n",
       "  </thead>\n",
       "  <tbody>\n",
       "    <tr>\n",
       "      <td>601512</td>\n",
       "      <td>N中新</td>\n",
       "      <td>园区开发</td>\n",
       "      <td>江苏</td>\n",
       "      <td>14.79</td>\n",
       "      <td>1.50</td>\n",
       "      <td>14.99</td>\n",
       "      <td>214.62</td>\n",
       "      <td>119.45</td>\n",
       "      <td>11.99</td>\n",
       "      <td>0.22</td>\n",
       "      <td>...</td>\n",
       "      <td>6.75</td>\n",
       "      <td>2.06</td>\n",
       "      <td>20191220</td>\n",
       "      <td>69.78</td>\n",
       "      <td>4.66</td>\n",
       "      <td>0.00</td>\n",
       "      <td>0.00</td>\n",
       "      <td>40.39</td>\n",
       "      <td>23.35</td>\n",
       "      <td>141209.0</td>\n",
       "    </tr>\n",
       "    <tr>\n",
       "      <td>688023</td>\n",
       "      <td>安恒信息</td>\n",
       "      <td>软件服务</td>\n",
       "      <td>浙江</td>\n",
       "      <td>0.00</td>\n",
       "      <td>0.15</td>\n",
       "      <td>0.74</td>\n",
       "      <td>8.88</td>\n",
       "      <td>5.70</td>\n",
       "      <td>2.68</td>\n",
       "      <td>3.09</td>\n",
       "      <td>...</td>\n",
       "      <td>19.13</td>\n",
       "      <td>7.92</td>\n",
       "      <td>20191105</td>\n",
       "      <td>0.86</td>\n",
       "      <td>1.16</td>\n",
       "      <td>0.00</td>\n",
       "      <td>0.00</td>\n",
       "      <td>68.31</td>\n",
       "      <td>-8.81</td>\n",
       "      <td>16241.0</td>\n",
       "    </tr>\n",
       "    <tr>\n",
       "      <td>600156</td>\n",
       "      <td>华升股份</td>\n",
       "      <td>纺织</td>\n",
       "      <td>湖南</td>\n",
       "      <td>0.00</td>\n",
       "      <td>4.02</td>\n",
       "      <td>4.02</td>\n",
       "      <td>11.61</td>\n",
       "      <td>6.77</td>\n",
       "      <td>1.08</td>\n",
       "      <td>1.48</td>\n",
       "      <td>...</td>\n",
       "      <td>1.79</td>\n",
       "      <td>2.93</td>\n",
       "      <td>19980527</td>\n",
       "      <td>1.42</td>\n",
       "      <td>0.35</td>\n",
       "      <td>9.46</td>\n",
       "      <td>-23.61</td>\n",
       "      <td>3.98</td>\n",
       "      <td>-3.54</td>\n",
       "      <td>30255.0</td>\n",
       "    </tr>\n",
       "    <tr>\n",
       "      <td>002365</td>\n",
       "      <td>永安药业</td>\n",
       "      <td>化学制药</td>\n",
       "      <td>湖北</td>\n",
       "      <td>32.57</td>\n",
       "      <td>2.41</td>\n",
       "      <td>2.95</td>\n",
       "      <td>18.86</td>\n",
       "      <td>7.29</td>\n",
       "      <td>9.74</td>\n",
       "      <td>7.01</td>\n",
       "      <td>...</td>\n",
       "      <td>5.46</td>\n",
       "      <td>1.89</td>\n",
       "      <td>20100305</td>\n",
       "      <td>5.90</td>\n",
       "      <td>2.00</td>\n",
       "      <td>38.74</td>\n",
       "      <td>-54.01</td>\n",
       "      <td>21.85</td>\n",
       "      <td>6.91</td>\n",
       "      <td>28478.0</td>\n",
       "    </tr>\n",
       "    <tr>\n",
       "      <td>600223</td>\n",
       "      <td>鲁商发展</td>\n",
       "      <td>区域地产</td>\n",
       "      <td>山东</td>\n",
       "      <td>27.11</td>\n",
       "      <td>10.01</td>\n",
       "      <td>10.01</td>\n",
       "      <td>571.49</td>\n",
       "      <td>556.16</td>\n",
       "      <td>8.11</td>\n",
       "      <td>1.09</td>\n",
       "      <td>...</td>\n",
       "      <td>2.58</td>\n",
       "      <td>2.59</td>\n",
       "      <td>20000113</td>\n",
       "      <td>13.61</td>\n",
       "      <td>1.36</td>\n",
       "      <td>28.45</td>\n",
       "      <td>47.53</td>\n",
       "      <td>19.49</td>\n",
       "      <td>2.64</td>\n",
       "      <td>25968.0</td>\n",
       "    </tr>\n",
       "  </tbody>\n",
       "</table>\n",
       "<p>5 rows × 22 columns</p>\n",
       "</div>"
      ],
      "text/plain": [
       "        name industry area     pe  outstanding  totals  totalAssets  \\\n",
       "code                                                                  \n",
       "601512   N中新     园区开发   江苏  14.79         1.50   14.99       214.62   \n",
       "688023  安恒信息     软件服务   浙江   0.00         0.15    0.74         8.88   \n",
       "600156  华升股份       纺织   湖南   0.00         4.02    4.02        11.61   \n",
       "002365  永安药业     化学制药   湖北  32.57         2.41    2.95        18.86   \n",
       "600223  鲁商发展     区域地产   山东  27.11        10.01   10.01       571.49   \n",
       "\n",
       "        liquidAssets  fixedAssets  reserved  ...   bvps    pb  timeToMarket  \\\n",
       "code                                         ...                              \n",
       "601512        119.45        11.99      0.22  ...   6.75  2.06      20191220   \n",
       "688023          5.70         2.68      3.09  ...  19.13  7.92      20191105   \n",
       "600156          6.77         1.08      1.48  ...   1.79  2.93      19980527   \n",
       "002365          7.29         9.74      7.01  ...   5.46  1.89      20100305   \n",
       "600223        556.16         8.11      1.09  ...   2.58  2.59      20000113   \n",
       "\n",
       "         undp  perundp    rev  profit    gpr    npr   holders  \n",
       "code                                                           \n",
       "601512  69.78     4.66   0.00    0.00  40.39  23.35  141209.0  \n",
       "688023   0.86     1.16   0.00    0.00  68.31  -8.81   16241.0  \n",
       "600156   1.42     0.35   9.46  -23.61   3.98  -3.54   30255.0  \n",
       "002365   5.90     2.00  38.74  -54.01  21.85   6.91   28478.0  \n",
       "600223  13.61     1.36  28.45   47.53  19.49   2.64   25968.0  \n",
       "\n",
       "[5 rows x 22 columns]"
      ]
     },
     "execution_count": 59,
     "metadata": {},
     "output_type": "execute_result"
    }
   ],
   "source": [
    "data = ts.get_stock_basics()     #get_stocl_basics()\n",
    "data.head()"
   ]
  },
  {
   "cell_type": "code",
   "execution_count": 60,
   "metadata": {},
   "outputs": [
    {
     "name": "stdout",
     "output_type": "stream",
     "text": [
      "<class 'pandas.core.frame.DataFrame'>\n",
      "Index: 3762 entries, 601512 to 688181\n",
      "Data columns (total 22 columns):\n",
      "name                3762 non-null object\n",
      "industry            3762 non-null object\n",
      "area                3762 non-null object\n",
      "pe                  3762 non-null float64\n",
      "outstanding         3762 non-null float64\n",
      "totals              3762 non-null float64\n",
      "totalAssets         3762 non-null float64\n",
      "liquidAssets        3762 non-null float64\n",
      "fixedAssets         3762 non-null float64\n",
      "reserved            3762 non-null float64\n",
      "reservedPerShare    3762 non-null float64\n",
      "esp                 3762 non-null float64\n",
      "bvps                3762 non-null float64\n",
      "pb                  3762 non-null float64\n",
      "timeToMarket        3762 non-null int64\n",
      "undp                3762 non-null float64\n",
      "perundp             3762 non-null float64\n",
      "rev                 3762 non-null float64\n",
      "profit              3762 non-null float64\n",
      "gpr                 3762 non-null float64\n",
      "npr                 3762 non-null float64\n",
      "holders             3762 non-null float64\n",
      "dtypes: float64(18), int64(1), object(3)\n",
      "memory usage: 676.0+ KB\n"
     ]
    }
   ],
   "source": [
    "data.info()"
   ]
  },
  {
   "cell_type": "code",
   "execution_count": 61,
   "metadata": {},
   "outputs": [
    {
     "data": {
      "text/plain": [
       "pe     20.37\n",
       "esp    0.868\n",
       "Name: 600030, dtype: object"
      ]
     },
     "execution_count": 61,
     "metadata": {},
     "output_type": "execute_result"
    }
   ],
   "source": [
    "data.ix['600030'][['pe','esp']]     #pandas数据选择的复习；"
   ]
  },
  {
   "cell_type": "code",
   "execution_count": 62,
   "metadata": {},
   "outputs": [
    {
     "data": {
      "text/plain": [
       "pe     20.37\n",
       "esp    0.868\n",
       "Name: 600030, dtype: object"
      ]
     },
     "execution_count": 62,
     "metadata": {},
     "output_type": "execute_result"
    }
   ],
   "source": [
    "data.loc['600030'][['pe','esp']]"
   ]
  },
  {
   "cell_type": "code",
   "execution_count": 63,
   "metadata": {},
   "outputs": [
    {
     "name": "stdout",
     "output_type": "stream",
     "text": [
      "[Getting data:]###########################################################"
     ]
    }
   ],
   "source": [
    "data = ts.get_profit_data(2017,1)    #获得公司盈利数据；"
   ]
  },
  {
   "cell_type": "code",
   "execution_count": 64,
   "metadata": {},
   "outputs": [
    {
     "data": {
      "text/html": [
       "<div>\n",
       "<style scoped>\n",
       "    .dataframe tbody tr th:only-of-type {\n",
       "        vertical-align: middle;\n",
       "    }\n",
       "\n",
       "    .dataframe tbody tr th {\n",
       "        vertical-align: top;\n",
       "    }\n",
       "\n",
       "    .dataframe thead th {\n",
       "        text-align: right;\n",
       "    }\n",
       "</style>\n",
       "<table border=\"1\" class=\"dataframe\">\n",
       "  <thead>\n",
       "    <tr style=\"text-align: right;\">\n",
       "      <th></th>\n",
       "      <th>code</th>\n",
       "      <th>name</th>\n",
       "      <th>roe</th>\n",
       "      <th>net_profit_ratio</th>\n",
       "      <th>gross_profit_rate</th>\n",
       "      <th>net_profits</th>\n",
       "      <th>eps</th>\n",
       "      <th>business_income</th>\n",
       "      <th>bips</th>\n",
       "    </tr>\n",
       "  </thead>\n",
       "  <tbody>\n",
       "    <tr>\n",
       "      <td>0</td>\n",
       "      <td>600423</td>\n",
       "      <td>ST柳化</td>\n",
       "      <td>215.12</td>\n",
       "      <td>10.30</td>\n",
       "      <td>-1.3970</td>\n",
       "      <td>40.6863</td>\n",
       "      <td>0.1018</td>\n",
       "      <td>394.6887</td>\n",
       "      <td>0.9883</td>\n",
       "    </tr>\n",
       "    <tr>\n",
       "      <td>1</td>\n",
       "      <td>600306</td>\n",
       "      <td>商业城</td>\n",
       "      <td>71.97</td>\n",
       "      <td>71.48</td>\n",
       "      <td>17.3030</td>\n",
       "      <td>171.9346</td>\n",
       "      <td>0.9651</td>\n",
       "      <td>240.5080</td>\n",
       "      <td>1.3501</td>\n",
       "    </tr>\n",
       "    <tr>\n",
       "      <td>2</td>\n",
       "      <td>000717</td>\n",
       "      <td>韶钢松山</td>\n",
       "      <td>26.83</td>\n",
       "      <td>3.19</td>\n",
       "      <td>6.2247</td>\n",
       "      <td>168.1588</td>\n",
       "      <td>0.0695</td>\n",
       "      <td>5268.7636</td>\n",
       "      <td>2.1776</td>\n",
       "    </tr>\n",
       "    <tr>\n",
       "      <td>3</td>\n",
       "      <td>600133</td>\n",
       "      <td>东湖高新</td>\n",
       "      <td>26.81</td>\n",
       "      <td>55.22</td>\n",
       "      <td>11.6396</td>\n",
       "      <td>686.8356</td>\n",
       "      <td>1.0828</td>\n",
       "      <td>1243.7266</td>\n",
       "      <td>1.9609</td>\n",
       "    </tr>\n",
       "    <tr>\n",
       "      <td>4</td>\n",
       "      <td>002893</td>\n",
       "      <td>华通热力</td>\n",
       "      <td>25.83</td>\n",
       "      <td>21.81</td>\n",
       "      <td>32.2225</td>\n",
       "      <td>112.7380</td>\n",
       "      <td>1.2526</td>\n",
       "      <td>516.6846</td>\n",
       "      <td>5.7409</td>\n",
       "    </tr>\n",
       "  </tbody>\n",
       "</table>\n",
       "</div>"
      ],
      "text/plain": [
       "     code  name     roe  net_profit_ratio  gross_profit_rate  net_profits  \\\n",
       "0  600423  ST柳化  215.12             10.30            -1.3970      40.6863   \n",
       "1  600306   商业城   71.97             71.48            17.3030     171.9346   \n",
       "2  000717  韶钢松山   26.83              3.19             6.2247     168.1588   \n",
       "3  600133  东湖高新   26.81             55.22            11.6396     686.8356   \n",
       "4  002893  华通热力   25.83             21.81            32.2225     112.7380   \n",
       "\n",
       "      eps  business_income    bips  \n",
       "0  0.1018         394.6887  0.9883  \n",
       "1  0.9651         240.5080  1.3501  \n",
       "2  0.0695        5268.7636  2.1776  \n",
       "3  1.0828        1243.7266  1.9609  \n",
       "4  1.2526         516.6846  5.7409  "
      ]
     },
     "execution_count": 64,
     "metadata": {},
     "output_type": "execute_result"
    }
   ],
   "source": [
    "data.head()"
   ]
  },
  {
   "cell_type": "code",
   "execution_count": 65,
   "metadata": {},
   "outputs": [],
   "source": [
    "data.set_index('code', inplace = True)"
   ]
  },
  {
   "cell_type": "code",
   "execution_count": 66,
   "metadata": {},
   "outputs": [
    {
     "data": {
      "text/html": [
       "<div>\n",
       "<style scoped>\n",
       "    .dataframe tbody tr th:only-of-type {\n",
       "        vertical-align: middle;\n",
       "    }\n",
       "\n",
       "    .dataframe tbody tr th {\n",
       "        vertical-align: top;\n",
       "    }\n",
       "\n",
       "    .dataframe thead th {\n",
       "        text-align: right;\n",
       "    }\n",
       "</style>\n",
       "<table border=\"1\" class=\"dataframe\">\n",
       "  <thead>\n",
       "    <tr style=\"text-align: right;\">\n",
       "      <th></th>\n",
       "      <th>name</th>\n",
       "      <th>roe</th>\n",
       "      <th>net_profit_ratio</th>\n",
       "      <th>gross_profit_rate</th>\n",
       "      <th>net_profits</th>\n",
       "      <th>eps</th>\n",
       "      <th>business_income</th>\n",
       "      <th>bips</th>\n",
       "    </tr>\n",
       "    <tr>\n",
       "      <th>code</th>\n",
       "      <th></th>\n",
       "      <th></th>\n",
       "      <th></th>\n",
       "      <th></th>\n",
       "      <th></th>\n",
       "      <th></th>\n",
       "      <th></th>\n",
       "      <th></th>\n",
       "    </tr>\n",
       "  </thead>\n",
       "  <tbody>\n",
       "    <tr>\n",
       "      <td>600423</td>\n",
       "      <td>ST柳化</td>\n",
       "      <td>215.12</td>\n",
       "      <td>10.30</td>\n",
       "      <td>-1.3970</td>\n",
       "      <td>40.6863</td>\n",
       "      <td>0.1018</td>\n",
       "      <td>394.6887</td>\n",
       "      <td>0.9883</td>\n",
       "    </tr>\n",
       "    <tr>\n",
       "      <td>600306</td>\n",
       "      <td>商业城</td>\n",
       "      <td>71.97</td>\n",
       "      <td>71.48</td>\n",
       "      <td>17.3030</td>\n",
       "      <td>171.9346</td>\n",
       "      <td>0.9651</td>\n",
       "      <td>240.5080</td>\n",
       "      <td>1.3501</td>\n",
       "    </tr>\n",
       "    <tr>\n",
       "      <td>000717</td>\n",
       "      <td>韶钢松山</td>\n",
       "      <td>26.83</td>\n",
       "      <td>3.19</td>\n",
       "      <td>6.2247</td>\n",
       "      <td>168.1588</td>\n",
       "      <td>0.0695</td>\n",
       "      <td>5268.7636</td>\n",
       "      <td>2.1776</td>\n",
       "    </tr>\n",
       "    <tr>\n",
       "      <td>600133</td>\n",
       "      <td>东湖高新</td>\n",
       "      <td>26.81</td>\n",
       "      <td>55.22</td>\n",
       "      <td>11.6396</td>\n",
       "      <td>686.8356</td>\n",
       "      <td>1.0828</td>\n",
       "      <td>1243.7266</td>\n",
       "      <td>1.9609</td>\n",
       "    </tr>\n",
       "    <tr>\n",
       "      <td>002893</td>\n",
       "      <td>华通热力</td>\n",
       "      <td>25.83</td>\n",
       "      <td>21.81</td>\n",
       "      <td>32.2225</td>\n",
       "      <td>112.7380</td>\n",
       "      <td>1.2526</td>\n",
       "      <td>516.6846</td>\n",
       "      <td>5.7409</td>\n",
       "    </tr>\n",
       "  </tbody>\n",
       "</table>\n",
       "</div>"
      ],
      "text/plain": [
       "        name     roe  net_profit_ratio  gross_profit_rate  net_profits  \\\n",
       "code                                                                     \n",
       "600423  ST柳化  215.12             10.30            -1.3970      40.6863   \n",
       "600306   商业城   71.97             71.48            17.3030     171.9346   \n",
       "000717  韶钢松山   26.83              3.19             6.2247     168.1588   \n",
       "600133  东湖高新   26.81             55.22            11.6396     686.8356   \n",
       "002893  华通热力   25.83             21.81            32.2225     112.7380   \n",
       "\n",
       "           eps  business_income    bips  \n",
       "code                                     \n",
       "600423  0.1018         394.6887  0.9883  \n",
       "600306  0.9651         240.5080  1.3501  \n",
       "000717  0.0695        5268.7636  2.1776  \n",
       "600133  1.0828        1243.7266  1.9609  \n",
       "002893  1.2526         516.6846  5.7409  "
      ]
     },
     "execution_count": 66,
     "metadata": {},
     "output_type": "execute_result"
    }
   ],
   "source": [
    "data.head()"
   ]
  },
  {
   "cell_type": "code",
   "execution_count": 67,
   "metadata": {
    "scrolled": true
   },
   "outputs": [
    {
     "data": {
      "text/plain": [
       "roe                 1.57\n",
       "net_profit_ratio    26.7\n",
       "Name: 600030, dtype: object"
      ]
     },
     "execution_count": 67,
     "metadata": {},
     "output_type": "execute_result"
    }
   ],
   "source": [
    "data.ix['600030'][['roe','net_profit_ratio']]"
   ]
  },
  {
   "cell_type": "markdown",
   "metadata": {},
   "source": [
    "#### 获得非结构化新闻、舆情数据"
   ]
  },
  {
   "cell_type": "code",
   "execution_count": 68,
   "metadata": {},
   "outputs": [
    {
     "name": "stdout",
     "output_type": "stream",
     "text": [
      "list index out of range\n"
     ]
    }
   ],
   "source": [
    "ts.get_latest_news(top=5,show_content=True) #显示最新5条新闻，并打印出新闻内容"
   ]
  },
  {
   "cell_type": "markdown",
   "metadata": {
    "collapsed": true
   },
   "source": [
    "#### 获取龙虎榜信息"
   ]
  },
  {
   "cell_type": "code",
   "execution_count": 69,
   "metadata": {},
   "outputs": [
    {
     "data": {
      "text/html": [
       "<div>\n",
       "<style scoped>\n",
       "    .dataframe tbody tr th:only-of-type {\n",
       "        vertical-align: middle;\n",
       "    }\n",
       "\n",
       "    .dataframe tbody tr th {\n",
       "        vertical-align: top;\n",
       "    }\n",
       "\n",
       "    .dataframe thead th {\n",
       "        text-align: right;\n",
       "    }\n",
       "</style>\n",
       "<table border=\"1\" class=\"dataframe\">\n",
       "  <thead>\n",
       "    <tr style=\"text-align: right;\">\n",
       "      <th></th>\n",
       "      <th>code</th>\n",
       "      <th>name</th>\n",
       "      <th>pchange</th>\n",
       "      <th>amount</th>\n",
       "      <th>buy</th>\n",
       "      <th>sell</th>\n",
       "      <th>reason</th>\n",
       "      <th>bratio</th>\n",
       "      <th>sratio</th>\n",
       "      <th>date</th>\n",
       "    </tr>\n",
       "  </thead>\n",
       "  <tbody>\n",
       "    <tr>\n",
       "      <td>0</td>\n",
       "      <td>000519</td>\n",
       "      <td>中兵红箭</td>\n",
       "      <td>5.7881</td>\n",
       "      <td>10331.03</td>\n",
       "      <td>8276.97</td>\n",
       "      <td>2054.06</td>\n",
       "      <td>日涨幅偏离值达到7%的前五只证券</td>\n",
       "      <td>0.12</td>\n",
       "      <td>0.03</td>\n",
       "      <td>2017-08-11</td>\n",
       "    </tr>\n",
       "    <tr>\n",
       "      <td>1</td>\n",
       "      <td>000615</td>\n",
       "      <td>京汉股份</td>\n",
       "      <td>8.6142</td>\n",
       "      <td>29848.69</td>\n",
       "      <td>23399.14</td>\n",
       "      <td>6449.55</td>\n",
       "      <td>日换手率达到20%的前五只证券</td>\n",
       "      <td>0.15</td>\n",
       "      <td>0.04</td>\n",
       "      <td>2017-08-11</td>\n",
       "    </tr>\n",
       "    <tr>\n",
       "      <td>2</td>\n",
       "      <td>000615</td>\n",
       "      <td>京汉股份</td>\n",
       "      <td>8.6142</td>\n",
       "      <td>29848.69</td>\n",
       "      <td>23399.14</td>\n",
       "      <td>6449.55</td>\n",
       "      <td>日涨幅偏离值达到7%的前五只证券</td>\n",
       "      <td>0.15</td>\n",
       "      <td>0.04</td>\n",
       "      <td>2017-08-11</td>\n",
       "    </tr>\n",
       "    <tr>\n",
       "      <td>3</td>\n",
       "      <td>000717</td>\n",
       "      <td>韶钢松山</td>\n",
       "      <td>-10.0314</td>\n",
       "      <td>14525.38</td>\n",
       "      <td>5268.84</td>\n",
       "      <td>9256.54</td>\n",
       "      <td>日跌幅偏离值达到7%的前五只证券</td>\n",
       "      <td>0.11</td>\n",
       "      <td>0.19</td>\n",
       "      <td>2017-08-11</td>\n",
       "    </tr>\n",
       "    <tr>\n",
       "      <td>4</td>\n",
       "      <td>000751</td>\n",
       "      <td>锌业股份</td>\n",
       "      <td>-9.9688</td>\n",
       "      <td>13448.01</td>\n",
       "      <td>4510.43</td>\n",
       "      <td>8937.59</td>\n",
       "      <td>日跌幅偏离值达到7%的前五只证券</td>\n",
       "      <td>0.05</td>\n",
       "      <td>0.10</td>\n",
       "      <td>2017-08-11</td>\n",
       "    </tr>\n",
       "  </tbody>\n",
       "</table>\n",
       "</div>"
      ],
      "text/plain": [
       "     code  name   pchange    amount       buy     sell            reason  \\\n",
       "0  000519  中兵红箭    5.7881  10331.03   8276.97  2054.06  日涨幅偏离值达到7%的前五只证券   \n",
       "1  000615  京汉股份    8.6142  29848.69  23399.14  6449.55   日换手率达到20%的前五只证券   \n",
       "2  000615  京汉股份    8.6142  29848.69  23399.14  6449.55  日涨幅偏离值达到7%的前五只证券   \n",
       "3  000717  韶钢松山  -10.0314  14525.38   5268.84  9256.54  日跌幅偏离值达到7%的前五只证券   \n",
       "4  000751  锌业股份   -9.9688  13448.01   4510.43  8937.59  日跌幅偏离值达到7%的前五只证券   \n",
       "\n",
       "  bratio sratio        date  \n",
       "0   0.12   0.03  2017-08-11  \n",
       "1   0.15   0.04  2017-08-11  \n",
       "2   0.15   0.04  2017-08-11  \n",
       "3   0.11   0.19  2017-08-11  \n",
       "4   0.05   0.10  2017-08-11  "
      ]
     },
     "execution_count": 69,
     "metadata": {},
     "output_type": "execute_result"
    }
   ],
   "source": [
    "top_list = ts.top_list('2017-08-11')\n",
    "top_list.head()"
   ]
  },
  {
   "cell_type": "markdown",
   "metadata": {},
   "source": [
    "### 2.4 常用：优矿"
   ]
  },
  {
   "cell_type": "markdown",
   "metadata": {
    "collapsed": true
   },
   "source": [
    "可以通过优矿下载数据，并保存成CSV文件下载再导入；"
   ]
  },
  {
   "cell_type": "code",
   "execution_count": 70,
   "metadata": {},
   "outputs": [
    {
     "ename": "NameError",
     "evalue": "name 'DataAPI' is not defined",
     "output_type": "error",
     "traceback": [
      "\u001b[1;31m---------------------------------------------------------------------------\u001b[0m",
      "\u001b[1;31mNameError\u001b[0m                                 Traceback (most recent call last)",
      "\u001b[1;32m<ipython-input-70-ff1137993d50>\u001b[0m in \u001b[0;36m<module>\u001b[1;34m\u001b[0m\n\u001b[0;32m      1\u001b[0m \u001b[1;31m# 获得某一只当天的tick数据；\u001b[0m\u001b[1;33m\u001b[0m\u001b[1;33m\u001b[0m\u001b[1;33m\u001b[0m\u001b[0m\n\u001b[1;32m----> 2\u001b[1;33m \u001b[0mdata\u001b[0m\u001b[1;33m=\u001b[0m\u001b[0mDataAPI\u001b[0m\u001b[1;33m.\u001b[0m\u001b[0mMktTickRTIntraDayGet\u001b[0m\u001b[1;33m(\u001b[0m\u001b[0msecurityID\u001b[0m\u001b[1;33m=\u001b[0m\u001b[1;34mu\"000001.XSHE\"\u001b[0m\u001b[1;33m,\u001b[0m\u001b[0mstartTime\u001b[0m\u001b[1;33m=\u001b[0m\u001b[1;34mu\"09:30\"\u001b[0m\u001b[1;33m,\u001b[0m\u001b[0mendTime\u001b[0m\u001b[1;33m=\u001b[0m\u001b[1;34mu\"15:00\"\u001b[0m\u001b[1;33m,\u001b[0m\u001b[0mfield\u001b[0m\u001b[1;33m=\u001b[0m\u001b[1;34mu\"\"\u001b[0m\u001b[1;33m,\u001b[0m\u001b[0mpandas\u001b[0m\u001b[1;33m=\u001b[0m\u001b[1;34m\"1\"\u001b[0m\u001b[1;33m)\u001b[0m\u001b[1;33m\u001b[0m\u001b[1;33m\u001b[0m\u001b[0m\n\u001b[0m\u001b[0;32m      3\u001b[0m \u001b[0mdata\u001b[0m\u001b[1;33m.\u001b[0m\u001b[0mto_csv\u001b[0m\u001b[1;33m(\u001b[0m\u001b[1;34m'tick_data.csv'\u001b[0m\u001b[1;33m)\u001b[0m   \u001b[1;31m#下载并保存数据以供分析；\u001b[0m\u001b[1;33m\u001b[0m\u001b[1;33m\u001b[0m\u001b[0m\n",
      "\u001b[1;31mNameError\u001b[0m: name 'DataAPI' is not defined"
     ]
    }
   ],
   "source": [
    "# 获得某一只当天的tick数据；\n",
    "data=DataAPI.MktTickRTIntraDayGet(securityID=u\"000001.XSHE\",startTime=u\"09:30\",endTime=u\"15:00\",field=u\"\",pandas=\"1\")\n",
    "data.to_csv('tick_data.csv')   #下载并保存数据以供分析；"
   ]
  },
  {
   "cell_type": "code",
   "execution_count": null,
   "metadata": {
    "collapsed": true
   },
   "outputs": [],
   "source": [
    "# 获得某一些股票具体某一天的因子数据；\n",
    "DataAPI.MktStockFactorsOneDayGet(tradeDate=u\"20170630\",secID=u\"\",ticker=u\"000001,600030\",field=u\"ticker,ROE,PE,PB\",pandas=\"1\")"
   ]
  },
  {
   "cell_type": "code",
   "execution_count": null,
   "metadata": {
    "collapsed": true
   },
   "outputs": [],
   "source": [
    "#某一只股票一段时间之内的因子数据；\n",
    "DataAPI.MktStockFactorsDateRangeGet(secID=u\"\",ticker=u\"000001\",beginDate=u\"20100101\",endDate=u\"20170616\",field=u\"tradeDate,ROE,PE,PB\",pandas=\"1\")"
   ]
  },
  {
   "cell_type": "code",
   "execution_count": null,
   "metadata": {
    "collapsed": true
   },
   "outputs": [],
   "source": [
    "# 获取交易日历\n",
    "start_date = '2014-01-01'\n",
    "end_date = '2017-07-01'\n",
    "trading_date = DataAPI.TradeCalGet(exchangeCD=u\"XSHG\",beginDate=u\"\",endDate=u\"\",field=u\"\",pandas=\"1\")\n",
    "# trading_date.to_csv('trading_date.csv')\n",
    "# 筛选2013年到2016年每月最后一个交易日的日期\n",
    "print(trading_date)\n",
    "month_end = trading_date[(trading_date['isMonthEnd']==1) & (trading_date['calendarDate']>start_date) & (trading_date['calendarDate']<end_date)]['calendarDate'].tolist()\n",
    "print month_end"
   ]
  },
  {
   "cell_type": "code",
   "execution_count": null,
   "metadata": {
    "collapsed": true
   },
   "outputs": [],
   "source": [
    "# 获取某个日期以前上市的，正常交易或暂停交易的股票代码，格式为xxxxxx.XSHE或xxxxxx.XSHG\n",
    "date = '2017-10-01'\n",
    "stock_basics = DataAPI.EquGet(equTypeCD=u\"A\",secID=u\"\",ticker=u\"\",listStatusCD=u\"\",field=u\"\",pandas=\"1\")\n",
    "# stock_basics.to_csv('data/stock_basics.csv', encoding='GB18030')\n",
    "valid_stocks = stock_basics.loc[(stock_basics['listDate']<date) & (stock_basics['listStatusCD'].isin(['L','S']))]['secID']\n",
    "# valid_stocks.to_csv('data/valid_stocks.csv', encoding='GB18030')\n",
    "print valid_stocks"
   ]
  },
  {
   "cell_type": "code",
   "execution_count": null,
   "metadata": {
    "collapsed": true
   },
   "outputs": [],
   "source": [
    "# 获取对应股票在对应日期的多个因子值\n",
    "import pandas as pd\n",
    "\n",
    "mkt_value = [DataAPI.MktStockFactorsOneDayGet(tradeDate=date,secID=valid_stocks,ticker=u\"\",field=[\"secID\", 'LCAP','PE', 'REVS20', 'tradeDate'],pandas=\"1\").set_index(['tradeDate', 'secID']) for date in month_end]\n",
    "lcap = pd.concat(mkt_value, axis=0)\n",
    "# lcap.to_csv('data/raw_factors.csv')\n",
    "print lcap.head(5)"
   ]
  },
  {
   "cell_type": "code",
   "execution_count": null,
   "metadata": {
    "collapsed": true
   },
   "outputs": [],
   "source": [
    "# 每个月最后一个交易日计算市值最小的20只股票\n",
    "import pandas as pd\n",
    "\n",
    "min_cap_pool = {date: lcap['LCAP'][date].sort_values(ascending=True).index[:20] for date in month_end}\n",
    "min_cap_pool = pd.DataFrame(min_cap_pool)\n",
    "print min_cap_pool"
   ]
  },
  {
   "cell_type": "markdown",
   "metadata": {},
   "source": [
    "## 3. 数据存储"
   ]
  },
  {
   "cell_type": "markdown",
   "metadata": {},
   "source": [
    "HDF5\n",
    "\n",
    "Hierarchical Data Format(HDF)是一种针对大量数据进行组织和存储的文件格式。\n",
    "\n",
    "经历了20多年的发展，HDF格式的最新版本是HDF5"
   ]
  },
  {
   "cell_type": "code",
   "execution_count": 19,
   "metadata": {
    "collapsed": true
   },
   "outputs": [],
   "source": [
    "import numpy as np\n",
    "import pandas as pd\n",
    "import tushare as ts"
   ]
  },
  {
   "cell_type": "code",
   "execution_count": 6,
   "metadata": {},
   "outputs": [
    {
     "name": "stdout",
     "output_type": "stream",
     "text": [
      "Wall time: 471 ms\n"
     ]
    }
   ],
   "source": [
    "%time data = np.random.randn(500000,10)"
   ]
  },
  {
   "cell_type": "code",
   "execution_count": 7,
   "metadata": {},
   "outputs": [
    {
     "data": {
      "text/plain": [
       "(500000, 10)"
      ]
     },
     "execution_count": 7,
     "metadata": {},
     "output_type": "execute_result"
    }
   ],
   "source": [
    "data.shape"
   ]
  },
  {
   "cell_type": "code",
   "execution_count": 8,
   "metadata": {
    "collapsed": true
   },
   "outputs": [],
   "source": [
    "data = pd.DataFrame(data)"
   ]
  },
  {
   "cell_type": "code",
   "execution_count": 9,
   "metadata": {},
   "outputs": [
    {
     "data": {
      "text/html": [
       "<div>\n",
       "<style>\n",
       "    .dataframe thead tr:only-child th {\n",
       "        text-align: right;\n",
       "    }\n",
       "\n",
       "    .dataframe thead th {\n",
       "        text-align: left;\n",
       "    }\n",
       "\n",
       "    .dataframe tbody tr th {\n",
       "        vertical-align: top;\n",
       "    }\n",
       "</style>\n",
       "<table border=\"1\" class=\"dataframe\">\n",
       "  <thead>\n",
       "    <tr style=\"text-align: right;\">\n",
       "      <th></th>\n",
       "      <th>0</th>\n",
       "      <th>1</th>\n",
       "      <th>2</th>\n",
       "      <th>3</th>\n",
       "      <th>4</th>\n",
       "      <th>5</th>\n",
       "      <th>6</th>\n",
       "      <th>7</th>\n",
       "      <th>8</th>\n",
       "      <th>9</th>\n",
       "    </tr>\n",
       "  </thead>\n",
       "  <tbody>\n",
       "    <tr>\n",
       "      <th>0</th>\n",
       "      <td>-0.205942</td>\n",
       "      <td>-0.280256</td>\n",
       "      <td>-1.671727</td>\n",
       "      <td>0.364285</td>\n",
       "      <td>-0.488249</td>\n",
       "      <td>-0.060461</td>\n",
       "      <td>1.861852</td>\n",
       "      <td>0.744359</td>\n",
       "      <td>0.818997</td>\n",
       "      <td>0.458245</td>\n",
       "    </tr>\n",
       "    <tr>\n",
       "      <th>1</th>\n",
       "      <td>-0.801891</td>\n",
       "      <td>0.102070</td>\n",
       "      <td>1.293319</td>\n",
       "      <td>1.254277</td>\n",
       "      <td>1.067564</td>\n",
       "      <td>0.261026</td>\n",
       "      <td>-1.077104</td>\n",
       "      <td>-0.274136</td>\n",
       "      <td>0.190381</td>\n",
       "      <td>-0.441855</td>\n",
       "    </tr>\n",
       "    <tr>\n",
       "      <th>2</th>\n",
       "      <td>0.236176</td>\n",
       "      <td>0.521590</td>\n",
       "      <td>1.321235</td>\n",
       "      <td>0.920120</td>\n",
       "      <td>-0.474281</td>\n",
       "      <td>0.037810</td>\n",
       "      <td>-0.636843</td>\n",
       "      <td>0.017675</td>\n",
       "      <td>0.768869</td>\n",
       "      <td>2.340724</td>\n",
       "    </tr>\n",
       "    <tr>\n",
       "      <th>3</th>\n",
       "      <td>-1.037212</td>\n",
       "      <td>-1.046202</td>\n",
       "      <td>1.970948</td>\n",
       "      <td>0.894232</td>\n",
       "      <td>-0.475212</td>\n",
       "      <td>2.401837</td>\n",
       "      <td>-0.893403</td>\n",
       "      <td>0.426868</td>\n",
       "      <td>-0.896778</td>\n",
       "      <td>-0.355959</td>\n",
       "    </tr>\n",
       "    <tr>\n",
       "      <th>4</th>\n",
       "      <td>1.148933</td>\n",
       "      <td>1.075020</td>\n",
       "      <td>-1.818066</td>\n",
       "      <td>1.162867</td>\n",
       "      <td>1.581717</td>\n",
       "      <td>0.681554</td>\n",
       "      <td>-0.607851</td>\n",
       "      <td>2.105613</td>\n",
       "      <td>1.508517</td>\n",
       "      <td>0.488335</td>\n",
       "    </tr>\n",
       "  </tbody>\n",
       "</table>\n",
       "</div>"
      ],
      "text/plain": [
       "          0         1         2         3         4         5         6  \\\n",
       "0 -0.205942 -0.280256 -1.671727  0.364285 -0.488249 -0.060461  1.861852   \n",
       "1 -0.801891  0.102070  1.293319  1.254277  1.067564  0.261026 -1.077104   \n",
       "2  0.236176  0.521590  1.321235  0.920120 -0.474281  0.037810 -0.636843   \n",
       "3 -1.037212 -1.046202  1.970948  0.894232 -0.475212  2.401837 -0.893403   \n",
       "4  1.148933  1.075020 -1.818066  1.162867  1.581717  0.681554 -0.607851   \n",
       "\n",
       "          7         8         9  \n",
       "0  0.744359  0.818997  0.458245  \n",
       "1 -0.274136  0.190381 -0.441855  \n",
       "2  0.017675  0.768869  2.340724  \n",
       "3  0.426868 -0.896778 -0.355959  \n",
       "4  2.105613  1.508517  0.488335  "
      ]
     },
     "execution_count": 9,
     "metadata": {},
     "output_type": "execute_result"
    }
   ],
   "source": [
    "data.head()"
   ]
  },
  {
   "cell_type": "code",
   "execution_count": 10,
   "metadata": {},
   "outputs": [],
   "source": [
    "hdf5 = pd.HDFStore('data/random_number.h5', 'w')        #pd.HDFStore(),'w':write模式；知识生成了HDF5对象/文件；"
   ]
  },
  {
   "cell_type": "code",
   "execution_count": null,
   "metadata": {
    "collapsed": true
   },
   "outputs": [],
   "source": [
    "hdf5.      #tab"
   ]
  },
  {
   "cell_type": "code",
   "execution_count": 11,
   "metadata": {
    "collapsed": true
   },
   "outputs": [],
   "source": [
    "hdf5.open()       #打开刚刚创建的HDF5的文件；"
   ]
  },
  {
   "cell_type": "code",
   "execution_count": 12,
   "metadata": {},
   "outputs": [],
   "source": [
    "hdf5['data'] = data      #设置主键的名字，名字叫做data；把data随机数数据已经存进HDF5文件；"
   ]
  },
  {
   "cell_type": "code",
   "execution_count": 13,
   "metadata": {},
   "outputs": [],
   "source": [
    "hdf5.close()"
   ]
  },
  {
   "cell_type": "code",
   "execution_count": 14,
   "metadata": {},
   "outputs": [],
   "source": [
    "hdf5 = pd.HDFStore('data/random_number.h5', 'r')      #'r'读取模式；"
   ]
  },
  {
   "cell_type": "code",
   "execution_count": 15,
   "metadata": {},
   "outputs": [],
   "source": [
    "data_read = hdf5['data']     #读取hdf5中的数据并赋值给data_read"
   ]
  },
  {
   "cell_type": "code",
   "execution_count": 16,
   "metadata": {},
   "outputs": [
    {
     "data": {
      "text/html": [
       "<div>\n",
       "<style>\n",
       "    .dataframe thead tr:only-child th {\n",
       "        text-align: right;\n",
       "    }\n",
       "\n",
       "    .dataframe thead th {\n",
       "        text-align: left;\n",
       "    }\n",
       "\n",
       "    .dataframe tbody tr th {\n",
       "        vertical-align: top;\n",
       "    }\n",
       "</style>\n",
       "<table border=\"1\" class=\"dataframe\">\n",
       "  <thead>\n",
       "    <tr style=\"text-align: right;\">\n",
       "      <th></th>\n",
       "      <th>0</th>\n",
       "      <th>1</th>\n",
       "      <th>2</th>\n",
       "      <th>3</th>\n",
       "      <th>4</th>\n",
       "      <th>5</th>\n",
       "      <th>6</th>\n",
       "      <th>7</th>\n",
       "      <th>8</th>\n",
       "      <th>9</th>\n",
       "    </tr>\n",
       "  </thead>\n",
       "  <tbody>\n",
       "    <tr>\n",
       "      <th>0</th>\n",
       "      <td>-0.205942</td>\n",
       "      <td>-0.280256</td>\n",
       "      <td>-1.671727</td>\n",
       "      <td>0.364285</td>\n",
       "      <td>-0.488249</td>\n",
       "      <td>-0.060461</td>\n",
       "      <td>1.861852</td>\n",
       "      <td>0.744359</td>\n",
       "      <td>0.818997</td>\n",
       "      <td>0.458245</td>\n",
       "    </tr>\n",
       "    <tr>\n",
       "      <th>1</th>\n",
       "      <td>-0.801891</td>\n",
       "      <td>0.102070</td>\n",
       "      <td>1.293319</td>\n",
       "      <td>1.254277</td>\n",
       "      <td>1.067564</td>\n",
       "      <td>0.261026</td>\n",
       "      <td>-1.077104</td>\n",
       "      <td>-0.274136</td>\n",
       "      <td>0.190381</td>\n",
       "      <td>-0.441855</td>\n",
       "    </tr>\n",
       "    <tr>\n",
       "      <th>2</th>\n",
       "      <td>0.236176</td>\n",
       "      <td>0.521590</td>\n",
       "      <td>1.321235</td>\n",
       "      <td>0.920120</td>\n",
       "      <td>-0.474281</td>\n",
       "      <td>0.037810</td>\n",
       "      <td>-0.636843</td>\n",
       "      <td>0.017675</td>\n",
       "      <td>0.768869</td>\n",
       "      <td>2.340724</td>\n",
       "    </tr>\n",
       "    <tr>\n",
       "      <th>3</th>\n",
       "      <td>-1.037212</td>\n",
       "      <td>-1.046202</td>\n",
       "      <td>1.970948</td>\n",
       "      <td>0.894232</td>\n",
       "      <td>-0.475212</td>\n",
       "      <td>2.401837</td>\n",
       "      <td>-0.893403</td>\n",
       "      <td>0.426868</td>\n",
       "      <td>-0.896778</td>\n",
       "      <td>-0.355959</td>\n",
       "    </tr>\n",
       "    <tr>\n",
       "      <th>4</th>\n",
       "      <td>1.148933</td>\n",
       "      <td>1.075020</td>\n",
       "      <td>-1.818066</td>\n",
       "      <td>1.162867</td>\n",
       "      <td>1.581717</td>\n",
       "      <td>0.681554</td>\n",
       "      <td>-0.607851</td>\n",
       "      <td>2.105613</td>\n",
       "      <td>1.508517</td>\n",
       "      <td>0.488335</td>\n",
       "    </tr>\n",
       "  </tbody>\n",
       "</table>\n",
       "</div>"
      ],
      "text/plain": [
       "          0         1         2         3         4         5         6  \\\n",
       "0 -0.205942 -0.280256 -1.671727  0.364285 -0.488249 -0.060461  1.861852   \n",
       "1 -0.801891  0.102070  1.293319  1.254277  1.067564  0.261026 -1.077104   \n",
       "2  0.236176  0.521590  1.321235  0.920120 -0.474281  0.037810 -0.636843   \n",
       "3 -1.037212 -1.046202  1.970948  0.894232 -0.475212  2.401837 -0.893403   \n",
       "4  1.148933  1.075020 -1.818066  1.162867  1.581717  0.681554 -0.607851   \n",
       "\n",
       "          7         8         9  \n",
       "0  0.744359  0.818997  0.458245  \n",
       "1 -0.274136  0.190381 -0.441855  \n",
       "2  0.017675  0.768869  2.340724  \n",
       "3  0.426868 -0.896778 -0.355959  \n",
       "4  2.105613  1.508517  0.488335  "
      ]
     },
     "execution_count": 16,
     "metadata": {},
     "output_type": "execute_result"
    }
   ],
   "source": [
    "data_read.head()"
   ]
  },
  {
   "cell_type": "code",
   "execution_count": 17,
   "metadata": {},
   "outputs": [],
   "source": [
    "hdf5.close()"
   ]
  },
  {
   "cell_type": "code",
   "execution_count": 20,
   "metadata": {},
   "outputs": [
    {
     "name": "stdout",
     "output_type": "stream",
     "text": [
      "[Getting data:]#######################################################"
     ]
    }
   ],
   "source": [
    "profit_data = ts.get_profit_data(2017,1)"
   ]
  },
  {
   "cell_type": "code",
   "execution_count": 21,
   "metadata": {},
   "outputs": [
    {
     "data": {
      "text/html": [
       "<div>\n",
       "<style>\n",
       "    .dataframe thead tr:only-child th {\n",
       "        text-align: right;\n",
       "    }\n",
       "\n",
       "    .dataframe thead th {\n",
       "        text-align: left;\n",
       "    }\n",
       "\n",
       "    .dataframe tbody tr th {\n",
       "        vertical-align: top;\n",
       "    }\n",
       "</style>\n",
       "<table border=\"1\" class=\"dataframe\">\n",
       "  <thead>\n",
       "    <tr style=\"text-align: right;\">\n",
       "      <th></th>\n",
       "      <th>code</th>\n",
       "      <th>name</th>\n",
       "      <th>roe</th>\n",
       "      <th>net_profit_ratio</th>\n",
       "      <th>gross_profit_rate</th>\n",
       "      <th>net_profits</th>\n",
       "      <th>eps</th>\n",
       "      <th>business_income</th>\n",
       "      <th>bips</th>\n",
       "    </tr>\n",
       "  </thead>\n",
       "  <tbody>\n",
       "    <tr>\n",
       "      <th>0</th>\n",
       "      <td>600423</td>\n",
       "      <td>*ST柳化</td>\n",
       "      <td>215.12</td>\n",
       "      <td>10.30</td>\n",
       "      <td>-1.3970</td>\n",
       "      <td>40.6863</td>\n",
       "      <td>0.1018</td>\n",
       "      <td>394.6887</td>\n",
       "      <td>0.9883</td>\n",
       "    </tr>\n",
       "    <tr>\n",
       "      <th>1</th>\n",
       "      <td>600306</td>\n",
       "      <td>商业城</td>\n",
       "      <td>71.97</td>\n",
       "      <td>71.48</td>\n",
       "      <td>17.3030</td>\n",
       "      <td>171.9346</td>\n",
       "      <td>0.9651</td>\n",
       "      <td>240.5080</td>\n",
       "      <td>1.3501</td>\n",
       "    </tr>\n",
       "    <tr>\n",
       "      <th>2</th>\n",
       "      <td>000717</td>\n",
       "      <td>韶钢松山</td>\n",
       "      <td>26.83</td>\n",
       "      <td>3.19</td>\n",
       "      <td>6.2247</td>\n",
       "      <td>168.1588</td>\n",
       "      <td>0.0695</td>\n",
       "      <td>5268.7636</td>\n",
       "      <td>2.1776</td>\n",
       "    </tr>\n",
       "    <tr>\n",
       "      <th>3</th>\n",
       "      <td>600133</td>\n",
       "      <td>东湖高新</td>\n",
       "      <td>26.81</td>\n",
       "      <td>55.22</td>\n",
       "      <td>11.6396</td>\n",
       "      <td>686.8356</td>\n",
       "      <td>1.0828</td>\n",
       "      <td>1243.7266</td>\n",
       "      <td>1.9609</td>\n",
       "    </tr>\n",
       "    <tr>\n",
       "      <th>4</th>\n",
       "      <td>600354</td>\n",
       "      <td>敦煌种业</td>\n",
       "      <td>23.40</td>\n",
       "      <td>302.21</td>\n",
       "      <td>25.0654</td>\n",
       "      <td>273.7035</td>\n",
       "      <td>0.5185</td>\n",
       "      <td>90.5655</td>\n",
       "      <td>0.1715</td>\n",
       "    </tr>\n",
       "  </tbody>\n",
       "</table>\n",
       "</div>"
      ],
      "text/plain": [
       "     code   name     roe  net_profit_ratio  gross_profit_rate  net_profits  \\\n",
       "0  600423  *ST柳化  215.12             10.30            -1.3970      40.6863   \n",
       "1  600306    商业城   71.97             71.48            17.3030     171.9346   \n",
       "2  000717   韶钢松山   26.83              3.19             6.2247     168.1588   \n",
       "3  600133   东湖高新   26.81             55.22            11.6396     686.8356   \n",
       "4  600354   敦煌种业   23.40            302.21            25.0654     273.7035   \n",
       "\n",
       "      eps  business_income    bips  \n",
       "0  0.1018         394.6887  0.9883  \n",
       "1  0.9651         240.5080  1.3501  \n",
       "2  0.0695        5268.7636  2.1776  \n",
       "3  1.0828        1243.7266  1.9609  \n",
       "4  0.5185          90.5655  0.1715  "
      ]
     },
     "execution_count": 21,
     "metadata": {},
     "output_type": "execute_result"
    }
   ],
   "source": [
    "profit_data.head()"
   ]
  },
  {
   "cell_type": "code",
   "execution_count": 22,
   "metadata": {},
   "outputs": [
    {
     "name": "stdout",
     "output_type": "stream",
     "text": [
      "<class 'pandas.core.frame.DataFrame'>\n",
      "RangeIndex: 3289 entries, 0 to 3288\n",
      "Data columns (total 9 columns):\n",
      "code                 3289 non-null object\n",
      "name                 3289 non-null object\n",
      "roe                  3281 non-null float64\n",
      "net_profit_ratio     3284 non-null float64\n",
      "gross_profit_rate    3284 non-null float64\n",
      "net_profits          3288 non-null float64\n",
      "eps                  3288 non-null float64\n",
      "business_income      3288 non-null float64\n",
      "bips                 3288 non-null float64\n",
      "dtypes: float64(7), object(2)\n",
      "memory usage: 231.3+ KB\n"
     ]
    }
   ],
   "source": [
    "profit_data.info()"
   ]
  },
  {
   "cell_type": "code",
   "execution_count": 23,
   "metadata": {
    "collapsed": true
   },
   "outputs": [],
   "source": [
    "hdf5 = pd.HDFStore('profit_data.h5', 'w')"
   ]
  },
  {
   "cell_type": "code",
   "execution_count": 24,
   "metadata": {
    "collapsed": true
   },
   "outputs": [],
   "source": [
    "hdf5['data'] = profit_data     #把刚刚从tushare上调取的利润数据存进HDF5文件里；"
   ]
  },
  {
   "cell_type": "code",
   "execution_count": 25,
   "metadata": {
    "collapsed": true
   },
   "outputs": [],
   "source": [
    "hdf5.close()"
   ]
  },
  {
   "cell_type": "code",
   "execution_count": 27,
   "metadata": {},
   "outputs": [],
   "source": [
    "hdf5 = pd.HDFStore('profit_data.h5', 'r')"
   ]
  },
  {
   "cell_type": "code",
   "execution_count": 28,
   "metadata": {
    "collapsed": true
   },
   "outputs": [],
   "source": [
    "data_profit = hdf5['data']"
   ]
  },
  {
   "cell_type": "code",
   "execution_count": 29,
   "metadata": {},
   "outputs": [
    {
     "data": {
      "text/html": [
       "<div>\n",
       "<style>\n",
       "    .dataframe thead tr:only-child th {\n",
       "        text-align: right;\n",
       "    }\n",
       "\n",
       "    .dataframe thead th {\n",
       "        text-align: left;\n",
       "    }\n",
       "\n",
       "    .dataframe tbody tr th {\n",
       "        vertical-align: top;\n",
       "    }\n",
       "</style>\n",
       "<table border=\"1\" class=\"dataframe\">\n",
       "  <thead>\n",
       "    <tr style=\"text-align: right;\">\n",
       "      <th></th>\n",
       "      <th>code</th>\n",
       "      <th>name</th>\n",
       "      <th>roe</th>\n",
       "      <th>net_profit_ratio</th>\n",
       "      <th>gross_profit_rate</th>\n",
       "      <th>net_profits</th>\n",
       "      <th>eps</th>\n",
       "      <th>business_income</th>\n",
       "      <th>bips</th>\n",
       "    </tr>\n",
       "  </thead>\n",
       "  <tbody>\n",
       "    <tr>\n",
       "      <th>0</th>\n",
       "      <td>600423</td>\n",
       "      <td>*ST柳化</td>\n",
       "      <td>215.12</td>\n",
       "      <td>10.30</td>\n",
       "      <td>-1.3970</td>\n",
       "      <td>40.6863</td>\n",
       "      <td>0.1018</td>\n",
       "      <td>394.6887</td>\n",
       "      <td>0.9883</td>\n",
       "    </tr>\n",
       "    <tr>\n",
       "      <th>1</th>\n",
       "      <td>600306</td>\n",
       "      <td>商业城</td>\n",
       "      <td>71.97</td>\n",
       "      <td>71.48</td>\n",
       "      <td>17.3030</td>\n",
       "      <td>171.9346</td>\n",
       "      <td>0.9651</td>\n",
       "      <td>240.5080</td>\n",
       "      <td>1.3501</td>\n",
       "    </tr>\n",
       "    <tr>\n",
       "      <th>2</th>\n",
       "      <td>000717</td>\n",
       "      <td>韶钢松山</td>\n",
       "      <td>26.83</td>\n",
       "      <td>3.19</td>\n",
       "      <td>6.2247</td>\n",
       "      <td>168.1588</td>\n",
       "      <td>0.0695</td>\n",
       "      <td>5268.7636</td>\n",
       "      <td>2.1776</td>\n",
       "    </tr>\n",
       "    <tr>\n",
       "      <th>3</th>\n",
       "      <td>600133</td>\n",
       "      <td>东湖高新</td>\n",
       "      <td>26.81</td>\n",
       "      <td>55.22</td>\n",
       "      <td>11.6396</td>\n",
       "      <td>686.8356</td>\n",
       "      <td>1.0828</td>\n",
       "      <td>1243.7266</td>\n",
       "      <td>1.9609</td>\n",
       "    </tr>\n",
       "    <tr>\n",
       "      <th>4</th>\n",
       "      <td>600354</td>\n",
       "      <td>敦煌种业</td>\n",
       "      <td>23.40</td>\n",
       "      <td>302.21</td>\n",
       "      <td>25.0654</td>\n",
       "      <td>273.7035</td>\n",
       "      <td>0.5185</td>\n",
       "      <td>90.5655</td>\n",
       "      <td>0.1715</td>\n",
       "    </tr>\n",
       "  </tbody>\n",
       "</table>\n",
       "</div>"
      ],
      "text/plain": [
       "     code   name     roe  net_profit_ratio  gross_profit_rate  net_profits  \\\n",
       "0  600423  *ST柳化  215.12             10.30            -1.3970      40.6863   \n",
       "1  600306    商业城   71.97             71.48            17.3030     171.9346   \n",
       "2  000717   韶钢松山   26.83              3.19             6.2247     168.1588   \n",
       "3  600133   东湖高新   26.81             55.22            11.6396     686.8356   \n",
       "4  600354   敦煌种业   23.40            302.21            25.0654     273.7035   \n",
       "\n",
       "      eps  business_income    bips  \n",
       "0  0.1018         394.6887  0.9883  \n",
       "1  0.9651         240.5080  1.3501  \n",
       "2  0.0695        5268.7636  2.1776  \n",
       "3  1.0828        1243.7266  1.9609  \n",
       "4  0.5185          90.5655  0.1715  "
      ]
     },
     "execution_count": 29,
     "metadata": {},
     "output_type": "execute_result"
    }
   ],
   "source": [
    "data_profit.head(5)"
   ]
  },
  {
   "cell_type": "code",
   "execution_count": 30,
   "metadata": {},
   "outputs": [
    {
     "data": {
      "text/html": [
       "<div>\n",
       "<style>\n",
       "    .dataframe thead tr:only-child th {\n",
       "        text-align: right;\n",
       "    }\n",
       "\n",
       "    .dataframe thead th {\n",
       "        text-align: left;\n",
       "    }\n",
       "\n",
       "    .dataframe tbody tr th {\n",
       "        vertical-align: top;\n",
       "    }\n",
       "</style>\n",
       "<table border=\"1\" class=\"dataframe\">\n",
       "  <thead>\n",
       "    <tr style=\"text-align: right;\">\n",
       "      <th></th>\n",
       "      <th>code</th>\n",
       "      <th>name</th>\n",
       "      <th>roe</th>\n",
       "      <th>net_profit_ratio</th>\n",
       "      <th>gross_profit_rate</th>\n",
       "      <th>net_profits</th>\n",
       "      <th>eps</th>\n",
       "      <th>business_income</th>\n",
       "      <th>bips</th>\n",
       "    </tr>\n",
       "  </thead>\n",
       "  <tbody>\n",
       "    <tr>\n",
       "      <th>0</th>\n",
       "      <td>600423</td>\n",
       "      <td>*ST柳化</td>\n",
       "      <td>215.12</td>\n",
       "      <td>10.30</td>\n",
       "      <td>-1.3970</td>\n",
       "      <td>40.6863</td>\n",
       "      <td>0.1018</td>\n",
       "      <td>394.6887</td>\n",
       "      <td>0.9883</td>\n",
       "    </tr>\n",
       "    <tr>\n",
       "      <th>1</th>\n",
       "      <td>600306</td>\n",
       "      <td>商业城</td>\n",
       "      <td>71.97</td>\n",
       "      <td>71.48</td>\n",
       "      <td>17.3030</td>\n",
       "      <td>171.9346</td>\n",
       "      <td>0.9651</td>\n",
       "      <td>240.5080</td>\n",
       "      <td>1.3501</td>\n",
       "    </tr>\n",
       "    <tr>\n",
       "      <th>2</th>\n",
       "      <td>000717</td>\n",
       "      <td>韶钢松山</td>\n",
       "      <td>26.83</td>\n",
       "      <td>3.19</td>\n",
       "      <td>6.2247</td>\n",
       "      <td>168.1588</td>\n",
       "      <td>0.0695</td>\n",
       "      <td>5268.7636</td>\n",
       "      <td>2.1776</td>\n",
       "    </tr>\n",
       "    <tr>\n",
       "      <th>3</th>\n",
       "      <td>600133</td>\n",
       "      <td>东湖高新</td>\n",
       "      <td>26.81</td>\n",
       "      <td>55.22</td>\n",
       "      <td>11.6396</td>\n",
       "      <td>686.8356</td>\n",
       "      <td>1.0828</td>\n",
       "      <td>1243.7266</td>\n",
       "      <td>1.9609</td>\n",
       "    </tr>\n",
       "    <tr>\n",
       "      <th>4</th>\n",
       "      <td>600354</td>\n",
       "      <td>敦煌种业</td>\n",
       "      <td>23.40</td>\n",
       "      <td>302.21</td>\n",
       "      <td>25.0654</td>\n",
       "      <td>273.7035</td>\n",
       "      <td>0.5185</td>\n",
       "      <td>90.5655</td>\n",
       "      <td>0.1715</td>\n",
       "    </tr>\n",
       "  </tbody>\n",
       "</table>\n",
       "</div>"
      ],
      "text/plain": [
       "     code   name     roe  net_profit_ratio  gross_profit_rate  net_profits  \\\n",
       "0  600423  *ST柳化  215.12             10.30            -1.3970      40.6863   \n",
       "1  600306    商业城   71.97             71.48            17.3030     171.9346   \n",
       "2  000717   韶钢松山   26.83              3.19             6.2247     168.1588   \n",
       "3  600133   东湖高新   26.81             55.22            11.6396     686.8356   \n",
       "4  600354   敦煌种业   23.40            302.21            25.0654     273.7035   \n",
       "\n",
       "      eps  business_income    bips  \n",
       "0  0.1018         394.6887  0.9883  \n",
       "1  0.9651         240.5080  1.3501  \n",
       "2  0.0695        5268.7636  2.1776  \n",
       "3  1.0828        1243.7266  1.9609  \n",
       "4  0.5185          90.5655  0.1715  "
      ]
     },
     "execution_count": 30,
     "metadata": {},
     "output_type": "execute_result"
    }
   ],
   "source": [
    "data_profit[data_profit['roe']>15].head()"
   ]
  },
  {
   "cell_type": "code",
   "execution_count": 31,
   "metadata": {},
   "outputs": [
    {
     "data": {
      "text/html": [
       "<div>\n",
       "<style>\n",
       "    .dataframe thead tr:only-child th {\n",
       "        text-align: right;\n",
       "    }\n",
       "\n",
       "    .dataframe thead th {\n",
       "        text-align: left;\n",
       "    }\n",
       "\n",
       "    .dataframe tbody tr th {\n",
       "        vertical-align: top;\n",
       "    }\n",
       "</style>\n",
       "<table border=\"1\" class=\"dataframe\">\n",
       "  <thead>\n",
       "    <tr style=\"text-align: right;\">\n",
       "      <th></th>\n",
       "      <th>code</th>\n",
       "      <th>name</th>\n",
       "      <th>roe</th>\n",
       "      <th>net_profit_ratio</th>\n",
       "      <th>gross_profit_rate</th>\n",
       "      <th>net_profits</th>\n",
       "      <th>eps</th>\n",
       "      <th>business_income</th>\n",
       "      <th>bips</th>\n",
       "    </tr>\n",
       "  </thead>\n",
       "  <tbody>\n",
       "    <tr>\n",
       "      <th>1</th>\n",
       "      <td>600306</td>\n",
       "      <td>商业城</td>\n",
       "      <td>71.97</td>\n",
       "      <td>71.48</td>\n",
       "      <td>17.3030</td>\n",
       "      <td>171.9346</td>\n",
       "      <td>0.9651</td>\n",
       "      <td>240.5080</td>\n",
       "      <td>1.3501</td>\n",
       "    </tr>\n",
       "    <tr>\n",
       "      <th>3</th>\n",
       "      <td>600133</td>\n",
       "      <td>东湖高新</td>\n",
       "      <td>26.81</td>\n",
       "      <td>55.22</td>\n",
       "      <td>11.6396</td>\n",
       "      <td>686.8356</td>\n",
       "      <td>1.0828</td>\n",
       "      <td>1243.7266</td>\n",
       "      <td>1.9609</td>\n",
       "    </tr>\n",
       "    <tr>\n",
       "      <th>4</th>\n",
       "      <td>600354</td>\n",
       "      <td>敦煌种业</td>\n",
       "      <td>23.40</td>\n",
       "      <td>302.21</td>\n",
       "      <td>25.0654</td>\n",
       "      <td>273.7035</td>\n",
       "      <td>0.5185</td>\n",
       "      <td>90.5655</td>\n",
       "      <td>0.1715</td>\n",
       "    </tr>\n",
       "    <tr>\n",
       "      <th>5</th>\n",
       "      <td>600225</td>\n",
       "      <td>*ST松江</td>\n",
       "      <td>22.84</td>\n",
       "      <td>146.43</td>\n",
       "      <td>24.9719</td>\n",
       "      <td>423.3024</td>\n",
       "      <td>0.4524</td>\n",
       "      <td>289.0652</td>\n",
       "      <td>0.3089</td>\n",
       "    </tr>\n",
       "    <tr>\n",
       "      <th>6</th>\n",
       "      <td>600230</td>\n",
       "      <td>沧州大化</td>\n",
       "      <td>21.94</td>\n",
       "      <td>39.66</td>\n",
       "      <td>55.6318</td>\n",
       "      <td>424.8125</td>\n",
       "      <td>1.4440</td>\n",
       "      <td>1070.9230</td>\n",
       "      <td>3.6402</td>\n",
       "    </tr>\n",
       "    <tr>\n",
       "      <th>7</th>\n",
       "      <td>600338</td>\n",
       "      <td>西藏珠峰</td>\n",
       "      <td>20.28</td>\n",
       "      <td>53.09</td>\n",
       "      <td>70.4140</td>\n",
       "      <td>305.8753</td>\n",
       "      <td>0.4684</td>\n",
       "      <td>576.0689</td>\n",
       "      <td>0.8821</td>\n",
       "    </tr>\n",
       "    <tr>\n",
       "      <th>8</th>\n",
       "      <td>000036</td>\n",
       "      <td>华联控股</td>\n",
       "      <td>18.32</td>\n",
       "      <td>42.51</td>\n",
       "      <td>71.4131</td>\n",
       "      <td>758.4114</td>\n",
       "      <td>0.6643</td>\n",
       "      <td>1783.7509</td>\n",
       "      <td>1.5625</td>\n",
       "    </tr>\n",
       "    <tr>\n",
       "      <th>9</th>\n",
       "      <td>300288</td>\n",
       "      <td>朗玛信息</td>\n",
       "      <td>18.30</td>\n",
       "      <td>85.96</td>\n",
       "      <td>26.9264</td>\n",
       "      <td>240.8041</td>\n",
       "      <td>0.7125</td>\n",
       "      <td>280.1342</td>\n",
       "      <td>0.8289</td>\n",
       "    </tr>\n",
       "    <tr>\n",
       "      <th>10</th>\n",
       "      <td>600291</td>\n",
       "      <td>西水股份</td>\n",
       "      <td>17.53</td>\n",
       "      <td>22.32</td>\n",
       "      <td>26.3018</td>\n",
       "      <td>2117.8868</td>\n",
       "      <td>1.9375</td>\n",
       "      <td>9488.7197</td>\n",
       "      <td>8.6808</td>\n",
       "    </tr>\n",
       "    <tr>\n",
       "      <th>13</th>\n",
       "      <td>600633</td>\n",
       "      <td>浙数文化</td>\n",
       "      <td>16.31</td>\n",
       "      <td>192.98</td>\n",
       "      <td>43.5107</td>\n",
       "      <td>1259.7513</td>\n",
       "      <td>0.9676</td>\n",
       "      <td>652.7781</td>\n",
       "      <td>0.5013</td>\n",
       "    </tr>\n",
       "    <tr>\n",
       "      <th>14</th>\n",
       "      <td>600167</td>\n",
       "      <td>联美控股</td>\n",
       "      <td>15.40</td>\n",
       "      <td>43.16</td>\n",
       "      <td>60.2320</td>\n",
       "      <td>451.5746</td>\n",
       "      <td>0.6639</td>\n",
       "      <td>1046.1494</td>\n",
       "      <td>1.5381</td>\n",
       "    </tr>\n",
       "    <tr>\n",
       "      <th>15</th>\n",
       "      <td>002207</td>\n",
       "      <td>*ST准油</td>\n",
       "      <td>15.38</td>\n",
       "      <td>300.95</td>\n",
       "      <td>-47.6736</td>\n",
       "      <td>62.6184</td>\n",
       "      <td>0.2618</td>\n",
       "      <td>20.8069</td>\n",
       "      <td>0.0869</td>\n",
       "    </tr>\n",
       "  </tbody>\n",
       "</table>\n",
       "</div>"
      ],
      "text/plain": [
       "      code   name    roe  net_profit_ratio  gross_profit_rate  net_profits  \\\n",
       "1   600306    商业城  71.97             71.48            17.3030     171.9346   \n",
       "3   600133   东湖高新  26.81             55.22            11.6396     686.8356   \n",
       "4   600354   敦煌种业  23.40            302.21            25.0654     273.7035   \n",
       "5   600225  *ST松江  22.84            146.43            24.9719     423.3024   \n",
       "6   600230   沧州大化  21.94             39.66            55.6318     424.8125   \n",
       "7   600338   西藏珠峰  20.28             53.09            70.4140     305.8753   \n",
       "8   000036   华联控股  18.32             42.51            71.4131     758.4114   \n",
       "9   300288   朗玛信息  18.30             85.96            26.9264     240.8041   \n",
       "10  600291   西水股份  17.53             22.32            26.3018    2117.8868   \n",
       "13  600633   浙数文化  16.31            192.98            43.5107    1259.7513   \n",
       "14  600167   联美控股  15.40             43.16            60.2320     451.5746   \n",
       "15  002207  *ST准油  15.38            300.95           -47.6736      62.6184   \n",
       "\n",
       "       eps  business_income    bips  \n",
       "1   0.9651         240.5080  1.3501  \n",
       "3   1.0828        1243.7266  1.9609  \n",
       "4   0.5185          90.5655  0.1715  \n",
       "5   0.4524         289.0652  0.3089  \n",
       "6   1.4440        1070.9230  3.6402  \n",
       "7   0.4684         576.0689  0.8821  \n",
       "8   0.6643        1783.7509  1.5625  \n",
       "9   0.7125         280.1342  0.8289  \n",
       "10  1.9375        9488.7197  8.6808  \n",
       "13  0.9676         652.7781  0.5013  \n",
       "14  0.6639        1046.1494  1.5381  \n",
       "15  0.2618          20.8069  0.0869  "
      ]
     },
     "execution_count": 31,
     "metadata": {},
     "output_type": "execute_result"
    }
   ],
   "source": [
    "data_profit[(data_profit['roe']>15) & (data_profit['net_profit_ratio']>20)]      #数据库调取数据并进行多条件选股；\n"
   ]
  }
 ],
 "metadata": {
  "anaconda-cloud": {},
  "kernelspec": {
   "display_name": "Python 3",
   "language": "python",
   "name": "python3"
  },
  "language_info": {
   "codemirror_mode": {
    "name": "ipython",
    "version": 3
   },
   "file_extension": ".py",
   "mimetype": "text/x-python",
   "name": "python",
   "nbconvert_exporter": "python",
   "pygments_lexer": "ipython3",
   "version": "3.7.4"
  }
 },
 "nbformat": 4,
 "nbformat_minor": 1
}
